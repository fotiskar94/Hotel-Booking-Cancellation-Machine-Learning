{
 "cells": [
  {
   "cell_type": "code",
   "execution_count": 1,
   "id": "7e726eef-b6d5-4ff7-9f21-c307ddab6238",
   "metadata": {},
   "outputs": [],
   "source": [
    "import numpy as np\n",
    "import pandas as pd"
   ]
  },
  {
   "cell_type": "code",
   "execution_count": 2,
   "id": "7a75016e-f289-41ce-88cf-8098452d8365",
   "metadata": {},
   "outputs": [],
   "source": [
    "import pickle"
   ]
  },
  {
   "cell_type": "code",
   "execution_count": 3,
   "id": "1f74f5e0-5c7e-4ab2-8d6f-1a1becedddf4",
   "metadata": {},
   "outputs": [],
   "source": [
    "import matplotlib.pyplot as plt\n",
    "import seaborn as sns\n",
    "#from matplotlib_venn import venn2, venn2_circles \n",
    "from tqdm import tqdm"
   ]
  },
  {
   "cell_type": "code",
   "execution_count": 4,
   "id": "359d8836-e569-4501-9d90-ba82b448b83f",
   "metadata": {},
   "outputs": [],
   "source": [
    "from sklearn.model_selection import train_test_split\n",
    "from sklearn.preprocessing import StandardScaler, MinMaxScaler, RobustScaler"
   ]
  },
  {
   "cell_type": "code",
   "execution_count": 5,
   "id": "b30d18dc-c2ac-4332-852b-ec93012afeed",
   "metadata": {},
   "outputs": [],
   "source": [
    "from sklearn.pipeline import Pipeline\n",
    "from sklearn.model_selection import GridSearchCV\n",
    "from sklearn.ensemble import RandomForestClassifier\n",
    "import xgboost as xgb\n",
    "from sklearn.svm import SVC"
   ]
  },
  {
   "cell_type": "code",
   "execution_count": 6,
   "id": "7578b81a-9ba8-4b91-ad07-2854d0d3dc32",
   "metadata": {},
   "outputs": [],
   "source": [
    "from sklearn.feature_selection import SelectKBest, chi2, mutual_info_classif,SelectFromModel\n",
    "from mrmr import mrmr_classif, mrmr_regression"
   ]
  },
  {
   "cell_type": "code",
   "execution_count": 7,
   "id": "e9019390-710f-41cf-9aeb-67fe59c66e9e",
   "metadata": {},
   "outputs": [],
   "source": [
    "from sklearn.metrics import f1_score, balanced_accuracy_score\n",
    "from sklearn.metrics import classification_report,confusion_matrix"
   ]
  },
  {
   "cell_type": "code",
   "execution_count": null,
   "id": "3e09f689-6e44-4a4a-b449-f30401aa729d",
   "metadata": {},
   "outputs": [],
   "source": []
  },
  {
   "cell_type": "code",
   "execution_count": 8,
   "id": "246a1a22-3c20-4f10-8a6e-447451eee802",
   "metadata": {},
   "outputs": [],
   "source": [
    "df = pd.read_csv('final_df.csv')"
   ]
  },
  {
   "cell_type": "code",
   "execution_count": 9,
   "id": "1532310d-358b-4314-811a-5f1092acbced",
   "metadata": {},
   "outputs": [],
   "source": [
    "pd.set_option('display.max_columns', None)"
   ]
  },
  {
   "cell_type": "code",
   "execution_count": null,
   "id": "51689eef-8514-47c5-9565-53a3e3193307",
   "metadata": {},
   "outputs": [],
   "source": []
  },
  {
   "cell_type": "code",
   "execution_count": 10,
   "id": "f80bb2cb-21a4-4cff-803b-d2e2a0e059cf",
   "metadata": {},
   "outputs": [
    {
     "data": {
      "text/plain": [
       "0    72476\n",
       "1    42292\n",
       "Name: is_canceled, dtype: int64"
      ]
     },
     "execution_count": 10,
     "metadata": {},
     "output_type": "execute_result"
    }
   ],
   "source": [
    "df['is_canceled'].value_counts()"
   ]
  },
  {
   "cell_type": "code",
   "execution_count": null,
   "id": "5ba165a7-e581-4e6c-8394-96015feb4684",
   "metadata": {},
   "outputs": [],
   "source": []
  },
  {
   "cell_type": "markdown",
   "id": "868b6d04-2793-441a-bea3-ecb028a53e09",
   "metadata": {},
   "source": [
    "# Grid Search"
   ]
  },
  {
   "cell_type": "code",
   "execution_count": 79,
   "id": "eca67f61-18be-4f80-9e1d-f1adeaeaf8a0",
   "metadata": {},
   "outputs": [],
   "source": [
    "df_test = df.sample(n = 10000, random_state=42)"
   ]
  },
  {
   "cell_type": "code",
   "execution_count": 80,
   "id": "dfb7ef70-cbc8-4a87-89b0-7be4a7291f2b",
   "metadata": {},
   "outputs": [],
   "source": [
    "X = df_test.iloc[:,1:]"
   ]
  },
  {
   "cell_type": "code",
   "execution_count": 81,
   "id": "b9e4ef13-d791-40d6-8fe6-bcab7d65e8c1",
   "metadata": {},
   "outputs": [],
   "source": [
    "y = df_test.iloc[:,0]"
   ]
  },
  {
   "cell_type": "code",
   "execution_count": 82,
   "id": "0c0dc1d2",
   "metadata": {},
   "outputs": [
    {
     "data": {
      "text/html": [
       "<div>\n",
       "<style scoped>\n",
       "    .dataframe tbody tr th:only-of-type {\n",
       "        vertical-align: middle;\n",
       "    }\n",
       "\n",
       "    .dataframe tbody tr th {\n",
       "        vertical-align: top;\n",
       "    }\n",
       "\n",
       "    .dataframe thead th {\n",
       "        text-align: right;\n",
       "    }\n",
       "</style>\n",
       "<table border=\"1\" class=\"dataframe\">\n",
       "  <thead>\n",
       "    <tr style=\"text-align: right;\">\n",
       "      <th></th>\n",
       "      <th>is_canceled</th>\n",
       "      <th>lead_time</th>\n",
       "      <th>arrival_date_week_number</th>\n",
       "      <th>arrival_date_day_of_month</th>\n",
       "      <th>stays_in_weekend_nights</th>\n",
       "      <th>stays_in_week_nights</th>\n",
       "      <th>adults</th>\n",
       "      <th>children</th>\n",
       "      <th>babies</th>\n",
       "      <th>is_repeated_guest</th>\n",
       "      <th>previous_cancellations</th>\n",
       "      <th>previous_bookings_not_canceled</th>\n",
       "      <th>booking_changes</th>\n",
       "      <th>days_in_waiting_list</th>\n",
       "      <th>adr</th>\n",
       "      <th>required_car_parking_spaces</th>\n",
       "      <th>total_of_special_requests</th>\n",
       "      <th>hotel_Resort Hotel</th>\n",
       "      <th>meal_FB</th>\n",
       "      <th>meal_HB</th>\n",
       "      <th>meal_SC</th>\n",
       "      <th>meal_Undefined</th>\n",
       "      <th>market_segment_Complementary</th>\n",
       "      <th>market_segment_Corporate</th>\n",
       "      <th>market_segment_Direct</th>\n",
       "      <th>market_segment_Groups</th>\n",
       "      <th>market_segment_Offline TA/TO</th>\n",
       "      <th>market_segment_Online TA</th>\n",
       "      <th>market_segment_Undefined</th>\n",
       "      <th>distribution_channel_GDS</th>\n",
       "      <th>distribution_channel_TA/TO</th>\n",
       "      <th>distribution_channel_Undefined</th>\n",
       "      <th>reserved_room_type_B</th>\n",
       "      <th>reserved_room_type_C</th>\n",
       "      <th>reserved_room_type_D</th>\n",
       "      <th>reserved_room_type_E</th>\n",
       "      <th>reserved_room_type_F</th>\n",
       "      <th>reserved_room_type_G</th>\n",
       "      <th>reserved_room_type_H</th>\n",
       "      <th>reserved_room_type_L</th>\n",
       "      <th>deposit_type_Non Refund</th>\n",
       "      <th>deposit_type_Refundable</th>\n",
       "      <th>customer_type_Group</th>\n",
       "      <th>customer_type_Transient</th>\n",
       "      <th>customer_type_Transient-Party</th>\n",
       "    </tr>\n",
       "  </thead>\n",
       "  <tbody>\n",
       "    <tr>\n",
       "      <th>1841</th>\n",
       "      <td>0</td>\n",
       "      <td>87</td>\n",
       "      <td>38</td>\n",
       "      <td>19</td>\n",
       "      <td>4</td>\n",
       "      <td>6</td>\n",
       "      <td>2</td>\n",
       "      <td>0.0</td>\n",
       "      <td>0</td>\n",
       "      <td>0</td>\n",
       "      <td>0</td>\n",
       "      <td>0</td>\n",
       "      <td>0</td>\n",
       "      <td>0</td>\n",
       "      <td>59.20</td>\n",
       "      <td>0</td>\n",
       "      <td>2</td>\n",
       "      <td>1</td>\n",
       "      <td>0</td>\n",
       "      <td>0</td>\n",
       "      <td>0</td>\n",
       "      <td>0</td>\n",
       "      <td>0</td>\n",
       "      <td>0</td>\n",
       "      <td>0</td>\n",
       "      <td>0</td>\n",
       "      <td>1</td>\n",
       "      <td>0</td>\n",
       "      <td>0</td>\n",
       "      <td>0</td>\n",
       "      <td>1</td>\n",
       "      <td>0</td>\n",
       "      <td>0</td>\n",
       "      <td>0</td>\n",
       "      <td>0</td>\n",
       "      <td>0</td>\n",
       "      <td>0</td>\n",
       "      <td>0</td>\n",
       "      <td>0</td>\n",
       "      <td>0</td>\n",
       "      <td>0</td>\n",
       "      <td>0</td>\n",
       "      <td>0</td>\n",
       "      <td>0</td>\n",
       "      <td>1</td>\n",
       "    </tr>\n",
       "    <tr>\n",
       "      <th>29066</th>\n",
       "      <td>0</td>\n",
       "      <td>158</td>\n",
       "      <td>44</td>\n",
       "      <td>29</td>\n",
       "      <td>2</td>\n",
       "      <td>5</td>\n",
       "      <td>2</td>\n",
       "      <td>0.0</td>\n",
       "      <td>0</td>\n",
       "      <td>0</td>\n",
       "      <td>0</td>\n",
       "      <td>0</td>\n",
       "      <td>0</td>\n",
       "      <td>0</td>\n",
       "      <td>37.14</td>\n",
       "      <td>0</td>\n",
       "      <td>2</td>\n",
       "      <td>1</td>\n",
       "      <td>0</td>\n",
       "      <td>0</td>\n",
       "      <td>0</td>\n",
       "      <td>0</td>\n",
       "      <td>0</td>\n",
       "      <td>0</td>\n",
       "      <td>0</td>\n",
       "      <td>0</td>\n",
       "      <td>0</td>\n",
       "      <td>1</td>\n",
       "      <td>0</td>\n",
       "      <td>0</td>\n",
       "      <td>1</td>\n",
       "      <td>0</td>\n",
       "      <td>0</td>\n",
       "      <td>0</td>\n",
       "      <td>1</td>\n",
       "      <td>0</td>\n",
       "      <td>0</td>\n",
       "      <td>0</td>\n",
       "      <td>0</td>\n",
       "      <td>0</td>\n",
       "      <td>0</td>\n",
       "      <td>0</td>\n",
       "      <td>0</td>\n",
       "      <td>1</td>\n",
       "      <td>0</td>\n",
       "    </tr>\n",
       "    <tr>\n",
       "      <th>85764</th>\n",
       "      <td>0</td>\n",
       "      <td>105</td>\n",
       "      <td>21</td>\n",
       "      <td>16</td>\n",
       "      <td>1</td>\n",
       "      <td>3</td>\n",
       "      <td>2</td>\n",
       "      <td>0.0</td>\n",
       "      <td>0</td>\n",
       "      <td>0</td>\n",
       "      <td>0</td>\n",
       "      <td>0</td>\n",
       "      <td>0</td>\n",
       "      <td>0</td>\n",
       "      <td>119.85</td>\n",
       "      <td>0</td>\n",
       "      <td>1</td>\n",
       "      <td>0</td>\n",
       "      <td>0</td>\n",
       "      <td>0</td>\n",
       "      <td>0</td>\n",
       "      <td>0</td>\n",
       "      <td>0</td>\n",
       "      <td>0</td>\n",
       "      <td>0</td>\n",
       "      <td>0</td>\n",
       "      <td>0</td>\n",
       "      <td>1</td>\n",
       "      <td>0</td>\n",
       "      <td>0</td>\n",
       "      <td>1</td>\n",
       "      <td>0</td>\n",
       "      <td>0</td>\n",
       "      <td>0</td>\n",
       "      <td>0</td>\n",
       "      <td>0</td>\n",
       "      <td>0</td>\n",
       "      <td>0</td>\n",
       "      <td>0</td>\n",
       "      <td>0</td>\n",
       "      <td>0</td>\n",
       "      <td>0</td>\n",
       "      <td>0</td>\n",
       "      <td>1</td>\n",
       "      <td>0</td>\n",
       "    </tr>\n",
       "    <tr>\n",
       "      <th>80278</th>\n",
       "      <td>0</td>\n",
       "      <td>2</td>\n",
       "      <td>6</td>\n",
       "      <td>6</td>\n",
       "      <td>2</td>\n",
       "      <td>2</td>\n",
       "      <td>3</td>\n",
       "      <td>0.0</td>\n",
       "      <td>0</td>\n",
       "      <td>0</td>\n",
       "      <td>0</td>\n",
       "      <td>0</td>\n",
       "      <td>0</td>\n",
       "      <td>0</td>\n",
       "      <td>130.00</td>\n",
       "      <td>0</td>\n",
       "      <td>2</td>\n",
       "      <td>0</td>\n",
       "      <td>0</td>\n",
       "      <td>0</td>\n",
       "      <td>0</td>\n",
       "      <td>0</td>\n",
       "      <td>0</td>\n",
       "      <td>0</td>\n",
       "      <td>0</td>\n",
       "      <td>0</td>\n",
       "      <td>0</td>\n",
       "      <td>1</td>\n",
       "      <td>0</td>\n",
       "      <td>0</td>\n",
       "      <td>1</td>\n",
       "      <td>0</td>\n",
       "      <td>0</td>\n",
       "      <td>0</td>\n",
       "      <td>1</td>\n",
       "      <td>0</td>\n",
       "      <td>0</td>\n",
       "      <td>0</td>\n",
       "      <td>0</td>\n",
       "      <td>0</td>\n",
       "      <td>0</td>\n",
       "      <td>0</td>\n",
       "      <td>0</td>\n",
       "      <td>1</td>\n",
       "      <td>0</td>\n",
       "    </tr>\n",
       "    <tr>\n",
       "      <th>7770</th>\n",
       "      <td>1</td>\n",
       "      <td>60</td>\n",
       "      <td>36</td>\n",
       "      <td>3</td>\n",
       "      <td>2</td>\n",
       "      <td>5</td>\n",
       "      <td>3</td>\n",
       "      <td>0.0</td>\n",
       "      <td>0</td>\n",
       "      <td>0</td>\n",
       "      <td>0</td>\n",
       "      <td>0</td>\n",
       "      <td>0</td>\n",
       "      <td>0</td>\n",
       "      <td>156.54</td>\n",
       "      <td>0</td>\n",
       "      <td>0</td>\n",
       "      <td>1</td>\n",
       "      <td>0</td>\n",
       "      <td>0</td>\n",
       "      <td>0</td>\n",
       "      <td>0</td>\n",
       "      <td>0</td>\n",
       "      <td>0</td>\n",
       "      <td>0</td>\n",
       "      <td>0</td>\n",
       "      <td>0</td>\n",
       "      <td>1</td>\n",
       "      <td>0</td>\n",
       "      <td>0</td>\n",
       "      <td>1</td>\n",
       "      <td>0</td>\n",
       "      <td>0</td>\n",
       "      <td>0</td>\n",
       "      <td>0</td>\n",
       "      <td>0</td>\n",
       "      <td>1</td>\n",
       "      <td>0</td>\n",
       "      <td>0</td>\n",
       "      <td>0</td>\n",
       "      <td>0</td>\n",
       "      <td>0</td>\n",
       "      <td>0</td>\n",
       "      <td>1</td>\n",
       "      <td>0</td>\n",
       "    </tr>\n",
       "    <tr>\n",
       "      <th>...</th>\n",
       "      <td>...</td>\n",
       "      <td>...</td>\n",
       "      <td>...</td>\n",
       "      <td>...</td>\n",
       "      <td>...</td>\n",
       "      <td>...</td>\n",
       "      <td>...</td>\n",
       "      <td>...</td>\n",
       "      <td>...</td>\n",
       "      <td>...</td>\n",
       "      <td>...</td>\n",
       "      <td>...</td>\n",
       "      <td>...</td>\n",
       "      <td>...</td>\n",
       "      <td>...</td>\n",
       "      <td>...</td>\n",
       "      <td>...</td>\n",
       "      <td>...</td>\n",
       "      <td>...</td>\n",
       "      <td>...</td>\n",
       "      <td>...</td>\n",
       "      <td>...</td>\n",
       "      <td>...</td>\n",
       "      <td>...</td>\n",
       "      <td>...</td>\n",
       "      <td>...</td>\n",
       "      <td>...</td>\n",
       "      <td>...</td>\n",
       "      <td>...</td>\n",
       "      <td>...</td>\n",
       "      <td>...</td>\n",
       "      <td>...</td>\n",
       "      <td>...</td>\n",
       "      <td>...</td>\n",
       "      <td>...</td>\n",
       "      <td>...</td>\n",
       "      <td>...</td>\n",
       "      <td>...</td>\n",
       "      <td>...</td>\n",
       "      <td>...</td>\n",
       "      <td>...</td>\n",
       "      <td>...</td>\n",
       "      <td>...</td>\n",
       "      <td>...</td>\n",
       "      <td>...</td>\n",
       "    </tr>\n",
       "    <tr>\n",
       "      <th>11129</th>\n",
       "      <td>1</td>\n",
       "      <td>202</td>\n",
       "      <td>18</td>\n",
       "      <td>4</td>\n",
       "      <td>0</td>\n",
       "      <td>1</td>\n",
       "      <td>2</td>\n",
       "      <td>0.0</td>\n",
       "      <td>0</td>\n",
       "      <td>0</td>\n",
       "      <td>0</td>\n",
       "      <td>0</td>\n",
       "      <td>0</td>\n",
       "      <td>0</td>\n",
       "      <td>90.00</td>\n",
       "      <td>0</td>\n",
       "      <td>0</td>\n",
       "      <td>1</td>\n",
       "      <td>0</td>\n",
       "      <td>1</td>\n",
       "      <td>0</td>\n",
       "      <td>0</td>\n",
       "      <td>0</td>\n",
       "      <td>0</td>\n",
       "      <td>0</td>\n",
       "      <td>1</td>\n",
       "      <td>0</td>\n",
       "      <td>0</td>\n",
       "      <td>0</td>\n",
       "      <td>0</td>\n",
       "      <td>1</td>\n",
       "      <td>0</td>\n",
       "      <td>0</td>\n",
       "      <td>0</td>\n",
       "      <td>1</td>\n",
       "      <td>0</td>\n",
       "      <td>0</td>\n",
       "      <td>0</td>\n",
       "      <td>0</td>\n",
       "      <td>0</td>\n",
       "      <td>0</td>\n",
       "      <td>0</td>\n",
       "      <td>0</td>\n",
       "      <td>0</td>\n",
       "      <td>1</td>\n",
       "    </tr>\n",
       "    <tr>\n",
       "      <th>95923</th>\n",
       "      <td>0</td>\n",
       "      <td>377</td>\n",
       "      <td>42</td>\n",
       "      <td>14</td>\n",
       "      <td>0</td>\n",
       "      <td>2</td>\n",
       "      <td>2</td>\n",
       "      <td>0.0</td>\n",
       "      <td>0</td>\n",
       "      <td>0</td>\n",
       "      <td>0</td>\n",
       "      <td>0</td>\n",
       "      <td>0</td>\n",
       "      <td>0</td>\n",
       "      <td>115.00</td>\n",
       "      <td>0</td>\n",
       "      <td>1</td>\n",
       "      <td>0</td>\n",
       "      <td>0</td>\n",
       "      <td>1</td>\n",
       "      <td>0</td>\n",
       "      <td>0</td>\n",
       "      <td>0</td>\n",
       "      <td>0</td>\n",
       "      <td>0</td>\n",
       "      <td>0</td>\n",
       "      <td>1</td>\n",
       "      <td>0</td>\n",
       "      <td>0</td>\n",
       "      <td>0</td>\n",
       "      <td>1</td>\n",
       "      <td>0</td>\n",
       "      <td>0</td>\n",
       "      <td>0</td>\n",
       "      <td>0</td>\n",
       "      <td>0</td>\n",
       "      <td>0</td>\n",
       "      <td>0</td>\n",
       "      <td>0</td>\n",
       "      <td>0</td>\n",
       "      <td>0</td>\n",
       "      <td>0</td>\n",
       "      <td>0</td>\n",
       "      <td>0</td>\n",
       "      <td>1</td>\n",
       "    </tr>\n",
       "    <tr>\n",
       "      <th>91139</th>\n",
       "      <td>0</td>\n",
       "      <td>4</td>\n",
       "      <td>32</td>\n",
       "      <td>5</td>\n",
       "      <td>2</td>\n",
       "      <td>2</td>\n",
       "      <td>2</td>\n",
       "      <td>0.0</td>\n",
       "      <td>0</td>\n",
       "      <td>0</td>\n",
       "      <td>0</td>\n",
       "      <td>0</td>\n",
       "      <td>0</td>\n",
       "      <td>0</td>\n",
       "      <td>151.00</td>\n",
       "      <td>0</td>\n",
       "      <td>1</td>\n",
       "      <td>0</td>\n",
       "      <td>0</td>\n",
       "      <td>0</td>\n",
       "      <td>0</td>\n",
       "      <td>0</td>\n",
       "      <td>0</td>\n",
       "      <td>0</td>\n",
       "      <td>0</td>\n",
       "      <td>0</td>\n",
       "      <td>0</td>\n",
       "      <td>1</td>\n",
       "      <td>0</td>\n",
       "      <td>0</td>\n",
       "      <td>1</td>\n",
       "      <td>0</td>\n",
       "      <td>0</td>\n",
       "      <td>0</td>\n",
       "      <td>0</td>\n",
       "      <td>0</td>\n",
       "      <td>0</td>\n",
       "      <td>0</td>\n",
       "      <td>0</td>\n",
       "      <td>0</td>\n",
       "      <td>0</td>\n",
       "      <td>0</td>\n",
       "      <td>0</td>\n",
       "      <td>1</td>\n",
       "      <td>0</td>\n",
       "    </tr>\n",
       "    <tr>\n",
       "      <th>86870</th>\n",
       "      <td>0</td>\n",
       "      <td>15</td>\n",
       "      <td>23</td>\n",
       "      <td>30</td>\n",
       "      <td>2</td>\n",
       "      <td>5</td>\n",
       "      <td>2</td>\n",
       "      <td>0.0</td>\n",
       "      <td>0</td>\n",
       "      <td>0</td>\n",
       "      <td>0</td>\n",
       "      <td>0</td>\n",
       "      <td>0</td>\n",
       "      <td>0</td>\n",
       "      <td>115.84</td>\n",
       "      <td>0</td>\n",
       "      <td>1</td>\n",
       "      <td>0</td>\n",
       "      <td>0</td>\n",
       "      <td>0</td>\n",
       "      <td>0</td>\n",
       "      <td>0</td>\n",
       "      <td>0</td>\n",
       "      <td>0</td>\n",
       "      <td>1</td>\n",
       "      <td>0</td>\n",
       "      <td>0</td>\n",
       "      <td>0</td>\n",
       "      <td>0</td>\n",
       "      <td>0</td>\n",
       "      <td>0</td>\n",
       "      <td>0</td>\n",
       "      <td>0</td>\n",
       "      <td>0</td>\n",
       "      <td>1</td>\n",
       "      <td>0</td>\n",
       "      <td>0</td>\n",
       "      <td>0</td>\n",
       "      <td>0</td>\n",
       "      <td>0</td>\n",
       "      <td>0</td>\n",
       "      <td>0</td>\n",
       "      <td>0</td>\n",
       "      <td>1</td>\n",
       "      <td>0</td>\n",
       "    </tr>\n",
       "    <tr>\n",
       "      <th>101495</th>\n",
       "      <td>0</td>\n",
       "      <td>13</td>\n",
       "      <td>6</td>\n",
       "      <td>7</td>\n",
       "      <td>0</td>\n",
       "      <td>2</td>\n",
       "      <td>2</td>\n",
       "      <td>0.0</td>\n",
       "      <td>0</td>\n",
       "      <td>0</td>\n",
       "      <td>0</td>\n",
       "      <td>0</td>\n",
       "      <td>1</td>\n",
       "      <td>0</td>\n",
       "      <td>85.46</td>\n",
       "      <td>0</td>\n",
       "      <td>3</td>\n",
       "      <td>0</td>\n",
       "      <td>0</td>\n",
       "      <td>0</td>\n",
       "      <td>0</td>\n",
       "      <td>0</td>\n",
       "      <td>0</td>\n",
       "      <td>0</td>\n",
       "      <td>0</td>\n",
       "      <td>0</td>\n",
       "      <td>0</td>\n",
       "      <td>1</td>\n",
       "      <td>0</td>\n",
       "      <td>0</td>\n",
       "      <td>1</td>\n",
       "      <td>0</td>\n",
       "      <td>0</td>\n",
       "      <td>0</td>\n",
       "      <td>0</td>\n",
       "      <td>0</td>\n",
       "      <td>0</td>\n",
       "      <td>0</td>\n",
       "      <td>0</td>\n",
       "      <td>0</td>\n",
       "      <td>0</td>\n",
       "      <td>0</td>\n",
       "      <td>0</td>\n",
       "      <td>1</td>\n",
       "      <td>0</td>\n",
       "    </tr>\n",
       "  </tbody>\n",
       "</table>\n",
       "<p>10000 rows × 45 columns</p>\n",
       "</div>"
      ],
      "text/plain": [
       "        is_canceled  lead_time  arrival_date_week_number  \\\n",
       "1841              0         87                        38   \n",
       "29066             0        158                        44   \n",
       "85764             0        105                        21   \n",
       "80278             0          2                         6   \n",
       "7770              1         60                        36   \n",
       "...             ...        ...                       ...   \n",
       "11129             1        202                        18   \n",
       "95923             0        377                        42   \n",
       "91139             0          4                        32   \n",
       "86870             0         15                        23   \n",
       "101495            0         13                         6   \n",
       "\n",
       "        arrival_date_day_of_month  stays_in_weekend_nights  \\\n",
       "1841                           19                        4   \n",
       "29066                          29                        2   \n",
       "85764                          16                        1   \n",
       "80278                           6                        2   \n",
       "7770                            3                        2   \n",
       "...                           ...                      ...   \n",
       "11129                           4                        0   \n",
       "95923                          14                        0   \n",
       "91139                           5                        2   \n",
       "86870                          30                        2   \n",
       "101495                          7                        0   \n",
       "\n",
       "        stays_in_week_nights  adults  children  babies  is_repeated_guest  \\\n",
       "1841                       6       2       0.0       0                  0   \n",
       "29066                      5       2       0.0       0                  0   \n",
       "85764                      3       2       0.0       0                  0   \n",
       "80278                      2       3       0.0       0                  0   \n",
       "7770                       5       3       0.0       0                  0   \n",
       "...                      ...     ...       ...     ...                ...   \n",
       "11129                      1       2       0.0       0                  0   \n",
       "95923                      2       2       0.0       0                  0   \n",
       "91139                      2       2       0.0       0                  0   \n",
       "86870                      5       2       0.0       0                  0   \n",
       "101495                     2       2       0.0       0                  0   \n",
       "\n",
       "        previous_cancellations  previous_bookings_not_canceled  \\\n",
       "1841                         0                               0   \n",
       "29066                        0                               0   \n",
       "85764                        0                               0   \n",
       "80278                        0                               0   \n",
       "7770                         0                               0   \n",
       "...                        ...                             ...   \n",
       "11129                        0                               0   \n",
       "95923                        0                               0   \n",
       "91139                        0                               0   \n",
       "86870                        0                               0   \n",
       "101495                       0                               0   \n",
       "\n",
       "        booking_changes  days_in_waiting_list     adr  \\\n",
       "1841                  0                     0   59.20   \n",
       "29066                 0                     0   37.14   \n",
       "85764                 0                     0  119.85   \n",
       "80278                 0                     0  130.00   \n",
       "7770                  0                     0  156.54   \n",
       "...                 ...                   ...     ...   \n",
       "11129                 0                     0   90.00   \n",
       "95923                 0                     0  115.00   \n",
       "91139                 0                     0  151.00   \n",
       "86870                 0                     0  115.84   \n",
       "101495                1                     0   85.46   \n",
       "\n",
       "        required_car_parking_spaces  total_of_special_requests  \\\n",
       "1841                              0                          2   \n",
       "29066                             0                          2   \n",
       "85764                             0                          1   \n",
       "80278                             0                          2   \n",
       "7770                              0                          0   \n",
       "...                             ...                        ...   \n",
       "11129                             0                          0   \n",
       "95923                             0                          1   \n",
       "91139                             0                          1   \n",
       "86870                             0                          1   \n",
       "101495                            0                          3   \n",
       "\n",
       "        hotel_Resort Hotel  meal_FB  meal_HB  meal_SC  meal_Undefined  \\\n",
       "1841                     1        0        0        0               0   \n",
       "29066                    1        0        0        0               0   \n",
       "85764                    0        0        0        0               0   \n",
       "80278                    0        0        0        0               0   \n",
       "7770                     1        0        0        0               0   \n",
       "...                    ...      ...      ...      ...             ...   \n",
       "11129                    1        0        1        0               0   \n",
       "95923                    0        0        1        0               0   \n",
       "91139                    0        0        0        0               0   \n",
       "86870                    0        0        0        0               0   \n",
       "101495                   0        0        0        0               0   \n",
       "\n",
       "        market_segment_Complementary  market_segment_Corporate  \\\n",
       "1841                               0                         0   \n",
       "29066                              0                         0   \n",
       "85764                              0                         0   \n",
       "80278                              0                         0   \n",
       "7770                               0                         0   \n",
       "...                              ...                       ...   \n",
       "11129                              0                         0   \n",
       "95923                              0                         0   \n",
       "91139                              0                         0   \n",
       "86870                              0                         0   \n",
       "101495                             0                         0   \n",
       "\n",
       "        market_segment_Direct  market_segment_Groups  \\\n",
       "1841                        0                      0   \n",
       "29066                       0                      0   \n",
       "85764                       0                      0   \n",
       "80278                       0                      0   \n",
       "7770                        0                      0   \n",
       "...                       ...                    ...   \n",
       "11129                       0                      1   \n",
       "95923                       0                      0   \n",
       "91139                       0                      0   \n",
       "86870                       1                      0   \n",
       "101495                      0                      0   \n",
       "\n",
       "        market_segment_Offline TA/TO  market_segment_Online TA  \\\n",
       "1841                               1                         0   \n",
       "29066                              0                         1   \n",
       "85764                              0                         1   \n",
       "80278                              0                         1   \n",
       "7770                               0                         1   \n",
       "...                              ...                       ...   \n",
       "11129                              0                         0   \n",
       "95923                              1                         0   \n",
       "91139                              0                         1   \n",
       "86870                              0                         0   \n",
       "101495                             0                         1   \n",
       "\n",
       "        market_segment_Undefined  distribution_channel_GDS  \\\n",
       "1841                           0                         0   \n",
       "29066                          0                         0   \n",
       "85764                          0                         0   \n",
       "80278                          0                         0   \n",
       "7770                           0                         0   \n",
       "...                          ...                       ...   \n",
       "11129                          0                         0   \n",
       "95923                          0                         0   \n",
       "91139                          0                         0   \n",
       "86870                          0                         0   \n",
       "101495                         0                         0   \n",
       "\n",
       "        distribution_channel_TA/TO  distribution_channel_Undefined  \\\n",
       "1841                             1                               0   \n",
       "29066                            1                               0   \n",
       "85764                            1                               0   \n",
       "80278                            1                               0   \n",
       "7770                             1                               0   \n",
       "...                            ...                             ...   \n",
       "11129                            1                               0   \n",
       "95923                            1                               0   \n",
       "91139                            1                               0   \n",
       "86870                            0                               0   \n",
       "101495                           1                               0   \n",
       "\n",
       "        reserved_room_type_B  reserved_room_type_C  reserved_room_type_D  \\\n",
       "1841                       0                     0                     0   \n",
       "29066                      0                     0                     1   \n",
       "85764                      0                     0                     0   \n",
       "80278                      0                     0                     1   \n",
       "7770                       0                     0                     0   \n",
       "...                      ...                   ...                   ...   \n",
       "11129                      0                     0                     1   \n",
       "95923                      0                     0                     0   \n",
       "91139                      0                     0                     0   \n",
       "86870                      0                     0                     1   \n",
       "101495                     0                     0                     0   \n",
       "\n",
       "        reserved_room_type_E  reserved_room_type_F  reserved_room_type_G  \\\n",
       "1841                       0                     0                     0   \n",
       "29066                      0                     0                     0   \n",
       "85764                      0                     0                     0   \n",
       "80278                      0                     0                     0   \n",
       "7770                       0                     1                     0   \n",
       "...                      ...                   ...                   ...   \n",
       "11129                      0                     0                     0   \n",
       "95923                      0                     0                     0   \n",
       "91139                      0                     0                     0   \n",
       "86870                      0                     0                     0   \n",
       "101495                     0                     0                     0   \n",
       "\n",
       "        reserved_room_type_H  reserved_room_type_L  deposit_type_Non Refund  \\\n",
       "1841                       0                     0                        0   \n",
       "29066                      0                     0                        0   \n",
       "85764                      0                     0                        0   \n",
       "80278                      0                     0                        0   \n",
       "7770                       0                     0                        0   \n",
       "...                      ...                   ...                      ...   \n",
       "11129                      0                     0                        0   \n",
       "95923                      0                     0                        0   \n",
       "91139                      0                     0                        0   \n",
       "86870                      0                     0                        0   \n",
       "101495                     0                     0                        0   \n",
       "\n",
       "        deposit_type_Refundable  customer_type_Group  customer_type_Transient  \\\n",
       "1841                          0                    0                        0   \n",
       "29066                         0                    0                        1   \n",
       "85764                         0                    0                        1   \n",
       "80278                         0                    0                        1   \n",
       "7770                          0                    0                        1   \n",
       "...                         ...                  ...                      ...   \n",
       "11129                         0                    0                        0   \n",
       "95923                         0                    0                        0   \n",
       "91139                         0                    0                        1   \n",
       "86870                         0                    0                        1   \n",
       "101495                        0                    0                        1   \n",
       "\n",
       "        customer_type_Transient-Party  \n",
       "1841                                1  \n",
       "29066                               0  \n",
       "85764                               0  \n",
       "80278                               0  \n",
       "7770                                0  \n",
       "...                               ...  \n",
       "11129                               1  \n",
       "95923                               1  \n",
       "91139                               0  \n",
       "86870                               0  \n",
       "101495                              0  \n",
       "\n",
       "[10000 rows x 45 columns]"
      ]
     },
     "execution_count": 82,
     "metadata": {},
     "output_type": "execute_result"
    }
   ],
   "source": [
    "df_test"
   ]
  },
  {
   "cell_type": "code",
   "execution_count": 83,
   "id": "93e9be17-77c0-40c7-91ec-04f35950eb37",
   "metadata": {},
   "outputs": [],
   "source": [
    "X_train, X_test, y_train,y_test = train_test_split(X, y, random_state = 42, stratify=y)"
   ]
  },
  {
   "cell_type": "code",
   "execution_count": 84,
   "id": "14619e1d-155e-4ee9-b387-9881422b44c8",
   "metadata": {},
   "outputs": [],
   "source": [
    "classifiers = [\n",
    "    RandomForestClassifier(class_weight='balanced'),\n",
    "    xgb.XGBClassifier(),\n",
    "    SVC()]"
   ]
  },
  {
   "cell_type": "code",
   "execution_count": 85,
   "id": "2a666718-0e8a-4899-9c86-bba4abd8905d",
   "metadata": {},
   "outputs": [],
   "source": [
    "scalers = [RobustScaler(),MinMaxScaler(),StandardScaler()]"
   ]
  },
  {
   "cell_type": "code",
   "execution_count": 86,
   "id": "d93d5d14-7c81-42a9-9fdf-d35b8bbb58ed",
   "metadata": {},
   "outputs": [
    {
     "name": "stderr",
     "output_type": "stream",
     "text": [
      "  0%|                                                                                            | 0/3 [00:00<?, ?it/s]\n",
      "  0%|                                                                                            | 0/3 [00:00<?, ?it/s]\u001b[A\n",
      " 33%|███████████████████████████▋                                                       | 1/3 [02:11<04:23, 131.94s/it]\u001b[A\n",
      " 67%|███████████████████████████████████████████████████████▎                           | 2/3 [03:35<01:43, 103.20s/it]\u001b[A\n",
      "100%|███████████████████████████████████████████████████████████████████████████████████| 3/3 [06:16<00:00, 125.41s/it]\u001b[A\n",
      " 33%|███████████████████████████▋                                                       | 1/3 [06:16<12:32, 376.23s/it]\n",
      "  0%|                                                                                            | 0/3 [00:00<?, ?it/s]\u001b[A\n",
      " 33%|███████████████████████████▋                                                       | 1/3 [02:17<04:35, 137.90s/it]\u001b[A\n",
      " 67%|███████████████████████████████████████████████████████▎                           | 2/3 [03:42<01:46, 106.59s/it]\u001b[A\n",
      "100%|███████████████████████████████████████████████████████████████████████████████████| 3/3 [06:16<00:00, 125.56s/it]\u001b[A\n",
      " 67%|███████████████████████████████████████████████████████▎                           | 2/3 [12:32<06:16, 376.49s/it]\n",
      "  0%|                                                                                            | 0/3 [00:00<?, ?it/s]\u001b[A\n",
      " 33%|███████████████████████████▋                                                       | 1/3 [02:08<04:17, 128.86s/it]\u001b[A\n",
      " 67%|███████████████████████████████████████████████████████▎                           | 2/3 [03:36<01:44, 104.43s/it]\u001b[A\n",
      "100%|███████████████████████████████████████████████████████████████████████████████████| 3/3 [06:20<00:00, 126.71s/it]\u001b[A\n",
      "100%|███████████████████████████████████████████████████████████████████████████████████| 3/3 [18:53<00:00, 377.68s/it]\n"
     ]
    }
   ],
   "source": [
    "lstresults = []\n",
    "for scaler in tqdm(scalers):\n",
    "    for classifier in tqdm(classifiers):\n",
    "        pipe = Pipeline([\n",
    "            ('scaler',scaler),\n",
    "            ('feat_selection', SelectKBest(mutual_info_classif)),\n",
    "            ('classifier', classifier)\n",
    "        ])\n",
    "        parameters = {\n",
    "            'feat_selection__k':[i for i in range(15,30)]       \n",
    "            }\n",
    "        CV = GridSearchCV(pipe, parameters, \n",
    "                          scoring='f1_macro')\n",
    "        CV.fit(X_train, y_train)\n",
    "        a = classifier\n",
    "        b = scaler\n",
    "        c = CV.cv_results_['params']\n",
    "        d = CV.cv_results_['mean_test_score']\n",
    "        lstresults.append([a,b,c,d])"
   ]
  },
  {
   "cell_type": "code",
   "execution_count": 87,
   "id": "de20b480-c21d-48a5-a07a-714c4114b072",
   "metadata": {},
   "outputs": [
    {
     "data": {
      "text/plain": [
       "[[RandomForestClassifier(class_weight='balanced'),\n",
       "  RobustScaler(),\n",
       "  [{'feat_selection__k': 15},\n",
       "   {'feat_selection__k': 16},\n",
       "   {'feat_selection__k': 17},\n",
       "   {'feat_selection__k': 18},\n",
       "   {'feat_selection__k': 19},\n",
       "   {'feat_selection__k': 20},\n",
       "   {'feat_selection__k': 21},\n",
       "   {'feat_selection__k': 22},\n",
       "   {'feat_selection__k': 23},\n",
       "   {'feat_selection__k': 24},\n",
       "   {'feat_selection__k': 25},\n",
       "   {'feat_selection__k': 26},\n",
       "   {'feat_selection__k': 27},\n",
       "   {'feat_selection__k': 28},\n",
       "   {'feat_selection__k': 29}],\n",
       "  array([0.77376237, 0.770863  , 0.77189195, 0.77688436, 0.78179793,\n",
       "         0.78515214, 0.78466443, 0.79037564, 0.78572714, 0.79125636,\n",
       "         0.78423563, 0.79642982, 0.79398931, 0.79075144, 0.79625272])],\n",
       " [XGBClassifier(base_score=None, booster=None, callbacks=None,\n",
       "                colsample_bylevel=None, colsample_bynode=None,\n",
       "                colsample_bytree=None, device=None, early_stopping_rounds=None,\n",
       "                enable_categorical=False, eval_metric=None, feature_types=None,\n",
       "                gamma=None, grow_policy=None, importance_type=None,\n",
       "                interaction_constraints=None, learning_rate=None, max_bin=None,\n",
       "                max_cat_threshold=None, max_cat_to_onehot=None,\n",
       "                max_delta_step=None, max_depth=None, max_leaves=None,\n",
       "                min_child_weight=None, missing=nan, monotone_constraints=None,\n",
       "                multi_strategy=None, n_estimators=None, n_jobs=None,\n",
       "                num_parallel_tree=None, random_state=None, ...),\n",
       "  RobustScaler(),\n",
       "  [{'feat_selection__k': 15},\n",
       "   {'feat_selection__k': 16},\n",
       "   {'feat_selection__k': 17},\n",
       "   {'feat_selection__k': 18},\n",
       "   {'feat_selection__k': 19},\n",
       "   {'feat_selection__k': 20},\n",
       "   {'feat_selection__k': 21},\n",
       "   {'feat_selection__k': 22},\n",
       "   {'feat_selection__k': 23},\n",
       "   {'feat_selection__k': 24},\n",
       "   {'feat_selection__k': 25},\n",
       "   {'feat_selection__k': 26},\n",
       "   {'feat_selection__k': 27},\n",
       "   {'feat_selection__k': 28},\n",
       "   {'feat_selection__k': 29}],\n",
       "  array([0.77060314, 0.76480399, 0.76869175, 0.77809364, 0.77872714,\n",
       "         0.77996721, 0.77940048, 0.78379075, 0.78199887, 0.78954296,\n",
       "         0.77875062, 0.78839905, 0.78245204, 0.78459607, 0.78328996])],\n",
       " [SVC(),\n",
       "  RobustScaler(),\n",
       "  [{'feat_selection__k': 15},\n",
       "   {'feat_selection__k': 16},\n",
       "   {'feat_selection__k': 17},\n",
       "   {'feat_selection__k': 18},\n",
       "   {'feat_selection__k': 19},\n",
       "   {'feat_selection__k': 20},\n",
       "   {'feat_selection__k': 21},\n",
       "   {'feat_selection__k': 22},\n",
       "   {'feat_selection__k': 23},\n",
       "   {'feat_selection__k': 24},\n",
       "   {'feat_selection__k': 25},\n",
       "   {'feat_selection__k': 26},\n",
       "   {'feat_selection__k': 27},\n",
       "   {'feat_selection__k': 28},\n",
       "   {'feat_selection__k': 29}],\n",
       "  array([0.69994635, 0.71773278, 0.70521371, 0.69750801, 0.71495718,\n",
       "         0.68485533, 0.69536977, 0.6810953 , 0.69441334, 0.70206813,\n",
       "         0.68597312, 0.68482789, 0.70207647, 0.68632018, 0.68592797])],\n",
       " [RandomForestClassifier(class_weight='balanced'),\n",
       "  MinMaxScaler(),\n",
       "  [{'feat_selection__k': 15},\n",
       "   {'feat_selection__k': 16},\n",
       "   {'feat_selection__k': 17},\n",
       "   {'feat_selection__k': 18},\n",
       "   {'feat_selection__k': 19},\n",
       "   {'feat_selection__k': 20},\n",
       "   {'feat_selection__k': 21},\n",
       "   {'feat_selection__k': 22},\n",
       "   {'feat_selection__k': 23},\n",
       "   {'feat_selection__k': 24},\n",
       "   {'feat_selection__k': 25},\n",
       "   {'feat_selection__k': 26},\n",
       "   {'feat_selection__k': 27},\n",
       "   {'feat_selection__k': 28},\n",
       "   {'feat_selection__k': 29}],\n",
       "  array([0.76770116, 0.77441895, 0.77850897, 0.7765667 , 0.77789842,\n",
       "         0.78969749, 0.78835011, 0.77881039, 0.78624918, 0.78625732,\n",
       "         0.79089892, 0.785039  , 0.79612442, 0.78744654, 0.7891913 ])],\n",
       " [XGBClassifier(base_score=None, booster=None, callbacks=None,\n",
       "                colsample_bylevel=None, colsample_bynode=None,\n",
       "                colsample_bytree=None, device=None, early_stopping_rounds=None,\n",
       "                enable_categorical=False, eval_metric=None, feature_types=None,\n",
       "                gamma=None, grow_policy=None, importance_type=None,\n",
       "                interaction_constraints=None, learning_rate=None, max_bin=None,\n",
       "                max_cat_threshold=None, max_cat_to_onehot=None,\n",
       "                max_delta_step=None, max_depth=None, max_leaves=None,\n",
       "                min_child_weight=None, missing=nan, monotone_constraints=None,\n",
       "                multi_strategy=None, n_estimators=None, n_jobs=None,\n",
       "                num_parallel_tree=None, random_state=None, ...),\n",
       "  MinMaxScaler(),\n",
       "  [{'feat_selection__k': 15},\n",
       "   {'feat_selection__k': 16},\n",
       "   {'feat_selection__k': 17},\n",
       "   {'feat_selection__k': 18},\n",
       "   {'feat_selection__k': 19},\n",
       "   {'feat_selection__k': 20},\n",
       "   {'feat_selection__k': 21},\n",
       "   {'feat_selection__k': 22},\n",
       "   {'feat_selection__k': 23},\n",
       "   {'feat_selection__k': 24},\n",
       "   {'feat_selection__k': 25},\n",
       "   {'feat_selection__k': 26},\n",
       "   {'feat_selection__k': 27},\n",
       "   {'feat_selection__k': 28},\n",
       "   {'feat_selection__k': 29}],\n",
       "  array([0.76473982, 0.76817425, 0.77697283, 0.77915107, 0.77887827,\n",
       "         0.7886526 , 0.77658102, 0.78142866, 0.78108169, 0.78487373,\n",
       "         0.78514768, 0.78396459, 0.78427485, 0.78326675, 0.7887094 ])],\n",
       " [SVC(),\n",
       "  MinMaxScaler(),\n",
       "  [{'feat_selection__k': 15},\n",
       "   {'feat_selection__k': 16},\n",
       "   {'feat_selection__k': 17},\n",
       "   {'feat_selection__k': 18},\n",
       "   {'feat_selection__k': 19},\n",
       "   {'feat_selection__k': 20},\n",
       "   {'feat_selection__k': 21},\n",
       "   {'feat_selection__k': 22},\n",
       "   {'feat_selection__k': 23},\n",
       "   {'feat_selection__k': 24},\n",
       "   {'feat_selection__k': 25},\n",
       "   {'feat_selection__k': 26},\n",
       "   {'feat_selection__k': 27},\n",
       "   {'feat_selection__k': 28},\n",
       "   {'feat_selection__k': 29}],\n",
       "  array([0.69373046, 0.71506566, 0.71736106, 0.70785965, 0.72359174,\n",
       "         0.72807807, 0.71496515, 0.72905762, 0.73173376, 0.73409905,\n",
       "         0.72925154, 0.719483  , 0.7407462 , 0.74655335, 0.74674654])],\n",
       " [RandomForestClassifier(class_weight='balanced'),\n",
       "  StandardScaler(),\n",
       "  [{'feat_selection__k': 15},\n",
       "   {'feat_selection__k': 16},\n",
       "   {'feat_selection__k': 17},\n",
       "   {'feat_selection__k': 18},\n",
       "   {'feat_selection__k': 19},\n",
       "   {'feat_selection__k': 20},\n",
       "   {'feat_selection__k': 21},\n",
       "   {'feat_selection__k': 22},\n",
       "   {'feat_selection__k': 23},\n",
       "   {'feat_selection__k': 24},\n",
       "   {'feat_selection__k': 25},\n",
       "   {'feat_selection__k': 26},\n",
       "   {'feat_selection__k': 27},\n",
       "   {'feat_selection__k': 28},\n",
       "   {'feat_selection__k': 29}],\n",
       "  array([0.76961668, 0.77873085, 0.77706751, 0.78601514, 0.77876658,\n",
       "         0.781419  , 0.7801528 , 0.7787892 , 0.7850925 , 0.78361044,\n",
       "         0.7835137 , 0.79581052, 0.78878116, 0.78493006, 0.78810585])],\n",
       " [XGBClassifier(base_score=None, booster=None, callbacks=None,\n",
       "                colsample_bylevel=None, colsample_bynode=None,\n",
       "                colsample_bytree=None, device=None, early_stopping_rounds=None,\n",
       "                enable_categorical=False, eval_metric=None, feature_types=None,\n",
       "                gamma=None, grow_policy=None, importance_type=None,\n",
       "                interaction_constraints=None, learning_rate=None, max_bin=None,\n",
       "                max_cat_threshold=None, max_cat_to_onehot=None,\n",
       "                max_delta_step=None, max_depth=None, max_leaves=None,\n",
       "                min_child_weight=None, missing=nan, monotone_constraints=None,\n",
       "                multi_strategy=None, n_estimators=None, n_jobs=None,\n",
       "                num_parallel_tree=None, random_state=None, ...),\n",
       "  StandardScaler(),\n",
       "  [{'feat_selection__k': 15},\n",
       "   {'feat_selection__k': 16},\n",
       "   {'feat_selection__k': 17},\n",
       "   {'feat_selection__k': 18},\n",
       "   {'feat_selection__k': 19},\n",
       "   {'feat_selection__k': 20},\n",
       "   {'feat_selection__k': 21},\n",
       "   {'feat_selection__k': 22},\n",
       "   {'feat_selection__k': 23},\n",
       "   {'feat_selection__k': 24},\n",
       "   {'feat_selection__k': 25},\n",
       "   {'feat_selection__k': 26},\n",
       "   {'feat_selection__k': 27},\n",
       "   {'feat_selection__k': 28},\n",
       "   {'feat_selection__k': 29}],\n",
       "  array([0.7704795 , 0.76973985, 0.77282871, 0.78685113, 0.77056465,\n",
       "         0.77706312, 0.77486993, 0.7803632 , 0.77715468, 0.78589279,\n",
       "         0.78142214, 0.7834134 , 0.79057962, 0.7882507 , 0.78945495])],\n",
       " [SVC(),\n",
       "  StandardScaler(),\n",
       "  [{'feat_selection__k': 15},\n",
       "   {'feat_selection__k': 16},\n",
       "   {'feat_selection__k': 17},\n",
       "   {'feat_selection__k': 18},\n",
       "   {'feat_selection__k': 19},\n",
       "   {'feat_selection__k': 20},\n",
       "   {'feat_selection__k': 21},\n",
       "   {'feat_selection__k': 22},\n",
       "   {'feat_selection__k': 23},\n",
       "   {'feat_selection__k': 24},\n",
       "   {'feat_selection__k': 25},\n",
       "   {'feat_selection__k': 26},\n",
       "   {'feat_selection__k': 27},\n",
       "   {'feat_selection__k': 28},\n",
       "   {'feat_selection__k': 29}],\n",
       "  array([0.74232778, 0.74385705, 0.74545572, 0.75584941, 0.74394174,\n",
       "         0.75607805, 0.75518374, 0.75494749, 0.75670476, 0.76071353,\n",
       "         0.74577902, 0.75285786, 0.76492898, 0.75661139, 0.7604733 ])]]"
      ]
     },
     "execution_count": 87,
     "metadata": {},
     "output_type": "execute_result"
    }
   ],
   "source": [
    "lstresults"
   ]
  },
  {
   "cell_type": "code",
   "execution_count": 88,
   "id": "ad7f4b14-7ae6-4cf6-999b-ae09cdc77a72",
   "metadata": {},
   "outputs": [],
   "source": [
    "res = pd.DataFrame(lstresults)\n",
    "res = res.explode([2,3])"
   ]
  },
  {
   "cell_type": "code",
   "execution_count": 89,
   "id": "0177a9ed-f4b4-4cd7-af6a-9e7d60ee9422",
   "metadata": {},
   "outputs": [
    {
     "data": {
      "text/html": [
       "<div>\n",
       "<style scoped>\n",
       "    .dataframe tbody tr th:only-of-type {\n",
       "        vertical-align: middle;\n",
       "    }\n",
       "\n",
       "    .dataframe tbody tr th {\n",
       "        vertical-align: top;\n",
       "    }\n",
       "\n",
       "    .dataframe thead th {\n",
       "        text-align: right;\n",
       "    }\n",
       "</style>\n",
       "<table border=\"1\" class=\"dataframe\">\n",
       "  <thead>\n",
       "    <tr style=\"text-align: right;\">\n",
       "      <th></th>\n",
       "      <th>0</th>\n",
       "      <th>1</th>\n",
       "      <th>2</th>\n",
       "      <th>3</th>\n",
       "    </tr>\n",
       "  </thead>\n",
       "  <tbody>\n",
       "    <tr>\n",
       "      <th>0</th>\n",
       "      <td>RandomForestClassifier(class_weight='balanced')</td>\n",
       "      <td>RobustScaler()</td>\n",
       "      <td>{'feat_selection__k': 15}</td>\n",
       "      <td>0.773762</td>\n",
       "    </tr>\n",
       "    <tr>\n",
       "      <th>0</th>\n",
       "      <td>RandomForestClassifier(class_weight='balanced')</td>\n",
       "      <td>RobustScaler()</td>\n",
       "      <td>{'feat_selection__k': 16}</td>\n",
       "      <td>0.770863</td>\n",
       "    </tr>\n",
       "    <tr>\n",
       "      <th>0</th>\n",
       "      <td>RandomForestClassifier(class_weight='balanced')</td>\n",
       "      <td>RobustScaler()</td>\n",
       "      <td>{'feat_selection__k': 17}</td>\n",
       "      <td>0.771892</td>\n",
       "    </tr>\n",
       "    <tr>\n",
       "      <th>0</th>\n",
       "      <td>RandomForestClassifier(class_weight='balanced')</td>\n",
       "      <td>RobustScaler()</td>\n",
       "      <td>{'feat_selection__k': 18}</td>\n",
       "      <td>0.776884</td>\n",
       "    </tr>\n",
       "    <tr>\n",
       "      <th>0</th>\n",
       "      <td>RandomForestClassifier(class_weight='balanced')</td>\n",
       "      <td>RobustScaler()</td>\n",
       "      <td>{'feat_selection__k': 19}</td>\n",
       "      <td>0.781798</td>\n",
       "    </tr>\n",
       "    <tr>\n",
       "      <th>...</th>\n",
       "      <td>...</td>\n",
       "      <td>...</td>\n",
       "      <td>...</td>\n",
       "      <td>...</td>\n",
       "    </tr>\n",
       "    <tr>\n",
       "      <th>8</th>\n",
       "      <td>SVC()</td>\n",
       "      <td>StandardScaler()</td>\n",
       "      <td>{'feat_selection__k': 25}</td>\n",
       "      <td>0.745779</td>\n",
       "    </tr>\n",
       "    <tr>\n",
       "      <th>8</th>\n",
       "      <td>SVC()</td>\n",
       "      <td>StandardScaler()</td>\n",
       "      <td>{'feat_selection__k': 26}</td>\n",
       "      <td>0.752858</td>\n",
       "    </tr>\n",
       "    <tr>\n",
       "      <th>8</th>\n",
       "      <td>SVC()</td>\n",
       "      <td>StandardScaler()</td>\n",
       "      <td>{'feat_selection__k': 27}</td>\n",
       "      <td>0.764929</td>\n",
       "    </tr>\n",
       "    <tr>\n",
       "      <th>8</th>\n",
       "      <td>SVC()</td>\n",
       "      <td>StandardScaler()</td>\n",
       "      <td>{'feat_selection__k': 28}</td>\n",
       "      <td>0.756611</td>\n",
       "    </tr>\n",
       "    <tr>\n",
       "      <th>8</th>\n",
       "      <td>SVC()</td>\n",
       "      <td>StandardScaler()</td>\n",
       "      <td>{'feat_selection__k': 29}</td>\n",
       "      <td>0.760473</td>\n",
       "    </tr>\n",
       "  </tbody>\n",
       "</table>\n",
       "<p>135 rows × 4 columns</p>\n",
       "</div>"
      ],
      "text/plain": [
       "                                                  0                 1  \\\n",
       "0   RandomForestClassifier(class_weight='balanced')    RobustScaler()   \n",
       "0   RandomForestClassifier(class_weight='balanced')    RobustScaler()   \n",
       "0   RandomForestClassifier(class_weight='balanced')    RobustScaler()   \n",
       "0   RandomForestClassifier(class_weight='balanced')    RobustScaler()   \n",
       "0   RandomForestClassifier(class_weight='balanced')    RobustScaler()   \n",
       "..                                              ...               ...   \n",
       "8                                             SVC()  StandardScaler()   \n",
       "8                                             SVC()  StandardScaler()   \n",
       "8                                             SVC()  StandardScaler()   \n",
       "8                                             SVC()  StandardScaler()   \n",
       "8                                             SVC()  StandardScaler()   \n",
       "\n",
       "                            2         3  \n",
       "0   {'feat_selection__k': 15}  0.773762  \n",
       "0   {'feat_selection__k': 16}  0.770863  \n",
       "0   {'feat_selection__k': 17}  0.771892  \n",
       "0   {'feat_selection__k': 18}  0.776884  \n",
       "0   {'feat_selection__k': 19}  0.781798  \n",
       "..                        ...       ...  \n",
       "8   {'feat_selection__k': 25}  0.745779  \n",
       "8   {'feat_selection__k': 26}  0.752858  \n",
       "8   {'feat_selection__k': 27}  0.764929  \n",
       "8   {'feat_selection__k': 28}  0.756611  \n",
       "8   {'feat_selection__k': 29}  0.760473  \n",
       "\n",
       "[135 rows x 4 columns]"
      ]
     },
     "execution_count": 89,
     "metadata": {},
     "output_type": "execute_result"
    }
   ],
   "source": [
    "res"
   ]
  },
  {
   "cell_type": "code",
   "execution_count": 90,
   "id": "bce97e1c-ca3f-4fe3-b4bb-c7641a95c572",
   "metadata": {},
   "outputs": [
    {
     "data": {
      "text/html": [
       "<div>\n",
       "<style scoped>\n",
       "    .dataframe tbody tr th:only-of-type {\n",
       "        vertical-align: middle;\n",
       "    }\n",
       "\n",
       "    .dataframe tbody tr th {\n",
       "        vertical-align: top;\n",
       "    }\n",
       "\n",
       "    .dataframe thead th {\n",
       "        text-align: right;\n",
       "    }\n",
       "</style>\n",
       "<table border=\"1\" class=\"dataframe\">\n",
       "  <thead>\n",
       "    <tr style=\"text-align: right;\">\n",
       "      <th></th>\n",
       "      <th>0</th>\n",
       "      <th>1</th>\n",
       "      <th>2</th>\n",
       "      <th>3</th>\n",
       "    </tr>\n",
       "  </thead>\n",
       "  <tbody>\n",
       "    <tr>\n",
       "      <th>0</th>\n",
       "      <td>RandomForestClassifier(class_weight='balanced')</td>\n",
       "      <td>RobustScaler()</td>\n",
       "      <td>{'feat_selection__k': 26}</td>\n",
       "      <td>0.79643</td>\n",
       "    </tr>\n",
       "    <tr>\n",
       "      <th>0</th>\n",
       "      <td>RandomForestClassifier(class_weight='balanced')</td>\n",
       "      <td>RobustScaler()</td>\n",
       "      <td>{'feat_selection__k': 29}</td>\n",
       "      <td>0.796253</td>\n",
       "    </tr>\n",
       "    <tr>\n",
       "      <th>3</th>\n",
       "      <td>RandomForestClassifier(class_weight='balanced')</td>\n",
       "      <td>MinMaxScaler()</td>\n",
       "      <td>{'feat_selection__k': 27}</td>\n",
       "      <td>0.796124</td>\n",
       "    </tr>\n",
       "    <tr>\n",
       "      <th>6</th>\n",
       "      <td>RandomForestClassifier(class_weight='balanced')</td>\n",
       "      <td>StandardScaler()</td>\n",
       "      <td>{'feat_selection__k': 26}</td>\n",
       "      <td>0.795811</td>\n",
       "    </tr>\n",
       "    <tr>\n",
       "      <th>0</th>\n",
       "      <td>RandomForestClassifier(class_weight='balanced')</td>\n",
       "      <td>RobustScaler()</td>\n",
       "      <td>{'feat_selection__k': 27}</td>\n",
       "      <td>0.793989</td>\n",
       "    </tr>\n",
       "    <tr>\n",
       "      <th>...</th>\n",
       "      <td>...</td>\n",
       "      <td>...</td>\n",
       "      <td>...</td>\n",
       "      <td>...</td>\n",
       "    </tr>\n",
       "    <tr>\n",
       "      <th>2</th>\n",
       "      <td>SVC()</td>\n",
       "      <td>RobustScaler()</td>\n",
       "      <td>{'feat_selection__k': 25}</td>\n",
       "      <td>0.685973</td>\n",
       "    </tr>\n",
       "    <tr>\n",
       "      <th>2</th>\n",
       "      <td>SVC()</td>\n",
       "      <td>RobustScaler()</td>\n",
       "      <td>{'feat_selection__k': 29}</td>\n",
       "      <td>0.685928</td>\n",
       "    </tr>\n",
       "    <tr>\n",
       "      <th>2</th>\n",
       "      <td>SVC()</td>\n",
       "      <td>RobustScaler()</td>\n",
       "      <td>{'feat_selection__k': 20}</td>\n",
       "      <td>0.684855</td>\n",
       "    </tr>\n",
       "    <tr>\n",
       "      <th>2</th>\n",
       "      <td>SVC()</td>\n",
       "      <td>RobustScaler()</td>\n",
       "      <td>{'feat_selection__k': 26}</td>\n",
       "      <td>0.684828</td>\n",
       "    </tr>\n",
       "    <tr>\n",
       "      <th>2</th>\n",
       "      <td>SVC()</td>\n",
       "      <td>RobustScaler()</td>\n",
       "      <td>{'feat_selection__k': 22}</td>\n",
       "      <td>0.681095</td>\n",
       "    </tr>\n",
       "  </tbody>\n",
       "</table>\n",
       "<p>135 rows × 4 columns</p>\n",
       "</div>"
      ],
      "text/plain": [
       "                                                  0                 1  \\\n",
       "0   RandomForestClassifier(class_weight='balanced')    RobustScaler()   \n",
       "0   RandomForestClassifier(class_weight='balanced')    RobustScaler()   \n",
       "3   RandomForestClassifier(class_weight='balanced')    MinMaxScaler()   \n",
       "6   RandomForestClassifier(class_weight='balanced')  StandardScaler()   \n",
       "0   RandomForestClassifier(class_weight='balanced')    RobustScaler()   \n",
       "..                                              ...               ...   \n",
       "2                                             SVC()    RobustScaler()   \n",
       "2                                             SVC()    RobustScaler()   \n",
       "2                                             SVC()    RobustScaler()   \n",
       "2                                             SVC()    RobustScaler()   \n",
       "2                                             SVC()    RobustScaler()   \n",
       "\n",
       "                            2         3  \n",
       "0   {'feat_selection__k': 26}   0.79643  \n",
       "0   {'feat_selection__k': 29}  0.796253  \n",
       "3   {'feat_selection__k': 27}  0.796124  \n",
       "6   {'feat_selection__k': 26}  0.795811  \n",
       "0   {'feat_selection__k': 27}  0.793989  \n",
       "..                        ...       ...  \n",
       "2   {'feat_selection__k': 25}  0.685973  \n",
       "2   {'feat_selection__k': 29}  0.685928  \n",
       "2   {'feat_selection__k': 20}  0.684855  \n",
       "2   {'feat_selection__k': 26}  0.684828  \n",
       "2   {'feat_selection__k': 22}  0.681095  \n",
       "\n",
       "[135 rows x 4 columns]"
      ]
     },
     "execution_count": 90,
     "metadata": {},
     "output_type": "execute_result"
    }
   ],
   "source": [
    "res.sort_values(3,ascending = False)"
   ]
  },
  {
   "cell_type": "code",
   "execution_count": 91,
   "id": "a7148c36-19c4-4419-9f03-cdefadc567a9",
   "metadata": {},
   "outputs": [
    {
     "name": "stdout",
     "output_type": "stream",
     "text": [
      " - balanced accuracy: 0.78\n",
      " - macro f1: 0.79\n"
     ]
    }
   ],
   "source": [
    "pipe = Pipeline([\n",
    "  ('scaler',RobustScaler()),\n",
    "  ('feat_select', SelectKBest(mutual_info_classif,k=29)),\n",
    "  ('classifier', RandomForestClassifier(random_state=42))\n",
    "])\n",
    "\n",
    "pipe.fit(X_train, y_train)\n",
    "predictions = pipe.predict(X_test)\n",
    "print(' - balanced accuracy:', round(balanced_accuracy_score(y_test, predictions),2))\n",
    "print(' - macro f1:', round(f1_score(y_test, predictions, average='macro'),2))"
   ]
  },
  {
   "cell_type": "code",
   "execution_count": 92,
   "id": "315f3a02-020e-4839-b9ff-a5b6626331d1",
   "metadata": {},
   "outputs": [],
   "source": [
    "X_new = SelectKBest(score_func= mutual_info_classif, k=29).fit(X_train,y_train)"
   ]
  },
  {
   "cell_type": "code",
   "execution_count": 93,
   "id": "0d42ecb6-0541-465e-aebd-479fe880b9b7",
   "metadata": {},
   "outputs": [],
   "source": [
    "mask = X_new.get_support(indices=True)"
   ]
  },
  {
   "cell_type": "code",
   "execution_count": 94,
   "id": "bb5a74ad-91f2-4aa7-a6ca-17eb240e73aa",
   "metadata": {},
   "outputs": [
    {
     "data": {
      "text/plain": [
       "array([ 0,  1,  2,  3,  5,  6,  9, 10, 11, 12, 13, 14, 15, 16, 17, 18, 19,\n",
       "       20, 23, 24, 25, 28, 29, 33, 34, 35, 39, 42, 43], dtype=int64)"
      ]
     },
     "execution_count": 94,
     "metadata": {},
     "output_type": "execute_result"
    }
   ],
   "source": [
    "mask"
   ]
  },
  {
   "cell_type": "code",
   "execution_count": 95,
   "id": "f1d5acbf-6d62-4b09-8296-3c3ef77b052a",
   "metadata": {},
   "outputs": [],
   "source": [
    "lstcolumns = X_train.columns"
   ]
  },
  {
   "cell_type": "code",
   "execution_count": 96,
   "id": "8b8d31d8-af82-4ba3-bed6-04fe367061e9",
   "metadata": {},
   "outputs": [],
   "source": [
    "dic = {i:lstcolumns[i] for i in range(len(lstcolumns))}"
   ]
  },
  {
   "cell_type": "code",
   "execution_count": 97,
   "id": "6db1d9cf-f622-4945-bdc3-5aa9203eb390",
   "metadata": {},
   "outputs": [
    {
     "data": {
      "text/plain": [
       "{0: 'lead_time',\n",
       " 1: 'arrival_date_week_number',\n",
       " 2: 'arrival_date_day_of_month',\n",
       " 3: 'stays_in_weekend_nights',\n",
       " 4: 'stays_in_week_nights',\n",
       " 5: 'adults',\n",
       " 6: 'children',\n",
       " 7: 'babies',\n",
       " 8: 'is_repeated_guest',\n",
       " 9: 'previous_cancellations',\n",
       " 10: 'previous_bookings_not_canceled',\n",
       " 11: 'booking_changes',\n",
       " 12: 'days_in_waiting_list',\n",
       " 13: 'adr',\n",
       " 14: 'required_car_parking_spaces',\n",
       " 15: 'total_of_special_requests',\n",
       " 16: 'hotel_Resort Hotel',\n",
       " 17: 'meal_FB',\n",
       " 18: 'meal_HB',\n",
       " 19: 'meal_SC',\n",
       " 20: 'meal_Undefined',\n",
       " 21: 'market_segment_Complementary',\n",
       " 22: 'market_segment_Corporate',\n",
       " 23: 'market_segment_Direct',\n",
       " 24: 'market_segment_Groups',\n",
       " 25: 'market_segment_Offline TA/TO',\n",
       " 26: 'market_segment_Online TA',\n",
       " 27: 'market_segment_Undefined',\n",
       " 28: 'distribution_channel_GDS',\n",
       " 29: 'distribution_channel_TA/TO',\n",
       " 30: 'distribution_channel_Undefined',\n",
       " 31: 'reserved_room_type_B',\n",
       " 32: 'reserved_room_type_C',\n",
       " 33: 'reserved_room_type_D',\n",
       " 34: 'reserved_room_type_E',\n",
       " 35: 'reserved_room_type_F',\n",
       " 36: 'reserved_room_type_G',\n",
       " 37: 'reserved_room_type_H',\n",
       " 38: 'reserved_room_type_L',\n",
       " 39: 'deposit_type_Non Refund',\n",
       " 40: 'deposit_type_Refundable',\n",
       " 41: 'customer_type_Group',\n",
       " 42: 'customer_type_Transient',\n",
       " 43: 'customer_type_Transient-Party'}"
      ]
     },
     "execution_count": 97,
     "metadata": {},
     "output_type": "execute_result"
    }
   ],
   "source": [
    "dic"
   ]
  },
  {
   "cell_type": "code",
   "execution_count": 98,
   "id": "94b29754-32dd-41ce-a4c7-0b3949eb53b5",
   "metadata": {},
   "outputs": [],
   "source": [
    "importantkbest = [dic[i] for i in list(mask)]"
   ]
  },
  {
   "cell_type": "code",
   "execution_count": 99,
   "id": "0d3e4eee-510c-4927-8e6a-8d7853b5c88a",
   "metadata": {},
   "outputs": [
    {
     "data": {
      "text/plain": [
       "['lead_time',\n",
       " 'arrival_date_week_number',\n",
       " 'arrival_date_day_of_month',\n",
       " 'stays_in_weekend_nights',\n",
       " 'adults',\n",
       " 'children',\n",
       " 'previous_cancellations',\n",
       " 'previous_bookings_not_canceled',\n",
       " 'booking_changes',\n",
       " 'days_in_waiting_list',\n",
       " 'adr',\n",
       " 'required_car_parking_spaces',\n",
       " 'total_of_special_requests',\n",
       " 'hotel_Resort Hotel',\n",
       " 'meal_FB',\n",
       " 'meal_HB',\n",
       " 'meal_SC',\n",
       " 'meal_Undefined',\n",
       " 'market_segment_Direct',\n",
       " 'market_segment_Groups',\n",
       " 'market_segment_Offline TA/TO',\n",
       " 'distribution_channel_GDS',\n",
       " 'distribution_channel_TA/TO',\n",
       " 'reserved_room_type_D',\n",
       " 'reserved_room_type_E',\n",
       " 'reserved_room_type_F',\n",
       " 'deposit_type_Non Refund',\n",
       " 'customer_type_Transient',\n",
       " 'customer_type_Transient-Party']"
      ]
     },
     "execution_count": 99,
     "metadata": {},
     "output_type": "execute_result"
    }
   ],
   "source": [
    "importantkbest"
   ]
  },
  {
   "cell_type": "code",
   "execution_count": null,
   "id": "2e55395f-ee5e-4521-8fac-5471fbc16fb9",
   "metadata": {},
   "outputs": [],
   "source": []
  },
  {
   "cell_type": "code",
   "execution_count": null,
   "id": "6e9e07b3-0faf-4078-b24e-3d1fccdd846a",
   "metadata": {},
   "outputs": [],
   "source": []
  },
  {
   "cell_type": "code",
   "execution_count": 100,
   "id": "c08fdd15-41e7-4d00-880f-f38be242a39d",
   "metadata": {},
   "outputs": [],
   "source": [
    "importantkbest = list(X_train.columns)"
   ]
  },
  {
   "cell_type": "code",
   "execution_count": null,
   "id": "6557c550-0372-40d5-8b1a-1978a155b6ec",
   "metadata": {},
   "outputs": [],
   "source": []
  },
  {
   "cell_type": "markdown",
   "id": "08df5f94-ef26-4e7d-86ef-efabec2eab2f",
   "metadata": {},
   "source": [
    "# MRMR"
   ]
  },
  {
   "cell_type": "code",
   "execution_count": 101,
   "id": "7c1d3da5-f77f-49b2-aea7-325e2c5384d3",
   "metadata": {},
   "outputs": [
    {
     "data": {
      "text/plain": [
       "Index(['is_canceled', 'lead_time', 'arrival_date_week_number',\n",
       "       'arrival_date_day_of_month', 'stays_in_weekend_nights',\n",
       "       'stays_in_week_nights', 'adults', 'children', 'babies',\n",
       "       'is_repeated_guest', 'previous_cancellations',\n",
       "       'previous_bookings_not_canceled', 'booking_changes',\n",
       "       'days_in_waiting_list', 'adr', 'required_car_parking_spaces',\n",
       "       'total_of_special_requests', 'hotel_Resort Hotel', 'meal_FB', 'meal_HB',\n",
       "       'meal_SC', 'meal_Undefined', 'market_segment_Complementary',\n",
       "       'market_segment_Corporate', 'market_segment_Direct',\n",
       "       'market_segment_Groups', 'market_segment_Offline TA/TO',\n",
       "       'market_segment_Online TA', 'market_segment_Undefined',\n",
       "       'distribution_channel_GDS', 'distribution_channel_TA/TO',\n",
       "       'distribution_channel_Undefined', 'reserved_room_type_B',\n",
       "       'reserved_room_type_C', 'reserved_room_type_D', 'reserved_room_type_E',\n",
       "       'reserved_room_type_F', 'reserved_room_type_G', 'reserved_room_type_H',\n",
       "       'reserved_room_type_L', 'deposit_type_Non Refund',\n",
       "       'deposit_type_Refundable', 'customer_type_Group',\n",
       "       'customer_type_Transient', 'customer_type_Transient-Party'],\n",
       "      dtype='object')"
      ]
     },
     "execution_count": 101,
     "metadata": {},
     "output_type": "execute_result"
    }
   ],
   "source": [
    "df.columns"
   ]
  },
  {
   "cell_type": "code",
   "execution_count": 102,
   "id": "c38f42fd-205c-4519-9a81-789e1e481ecf",
   "metadata": {},
   "outputs": [],
   "source": [
    "classifiers = [\n",
    "    RandomForestClassifier(class_weight='balanced'),\n",
    "    xgb.XGBClassifier(),\n",
    "    SVC()]"
   ]
  },
  {
   "cell_type": "code",
   "execution_count": 103,
   "id": "df3da9c6-a51b-48f2-a554-875c503035ab",
   "metadata": {},
   "outputs": [
    {
     "name": "stderr",
     "output_type": "stream",
     "text": [
      "100%|████████████████████████████████████████████████████████████████████████████████████| 5/5 [00:00<00:00,  7.45it/s]\n"
     ]
    },
    {
     "name": "stdout",
     "output_type": "stream",
     "text": [
      "['deposit_type_Non Refund', 'required_car_parking_spaces', 'lead_time', 'total_of_special_requests', 'booking_changes']\n"
     ]
    },
    {
     "name": "stderr",
     "output_type": "stream",
     "text": [
      "100%|████████████████████████████████████████████████████████████████████████████████████| 6/6 [00:00<00:00, 29.28it/s]\n"
     ]
    },
    {
     "name": "stdout",
     "output_type": "stream",
     "text": [
      "['deposit_type_Non Refund', 'required_car_parking_spaces', 'lead_time', 'total_of_special_requests', 'booking_changes', 'market_segment_Direct']\n"
     ]
    },
    {
     "name": "stderr",
     "output_type": "stream",
     "text": [
      "100%|████████████████████████████████████████████████████████████████████████████████████| 7/7 [00:00<00:00, 26.19it/s]\n"
     ]
    },
    {
     "name": "stdout",
     "output_type": "stream",
     "text": [
      "['deposit_type_Non Refund', 'required_car_parking_spaces', 'lead_time', 'total_of_special_requests', 'booking_changes', 'market_segment_Direct', 'market_segment_Groups']\n"
     ]
    },
    {
     "name": "stderr",
     "output_type": "stream",
     "text": [
      "100%|████████████████████████████████████████████████████████████████████████████████████| 8/8 [00:00<00:00, 26.89it/s]\n"
     ]
    },
    {
     "name": "stdout",
     "output_type": "stream",
     "text": [
      "['deposit_type_Non Refund', 'required_car_parking_spaces', 'lead_time', 'total_of_special_requests', 'booking_changes', 'market_segment_Direct', 'market_segment_Groups', 'hotel_Resort Hotel']\n"
     ]
    },
    {
     "name": "stderr",
     "output_type": "stream",
     "text": [
      "100%|████████████████████████████████████████████████████████████████████████████████████| 9/9 [00:00<00:00, 24.01it/s]\n"
     ]
    },
    {
     "name": "stdout",
     "output_type": "stream",
     "text": [
      "['deposit_type_Non Refund', 'required_car_parking_spaces', 'lead_time', 'total_of_special_requests', 'booking_changes', 'market_segment_Direct', 'market_segment_Groups', 'hotel_Resort Hotel', 'previous_cancellations']\n"
     ]
    },
    {
     "name": "stderr",
     "output_type": "stream",
     "text": [
      "100%|██████████████████████████████████████████████████████████████████████████████████| 10/10 [00:00<00:00, 26.46it/s]\n"
     ]
    },
    {
     "name": "stdout",
     "output_type": "stream",
     "text": [
      "['deposit_type_Non Refund', 'required_car_parking_spaces', 'lead_time', 'total_of_special_requests', 'booking_changes', 'market_segment_Direct', 'market_segment_Groups', 'hotel_Resort Hotel', 'previous_cancellations', 'distribution_channel_TA/TO']\n"
     ]
    },
    {
     "name": "stderr",
     "output_type": "stream",
     "text": [
      "100%|██████████████████████████████████████████████████████████████████████████████████| 11/11 [00:00<00:00, 23.57it/s]\n"
     ]
    },
    {
     "name": "stdout",
     "output_type": "stream",
     "text": [
      "['deposit_type_Non Refund', 'required_car_parking_spaces', 'lead_time', 'total_of_special_requests', 'booking_changes', 'market_segment_Direct', 'market_segment_Groups', 'hotel_Resort Hotel', 'previous_cancellations', 'distribution_channel_TA/TO', 'customer_type_Transient']\n"
     ]
    },
    {
     "name": "stderr",
     "output_type": "stream",
     "text": [
      "100%|██████████████████████████████████████████████████████████████████████████████████| 12/12 [00:00<00:00, 24.66it/s]\n"
     ]
    },
    {
     "name": "stdout",
     "output_type": "stream",
     "text": [
      "['deposit_type_Non Refund', 'required_car_parking_spaces', 'lead_time', 'total_of_special_requests', 'booking_changes', 'market_segment_Direct', 'market_segment_Groups', 'hotel_Resort Hotel', 'previous_cancellations', 'distribution_channel_TA/TO', 'customer_type_Transient', 'customer_type_Transient-Party']\n"
     ]
    },
    {
     "name": "stderr",
     "output_type": "stream",
     "text": [
      "100%|██████████████████████████████████████████████████████████████████████████████████| 13/13 [00:00<00:00, 23.04it/s]\n"
     ]
    },
    {
     "name": "stdout",
     "output_type": "stream",
     "text": [
      "['deposit_type_Non Refund', 'required_car_parking_spaces', 'lead_time', 'total_of_special_requests', 'booking_changes', 'market_segment_Direct', 'market_segment_Groups', 'hotel_Resort Hotel', 'previous_cancellations', 'distribution_channel_TA/TO', 'customer_type_Transient', 'customer_type_Transient-Party', 'is_repeated_guest']\n"
     ]
    },
    {
     "name": "stderr",
     "output_type": "stream",
     "text": [
      "100%|██████████████████████████████████████████████████████████████████████████████████| 14/14 [00:00<00:00, 22.97it/s]\n"
     ]
    },
    {
     "name": "stdout",
     "output_type": "stream",
     "text": [
      "['deposit_type_Non Refund', 'required_car_parking_spaces', 'lead_time', 'total_of_special_requests', 'booking_changes', 'market_segment_Direct', 'market_segment_Groups', 'hotel_Resort Hotel', 'previous_cancellations', 'distribution_channel_TA/TO', 'customer_type_Transient', 'customer_type_Transient-Party', 'is_repeated_guest', 'days_in_waiting_list']\n"
     ]
    },
    {
     "name": "stderr",
     "output_type": "stream",
     "text": [
      "100%|██████████████████████████████████████████████████████████████████████████████████| 15/15 [00:00<00:00, 17.99it/s]\n"
     ]
    },
    {
     "name": "stdout",
     "output_type": "stream",
     "text": [
      "['deposit_type_Non Refund', 'required_car_parking_spaces', 'lead_time', 'total_of_special_requests', 'booking_changes', 'market_segment_Direct', 'market_segment_Groups', 'hotel_Resort Hotel', 'previous_cancellations', 'distribution_channel_TA/TO', 'customer_type_Transient', 'customer_type_Transient-Party', 'is_repeated_guest', 'days_in_waiting_list', 'customer_type_Group']\n"
     ]
    },
    {
     "name": "stderr",
     "output_type": "stream",
     "text": [
      "100%|██████████████████████████████████████████████████████████████████████████████████| 16/16 [00:00<00:00, 23.29it/s]\n"
     ]
    },
    {
     "name": "stdout",
     "output_type": "stream",
     "text": [
      "['deposit_type_Non Refund', 'required_car_parking_spaces', 'lead_time', 'total_of_special_requests', 'booking_changes', 'market_segment_Direct', 'market_segment_Groups', 'hotel_Resort Hotel', 'previous_cancellations', 'distribution_channel_TA/TO', 'customer_type_Transient', 'customer_type_Transient-Party', 'is_repeated_guest', 'days_in_waiting_list', 'customer_type_Group', 'previous_bookings_not_canceled']\n"
     ]
    },
    {
     "name": "stderr",
     "output_type": "stream",
     "text": [
      "100%|██████████████████████████████████████████████████████████████████████████████████| 17/17 [00:00<00:00, 23.74it/s]\n"
     ]
    },
    {
     "name": "stdout",
     "output_type": "stream",
     "text": [
      "['deposit_type_Non Refund', 'required_car_parking_spaces', 'lead_time', 'total_of_special_requests', 'booking_changes', 'market_segment_Direct', 'market_segment_Groups', 'hotel_Resort Hotel', 'previous_cancellations', 'distribution_channel_TA/TO', 'customer_type_Transient', 'customer_type_Transient-Party', 'is_repeated_guest', 'days_in_waiting_list', 'customer_type_Group', 'previous_bookings_not_canceled', 'reserved_room_type_E']\n"
     ]
    },
    {
     "name": "stderr",
     "output_type": "stream",
     "text": [
      "100%|██████████████████████████████████████████████████████████████████████████████████| 18/18 [00:00<00:00, 23.58it/s]\n"
     ]
    },
    {
     "name": "stdout",
     "output_type": "stream",
     "text": [
      "['deposit_type_Non Refund', 'required_car_parking_spaces', 'lead_time', 'total_of_special_requests', 'booking_changes', 'market_segment_Direct', 'market_segment_Groups', 'hotel_Resort Hotel', 'previous_cancellations', 'distribution_channel_TA/TO', 'customer_type_Transient', 'customer_type_Transient-Party', 'is_repeated_guest', 'days_in_waiting_list', 'customer_type_Group', 'previous_bookings_not_canceled', 'reserved_room_type_E', 'market_segment_Corporate']\n"
     ]
    },
    {
     "name": "stderr",
     "output_type": "stream",
     "text": [
      "100%|██████████████████████████████████████████████████████████████████████████████████| 19/19 [00:00<00:00, 24.51it/s]\n"
     ]
    },
    {
     "name": "stdout",
     "output_type": "stream",
     "text": [
      "['deposit_type_Non Refund', 'required_car_parking_spaces', 'lead_time', 'total_of_special_requests', 'booking_changes', 'market_segment_Direct', 'market_segment_Groups', 'hotel_Resort Hotel', 'previous_cancellations', 'distribution_channel_TA/TO', 'customer_type_Transient', 'customer_type_Transient-Party', 'is_repeated_guest', 'days_in_waiting_list', 'customer_type_Group', 'previous_bookings_not_canceled', 'reserved_room_type_E', 'market_segment_Corporate', 'reserved_room_type_F']\n"
     ]
    },
    {
     "name": "stderr",
     "output_type": "stream",
     "text": [
      "100%|██████████████████████████████████████████████████████████████████████████████████| 20/20 [00:00<00:00, 22.78it/s]\n"
     ]
    },
    {
     "name": "stdout",
     "output_type": "stream",
     "text": [
      "['deposit_type_Non Refund', 'required_car_parking_spaces', 'lead_time', 'total_of_special_requests', 'booking_changes', 'market_segment_Direct', 'market_segment_Groups', 'hotel_Resort Hotel', 'previous_cancellations', 'distribution_channel_TA/TO', 'customer_type_Transient', 'customer_type_Transient-Party', 'is_repeated_guest', 'days_in_waiting_list', 'customer_type_Group', 'previous_bookings_not_canceled', 'reserved_room_type_E', 'market_segment_Corporate', 'reserved_room_type_F', 'reserved_room_type_D']\n"
     ]
    },
    {
     "name": "stderr",
     "output_type": "stream",
     "text": [
      "100%|██████████████████████████████████████████████████████████████████████████████████| 21/21 [00:00<00:00, 21.47it/s]\n"
     ]
    },
    {
     "name": "stdout",
     "output_type": "stream",
     "text": [
      "['deposit_type_Non Refund', 'required_car_parking_spaces', 'lead_time', 'total_of_special_requests', 'booking_changes', 'market_segment_Direct', 'market_segment_Groups', 'hotel_Resort Hotel', 'previous_cancellations', 'distribution_channel_TA/TO', 'customer_type_Transient', 'customer_type_Transient-Party', 'is_repeated_guest', 'days_in_waiting_list', 'customer_type_Group', 'previous_bookings_not_canceled', 'reserved_room_type_E', 'market_segment_Corporate', 'reserved_room_type_F', 'reserved_room_type_D', 'market_segment_Undefined']\n"
     ]
    },
    {
     "name": "stderr",
     "output_type": "stream",
     "text": [
      "100%|██████████████████████████████████████████████████████████████████████████████████| 22/22 [00:00<00:00, 24.23it/s]\n"
     ]
    },
    {
     "name": "stdout",
     "output_type": "stream",
     "text": [
      "['deposit_type_Non Refund', 'required_car_parking_spaces', 'lead_time', 'total_of_special_requests', 'booking_changes', 'market_segment_Direct', 'market_segment_Groups', 'hotel_Resort Hotel', 'previous_cancellations', 'distribution_channel_TA/TO', 'customer_type_Transient', 'customer_type_Transient-Party', 'is_repeated_guest', 'days_in_waiting_list', 'customer_type_Group', 'previous_bookings_not_canceled', 'reserved_room_type_E', 'market_segment_Corporate', 'reserved_room_type_F', 'reserved_room_type_D', 'market_segment_Undefined', 'meal_FB']\n"
     ]
    },
    {
     "name": "stderr",
     "output_type": "stream",
     "text": [
      "100%|██████████████████████████████████████████████████████████████████████████████████| 23/23 [00:00<00:00, 27.92it/s]\n"
     ]
    },
    {
     "name": "stdout",
     "output_type": "stream",
     "text": [
      "['deposit_type_Non Refund', 'required_car_parking_spaces', 'lead_time', 'total_of_special_requests', 'booking_changes', 'market_segment_Direct', 'market_segment_Groups', 'hotel_Resort Hotel', 'previous_cancellations', 'distribution_channel_TA/TO', 'customer_type_Transient', 'customer_type_Transient-Party', 'is_repeated_guest', 'days_in_waiting_list', 'customer_type_Group', 'previous_bookings_not_canceled', 'reserved_room_type_E', 'market_segment_Corporate', 'reserved_room_type_F', 'reserved_room_type_D', 'market_segment_Undefined', 'meal_FB', 'adults']\n"
     ]
    },
    {
     "name": "stderr",
     "output_type": "stream",
     "text": [
      "100%|██████████████████████████████████████████████████████████████████████████████████| 24/24 [00:00<00:00, 26.05it/s]\n"
     ]
    },
    {
     "name": "stdout",
     "output_type": "stream",
     "text": [
      "['deposit_type_Non Refund', 'required_car_parking_spaces', 'lead_time', 'total_of_special_requests', 'booking_changes', 'market_segment_Direct', 'market_segment_Groups', 'hotel_Resort Hotel', 'previous_cancellations', 'distribution_channel_TA/TO', 'customer_type_Transient', 'customer_type_Transient-Party', 'is_repeated_guest', 'days_in_waiting_list', 'customer_type_Group', 'previous_bookings_not_canceled', 'reserved_room_type_E', 'market_segment_Corporate', 'reserved_room_type_F', 'reserved_room_type_D', 'market_segment_Undefined', 'meal_FB', 'adults', 'babies']\n"
     ]
    },
    {
     "name": "stderr",
     "output_type": "stream",
     "text": [
      "100%|██████████████████████████████████████████████████████████████████████████████████| 25/25 [00:01<00:00, 20.58it/s]\n"
     ]
    },
    {
     "name": "stdout",
     "output_type": "stream",
     "text": [
      "['deposit_type_Non Refund', 'required_car_parking_spaces', 'lead_time', 'total_of_special_requests', 'booking_changes', 'market_segment_Direct', 'market_segment_Groups', 'hotel_Resort Hotel', 'previous_cancellations', 'distribution_channel_TA/TO', 'customer_type_Transient', 'customer_type_Transient-Party', 'is_repeated_guest', 'days_in_waiting_list', 'customer_type_Group', 'previous_bookings_not_canceled', 'reserved_room_type_E', 'market_segment_Corporate', 'reserved_room_type_F', 'reserved_room_type_D', 'market_segment_Undefined', 'meal_FB', 'adults', 'babies', 'market_segment_Complementary']\n"
     ]
    },
    {
     "name": "stderr",
     "output_type": "stream",
     "text": [
      "100%|██████████████████████████████████████████████████████████████████████████████████| 26/26 [00:01<00:00, 22.75it/s]\n"
     ]
    },
    {
     "name": "stdout",
     "output_type": "stream",
     "text": [
      "['deposit_type_Non Refund', 'required_car_parking_spaces', 'lead_time', 'total_of_special_requests', 'booking_changes', 'market_segment_Direct', 'market_segment_Groups', 'hotel_Resort Hotel', 'previous_cancellations', 'distribution_channel_TA/TO', 'customer_type_Transient', 'customer_type_Transient-Party', 'is_repeated_guest', 'days_in_waiting_list', 'customer_type_Group', 'previous_bookings_not_canceled', 'reserved_room_type_E', 'market_segment_Corporate', 'reserved_room_type_F', 'reserved_room_type_D', 'market_segment_Undefined', 'meal_FB', 'adults', 'babies', 'market_segment_Complementary', 'reserved_room_type_B']\n"
     ]
    },
    {
     "name": "stderr",
     "output_type": "stream",
     "text": [
      "100%|██████████████████████████████████████████████████████████████████████████████████| 27/27 [00:01<00:00, 23.69it/s]\n"
     ]
    },
    {
     "name": "stdout",
     "output_type": "stream",
     "text": [
      "['deposit_type_Non Refund', 'required_car_parking_spaces', 'lead_time', 'total_of_special_requests', 'booking_changes', 'market_segment_Direct', 'market_segment_Groups', 'hotel_Resort Hotel', 'previous_cancellations', 'distribution_channel_TA/TO', 'customer_type_Transient', 'customer_type_Transient-Party', 'is_repeated_guest', 'days_in_waiting_list', 'customer_type_Group', 'previous_bookings_not_canceled', 'reserved_room_type_E', 'market_segment_Corporate', 'reserved_room_type_F', 'reserved_room_type_D', 'market_segment_Undefined', 'meal_FB', 'adults', 'babies', 'market_segment_Complementary', 'reserved_room_type_B', 'adr']\n"
     ]
    },
    {
     "name": "stderr",
     "output_type": "stream",
     "text": [
      "100%|██████████████████████████████████████████████████████████████████████████████████| 28/28 [00:01<00:00, 24.96it/s]\n"
     ]
    },
    {
     "name": "stdout",
     "output_type": "stream",
     "text": [
      "['deposit_type_Non Refund', 'required_car_parking_spaces', 'lead_time', 'total_of_special_requests', 'booking_changes', 'market_segment_Direct', 'market_segment_Groups', 'hotel_Resort Hotel', 'previous_cancellations', 'distribution_channel_TA/TO', 'customer_type_Transient', 'customer_type_Transient-Party', 'is_repeated_guest', 'days_in_waiting_list', 'customer_type_Group', 'previous_bookings_not_canceled', 'reserved_room_type_E', 'market_segment_Corporate', 'reserved_room_type_F', 'reserved_room_type_D', 'market_segment_Undefined', 'meal_FB', 'adults', 'babies', 'market_segment_Complementary', 'reserved_room_type_B', 'adr', 'reserved_room_type_L']\n"
     ]
    },
    {
     "name": "stderr",
     "output_type": "stream",
     "text": [
      "100%|██████████████████████████████████████████████████████████████████████████████████| 29/29 [00:01<00:00, 22.52it/s]\n"
     ]
    },
    {
     "name": "stdout",
     "output_type": "stream",
     "text": [
      "['deposit_type_Non Refund', 'required_car_parking_spaces', 'lead_time', 'total_of_special_requests', 'booking_changes', 'market_segment_Direct', 'market_segment_Groups', 'hotel_Resort Hotel', 'previous_cancellations', 'distribution_channel_TA/TO', 'customer_type_Transient', 'customer_type_Transient-Party', 'is_repeated_guest', 'days_in_waiting_list', 'customer_type_Group', 'previous_bookings_not_canceled', 'reserved_room_type_E', 'market_segment_Corporate', 'reserved_room_type_F', 'reserved_room_type_D', 'market_segment_Undefined', 'meal_FB', 'adults', 'babies', 'market_segment_Complementary', 'reserved_room_type_B', 'adr', 'reserved_room_type_L', 'arrival_date_week_number']\n"
     ]
    },
    {
     "name": "stderr",
     "output_type": "stream",
     "text": [
      "100%|████████████████████████████████████████████████████████████████████████████████████| 5/5 [00:00<00:00, 25.76it/s]\n"
     ]
    },
    {
     "name": "stdout",
     "output_type": "stream",
     "text": [
      "['deposit_type_Non Refund', 'required_car_parking_spaces', 'lead_time', 'total_of_special_requests', 'booking_changes']\n"
     ]
    },
    {
     "name": "stderr",
     "output_type": "stream",
     "text": [
      "100%|████████████████████████████████████████████████████████████████████████████████████| 6/6 [00:00<00:00, 24.15it/s]\n"
     ]
    },
    {
     "name": "stdout",
     "output_type": "stream",
     "text": [
      "['deposit_type_Non Refund', 'required_car_parking_spaces', 'lead_time', 'total_of_special_requests', 'booking_changes', 'market_segment_Direct']\n"
     ]
    },
    {
     "name": "stderr",
     "output_type": "stream",
     "text": [
      "100%|████████████████████████████████████████████████████████████████████████████████████| 7/7 [00:00<00:00, 24.76it/s]\n"
     ]
    },
    {
     "name": "stdout",
     "output_type": "stream",
     "text": [
      "['deposit_type_Non Refund', 'required_car_parking_spaces', 'lead_time', 'total_of_special_requests', 'booking_changes', 'market_segment_Direct', 'market_segment_Groups']\n"
     ]
    },
    {
     "name": "stderr",
     "output_type": "stream",
     "text": [
      "100%|████████████████████████████████████████████████████████████████████████████████████| 8/8 [00:00<00:00, 24.29it/s]\n"
     ]
    },
    {
     "name": "stdout",
     "output_type": "stream",
     "text": [
      "['deposit_type_Non Refund', 'required_car_parking_spaces', 'lead_time', 'total_of_special_requests', 'booking_changes', 'market_segment_Direct', 'market_segment_Groups', 'hotel_Resort Hotel']\n"
     ]
    },
    {
     "name": "stderr",
     "output_type": "stream",
     "text": [
      "100%|████████████████████████████████████████████████████████████████████████████████████| 9/9 [00:00<00:00, 24.19it/s]\n"
     ]
    },
    {
     "name": "stdout",
     "output_type": "stream",
     "text": [
      "['deposit_type_Non Refund', 'required_car_parking_spaces', 'lead_time', 'total_of_special_requests', 'booking_changes', 'market_segment_Direct', 'market_segment_Groups', 'hotel_Resort Hotel', 'previous_cancellations']\n"
     ]
    },
    {
     "name": "stderr",
     "output_type": "stream",
     "text": [
      "100%|██████████████████████████████████████████████████████████████████████████████████| 10/10 [00:00<00:00, 22.88it/s]\n"
     ]
    },
    {
     "name": "stdout",
     "output_type": "stream",
     "text": [
      "['deposit_type_Non Refund', 'required_car_parking_spaces', 'lead_time', 'total_of_special_requests', 'booking_changes', 'market_segment_Direct', 'market_segment_Groups', 'hotel_Resort Hotel', 'previous_cancellations', 'distribution_channel_TA/TO']\n"
     ]
    },
    {
     "name": "stderr",
     "output_type": "stream",
     "text": [
      "100%|██████████████████████████████████████████████████████████████████████████████████| 11/11 [00:00<00:00, 22.98it/s]\n"
     ]
    },
    {
     "name": "stdout",
     "output_type": "stream",
     "text": [
      "['deposit_type_Non Refund', 'required_car_parking_spaces', 'lead_time', 'total_of_special_requests', 'booking_changes', 'market_segment_Direct', 'market_segment_Groups', 'hotel_Resort Hotel', 'previous_cancellations', 'distribution_channel_TA/TO', 'customer_type_Transient']\n"
     ]
    },
    {
     "name": "stderr",
     "output_type": "stream",
     "text": [
      "100%|██████████████████████████████████████████████████████████████████████████████████| 12/12 [00:00<00:00, 22.89it/s]\n"
     ]
    },
    {
     "name": "stdout",
     "output_type": "stream",
     "text": [
      "['deposit_type_Non Refund', 'required_car_parking_spaces', 'lead_time', 'total_of_special_requests', 'booking_changes', 'market_segment_Direct', 'market_segment_Groups', 'hotel_Resort Hotel', 'previous_cancellations', 'distribution_channel_TA/TO', 'customer_type_Transient', 'customer_type_Transient-Party']\n"
     ]
    },
    {
     "name": "stderr",
     "output_type": "stream",
     "text": [
      "100%|██████████████████████████████████████████████████████████████████████████████████| 13/13 [00:00<00:00, 26.17it/s]\n"
     ]
    },
    {
     "name": "stdout",
     "output_type": "stream",
     "text": [
      "['deposit_type_Non Refund', 'required_car_parking_spaces', 'lead_time', 'total_of_special_requests', 'booking_changes', 'market_segment_Direct', 'market_segment_Groups', 'hotel_Resort Hotel', 'previous_cancellations', 'distribution_channel_TA/TO', 'customer_type_Transient', 'customer_type_Transient-Party', 'is_repeated_guest']\n"
     ]
    },
    {
     "name": "stderr",
     "output_type": "stream",
     "text": [
      "100%|██████████████████████████████████████████████████████████████████████████████████| 14/14 [00:00<00:00, 24.28it/s]\n"
     ]
    },
    {
     "name": "stdout",
     "output_type": "stream",
     "text": [
      "['deposit_type_Non Refund', 'required_car_parking_spaces', 'lead_time', 'total_of_special_requests', 'booking_changes', 'market_segment_Direct', 'market_segment_Groups', 'hotel_Resort Hotel', 'previous_cancellations', 'distribution_channel_TA/TO', 'customer_type_Transient', 'customer_type_Transient-Party', 'is_repeated_guest', 'days_in_waiting_list']\n"
     ]
    },
    {
     "name": "stderr",
     "output_type": "stream",
     "text": [
      "100%|██████████████████████████████████████████████████████████████████████████████████| 15/15 [00:00<00:00, 21.24it/s]\n"
     ]
    },
    {
     "name": "stdout",
     "output_type": "stream",
     "text": [
      "['deposit_type_Non Refund', 'required_car_parking_spaces', 'lead_time', 'total_of_special_requests', 'booking_changes', 'market_segment_Direct', 'market_segment_Groups', 'hotel_Resort Hotel', 'previous_cancellations', 'distribution_channel_TA/TO', 'customer_type_Transient', 'customer_type_Transient-Party', 'is_repeated_guest', 'days_in_waiting_list', 'customer_type_Group']\n"
     ]
    },
    {
     "name": "stderr",
     "output_type": "stream",
     "text": [
      "100%|██████████████████████████████████████████████████████████████████████████████████| 16/16 [00:00<00:00, 21.37it/s]\n"
     ]
    },
    {
     "name": "stdout",
     "output_type": "stream",
     "text": [
      "['deposit_type_Non Refund', 'required_car_parking_spaces', 'lead_time', 'total_of_special_requests', 'booking_changes', 'market_segment_Direct', 'market_segment_Groups', 'hotel_Resort Hotel', 'previous_cancellations', 'distribution_channel_TA/TO', 'customer_type_Transient', 'customer_type_Transient-Party', 'is_repeated_guest', 'days_in_waiting_list', 'customer_type_Group', 'previous_bookings_not_canceled']\n"
     ]
    },
    {
     "name": "stderr",
     "output_type": "stream",
     "text": [
      "100%|██████████████████████████████████████████████████████████████████████████████████| 17/17 [00:00<00:00, 24.48it/s]\n"
     ]
    },
    {
     "name": "stdout",
     "output_type": "stream",
     "text": [
      "['deposit_type_Non Refund', 'required_car_parking_spaces', 'lead_time', 'total_of_special_requests', 'booking_changes', 'market_segment_Direct', 'market_segment_Groups', 'hotel_Resort Hotel', 'previous_cancellations', 'distribution_channel_TA/TO', 'customer_type_Transient', 'customer_type_Transient-Party', 'is_repeated_guest', 'days_in_waiting_list', 'customer_type_Group', 'previous_bookings_not_canceled', 'reserved_room_type_E']\n"
     ]
    },
    {
     "name": "stderr",
     "output_type": "stream",
     "text": [
      "100%|██████████████████████████████████████████████████████████████████████████████████| 18/18 [00:00<00:00, 21.17it/s]\n"
     ]
    },
    {
     "name": "stdout",
     "output_type": "stream",
     "text": [
      "['deposit_type_Non Refund', 'required_car_parking_spaces', 'lead_time', 'total_of_special_requests', 'booking_changes', 'market_segment_Direct', 'market_segment_Groups', 'hotel_Resort Hotel', 'previous_cancellations', 'distribution_channel_TA/TO', 'customer_type_Transient', 'customer_type_Transient-Party', 'is_repeated_guest', 'days_in_waiting_list', 'customer_type_Group', 'previous_bookings_not_canceled', 'reserved_room_type_E', 'market_segment_Corporate']\n"
     ]
    },
    {
     "name": "stderr",
     "output_type": "stream",
     "text": [
      "100%|██████████████████████████████████████████████████████████████████████████████████| 19/19 [00:00<00:00, 25.08it/s]\n"
     ]
    },
    {
     "name": "stdout",
     "output_type": "stream",
     "text": [
      "['deposit_type_Non Refund', 'required_car_parking_spaces', 'lead_time', 'total_of_special_requests', 'booking_changes', 'market_segment_Direct', 'market_segment_Groups', 'hotel_Resort Hotel', 'previous_cancellations', 'distribution_channel_TA/TO', 'customer_type_Transient', 'customer_type_Transient-Party', 'is_repeated_guest', 'days_in_waiting_list', 'customer_type_Group', 'previous_bookings_not_canceled', 'reserved_room_type_E', 'market_segment_Corporate', 'reserved_room_type_F']\n"
     ]
    },
    {
     "name": "stderr",
     "output_type": "stream",
     "text": [
      "100%|██████████████████████████████████████████████████████████████████████████████████| 20/20 [00:00<00:00, 25.32it/s]\n"
     ]
    },
    {
     "name": "stdout",
     "output_type": "stream",
     "text": [
      "['deposit_type_Non Refund', 'required_car_parking_spaces', 'lead_time', 'total_of_special_requests', 'booking_changes', 'market_segment_Direct', 'market_segment_Groups', 'hotel_Resort Hotel', 'previous_cancellations', 'distribution_channel_TA/TO', 'customer_type_Transient', 'customer_type_Transient-Party', 'is_repeated_guest', 'days_in_waiting_list', 'customer_type_Group', 'previous_bookings_not_canceled', 'reserved_room_type_E', 'market_segment_Corporate', 'reserved_room_type_F', 'reserved_room_type_D']\n"
     ]
    },
    {
     "name": "stderr",
     "output_type": "stream",
     "text": [
      "100%|██████████████████████████████████████████████████████████████████████████████████| 21/21 [00:00<00:00, 23.31it/s]\n"
     ]
    },
    {
     "name": "stdout",
     "output_type": "stream",
     "text": [
      "['deposit_type_Non Refund', 'required_car_parking_spaces', 'lead_time', 'total_of_special_requests', 'booking_changes', 'market_segment_Direct', 'market_segment_Groups', 'hotel_Resort Hotel', 'previous_cancellations', 'distribution_channel_TA/TO', 'customer_type_Transient', 'customer_type_Transient-Party', 'is_repeated_guest', 'days_in_waiting_list', 'customer_type_Group', 'previous_bookings_not_canceled', 'reserved_room_type_E', 'market_segment_Corporate', 'reserved_room_type_F', 'reserved_room_type_D', 'market_segment_Undefined']\n"
     ]
    },
    {
     "name": "stderr",
     "output_type": "stream",
     "text": [
      "100%|██████████████████████████████████████████████████████████████████████████████████| 22/22 [00:00<00:00, 22.49it/s]\n"
     ]
    },
    {
     "name": "stdout",
     "output_type": "stream",
     "text": [
      "['deposit_type_Non Refund', 'required_car_parking_spaces', 'lead_time', 'total_of_special_requests', 'booking_changes', 'market_segment_Direct', 'market_segment_Groups', 'hotel_Resort Hotel', 'previous_cancellations', 'distribution_channel_TA/TO', 'customer_type_Transient', 'customer_type_Transient-Party', 'is_repeated_guest', 'days_in_waiting_list', 'customer_type_Group', 'previous_bookings_not_canceled', 'reserved_room_type_E', 'market_segment_Corporate', 'reserved_room_type_F', 'reserved_room_type_D', 'market_segment_Undefined', 'meal_FB']\n"
     ]
    },
    {
     "name": "stderr",
     "output_type": "stream",
     "text": [
      "100%|██████████████████████████████████████████████████████████████████████████████████| 23/23 [00:01<00:00, 21.73it/s]\n"
     ]
    },
    {
     "name": "stdout",
     "output_type": "stream",
     "text": [
      "['deposit_type_Non Refund', 'required_car_parking_spaces', 'lead_time', 'total_of_special_requests', 'booking_changes', 'market_segment_Direct', 'market_segment_Groups', 'hotel_Resort Hotel', 'previous_cancellations', 'distribution_channel_TA/TO', 'customer_type_Transient', 'customer_type_Transient-Party', 'is_repeated_guest', 'days_in_waiting_list', 'customer_type_Group', 'previous_bookings_not_canceled', 'reserved_room_type_E', 'market_segment_Corporate', 'reserved_room_type_F', 'reserved_room_type_D', 'market_segment_Undefined', 'meal_FB', 'adults']\n"
     ]
    },
    {
     "name": "stderr",
     "output_type": "stream",
     "text": [
      "100%|██████████████████████████████████████████████████████████████████████████████████| 24/24 [00:01<00:00, 22.08it/s]\n"
     ]
    },
    {
     "name": "stdout",
     "output_type": "stream",
     "text": [
      "['deposit_type_Non Refund', 'required_car_parking_spaces', 'lead_time', 'total_of_special_requests', 'booking_changes', 'market_segment_Direct', 'market_segment_Groups', 'hotel_Resort Hotel', 'previous_cancellations', 'distribution_channel_TA/TO', 'customer_type_Transient', 'customer_type_Transient-Party', 'is_repeated_guest', 'days_in_waiting_list', 'customer_type_Group', 'previous_bookings_not_canceled', 'reserved_room_type_E', 'market_segment_Corporate', 'reserved_room_type_F', 'reserved_room_type_D', 'market_segment_Undefined', 'meal_FB', 'adults', 'babies']\n"
     ]
    },
    {
     "name": "stderr",
     "output_type": "stream",
     "text": [
      "100%|██████████████████████████████████████████████████████████████████████████████████| 25/25 [00:01<00:00, 18.73it/s]\n"
     ]
    },
    {
     "name": "stdout",
     "output_type": "stream",
     "text": [
      "['deposit_type_Non Refund', 'required_car_parking_spaces', 'lead_time', 'total_of_special_requests', 'booking_changes', 'market_segment_Direct', 'market_segment_Groups', 'hotel_Resort Hotel', 'previous_cancellations', 'distribution_channel_TA/TO', 'customer_type_Transient', 'customer_type_Transient-Party', 'is_repeated_guest', 'days_in_waiting_list', 'customer_type_Group', 'previous_bookings_not_canceled', 'reserved_room_type_E', 'market_segment_Corporate', 'reserved_room_type_F', 'reserved_room_type_D', 'market_segment_Undefined', 'meal_FB', 'adults', 'babies', 'market_segment_Complementary']\n"
     ]
    },
    {
     "name": "stderr",
     "output_type": "stream",
     "text": [
      "100%|██████████████████████████████████████████████████████████████████████████████████| 26/26 [00:01<00:00, 22.10it/s]\n"
     ]
    },
    {
     "name": "stdout",
     "output_type": "stream",
     "text": [
      "['deposit_type_Non Refund', 'required_car_parking_spaces', 'lead_time', 'total_of_special_requests', 'booking_changes', 'market_segment_Direct', 'market_segment_Groups', 'hotel_Resort Hotel', 'previous_cancellations', 'distribution_channel_TA/TO', 'customer_type_Transient', 'customer_type_Transient-Party', 'is_repeated_guest', 'days_in_waiting_list', 'customer_type_Group', 'previous_bookings_not_canceled', 'reserved_room_type_E', 'market_segment_Corporate', 'reserved_room_type_F', 'reserved_room_type_D', 'market_segment_Undefined', 'meal_FB', 'adults', 'babies', 'market_segment_Complementary', 'reserved_room_type_B']\n"
     ]
    },
    {
     "name": "stderr",
     "output_type": "stream",
     "text": [
      "100%|██████████████████████████████████████████████████████████████████████████████████| 27/27 [00:01<00:00, 22.39it/s]\n"
     ]
    },
    {
     "name": "stdout",
     "output_type": "stream",
     "text": [
      "['deposit_type_Non Refund', 'required_car_parking_spaces', 'lead_time', 'total_of_special_requests', 'booking_changes', 'market_segment_Direct', 'market_segment_Groups', 'hotel_Resort Hotel', 'previous_cancellations', 'distribution_channel_TA/TO', 'customer_type_Transient', 'customer_type_Transient-Party', 'is_repeated_guest', 'days_in_waiting_list', 'customer_type_Group', 'previous_bookings_not_canceled', 'reserved_room_type_E', 'market_segment_Corporate', 'reserved_room_type_F', 'reserved_room_type_D', 'market_segment_Undefined', 'meal_FB', 'adults', 'babies', 'market_segment_Complementary', 'reserved_room_type_B', 'adr']\n"
     ]
    },
    {
     "name": "stderr",
     "output_type": "stream",
     "text": [
      "100%|██████████████████████████████████████████████████████████████████████████████████| 28/28 [00:01<00:00, 22.86it/s]\n"
     ]
    },
    {
     "name": "stdout",
     "output_type": "stream",
     "text": [
      "['deposit_type_Non Refund', 'required_car_parking_spaces', 'lead_time', 'total_of_special_requests', 'booking_changes', 'market_segment_Direct', 'market_segment_Groups', 'hotel_Resort Hotel', 'previous_cancellations', 'distribution_channel_TA/TO', 'customer_type_Transient', 'customer_type_Transient-Party', 'is_repeated_guest', 'days_in_waiting_list', 'customer_type_Group', 'previous_bookings_not_canceled', 'reserved_room_type_E', 'market_segment_Corporate', 'reserved_room_type_F', 'reserved_room_type_D', 'market_segment_Undefined', 'meal_FB', 'adults', 'babies', 'market_segment_Complementary', 'reserved_room_type_B', 'adr', 'reserved_room_type_L']\n"
     ]
    },
    {
     "name": "stderr",
     "output_type": "stream",
     "text": [
      "100%|██████████████████████████████████████████████████████████████████████████████████| 29/29 [00:01<00:00, 21.96it/s]\n"
     ]
    },
    {
     "name": "stdout",
     "output_type": "stream",
     "text": [
      "['deposit_type_Non Refund', 'required_car_parking_spaces', 'lead_time', 'total_of_special_requests', 'booking_changes', 'market_segment_Direct', 'market_segment_Groups', 'hotel_Resort Hotel', 'previous_cancellations', 'distribution_channel_TA/TO', 'customer_type_Transient', 'customer_type_Transient-Party', 'is_repeated_guest', 'days_in_waiting_list', 'customer_type_Group', 'previous_bookings_not_canceled', 'reserved_room_type_E', 'market_segment_Corporate', 'reserved_room_type_F', 'reserved_room_type_D', 'market_segment_Undefined', 'meal_FB', 'adults', 'babies', 'market_segment_Complementary', 'reserved_room_type_B', 'adr', 'reserved_room_type_L', 'arrival_date_week_number']\n"
     ]
    },
    {
     "name": "stderr",
     "output_type": "stream",
     "text": [
      "100%|████████████████████████████████████████████████████████████████████████████████████| 5/5 [00:00<00:00, 25.02it/s]\n"
     ]
    },
    {
     "name": "stdout",
     "output_type": "stream",
     "text": [
      "['deposit_type_Non Refund', 'required_car_parking_spaces', 'lead_time', 'total_of_special_requests', 'booking_changes']\n"
     ]
    },
    {
     "name": "stderr",
     "output_type": "stream",
     "text": [
      "100%|████████████████████████████████████████████████████████████████████████████████████| 6/6 [00:00<00:00, 25.36it/s]\n"
     ]
    },
    {
     "name": "stdout",
     "output_type": "stream",
     "text": [
      "['deposit_type_Non Refund', 'required_car_parking_spaces', 'lead_time', 'total_of_special_requests', 'booking_changes', 'market_segment_Direct']\n"
     ]
    },
    {
     "name": "stderr",
     "output_type": "stream",
     "text": [
      "100%|████████████████████████████████████████████████████████████████████████████████████| 7/7 [00:00<00:00, 28.13it/s]\n"
     ]
    },
    {
     "name": "stdout",
     "output_type": "stream",
     "text": [
      "['deposit_type_Non Refund', 'required_car_parking_spaces', 'lead_time', 'total_of_special_requests', 'booking_changes', 'market_segment_Direct', 'market_segment_Groups']\n"
     ]
    },
    {
     "name": "stderr",
     "output_type": "stream",
     "text": [
      "100%|████████████████████████████████████████████████████████████████████████████████████| 8/8 [00:00<00:00, 30.27it/s]\n"
     ]
    },
    {
     "name": "stdout",
     "output_type": "stream",
     "text": [
      "['deposit_type_Non Refund', 'required_car_parking_spaces', 'lead_time', 'total_of_special_requests', 'booking_changes', 'market_segment_Direct', 'market_segment_Groups', 'hotel_Resort Hotel']\n"
     ]
    },
    {
     "name": "stderr",
     "output_type": "stream",
     "text": [
      "100%|████████████████████████████████████████████████████████████████████████████████████| 9/9 [00:00<00:00, 28.94it/s]\n"
     ]
    },
    {
     "name": "stdout",
     "output_type": "stream",
     "text": [
      "['deposit_type_Non Refund', 'required_car_parking_spaces', 'lead_time', 'total_of_special_requests', 'booking_changes', 'market_segment_Direct', 'market_segment_Groups', 'hotel_Resort Hotel', 'previous_cancellations']\n"
     ]
    },
    {
     "name": "stderr",
     "output_type": "stream",
     "text": [
      "100%|██████████████████████████████████████████████████████████████████████████████████| 10/10 [00:00<00:00, 26.89it/s]\n"
     ]
    },
    {
     "name": "stdout",
     "output_type": "stream",
     "text": [
      "['deposit_type_Non Refund', 'required_car_parking_spaces', 'lead_time', 'total_of_special_requests', 'booking_changes', 'market_segment_Direct', 'market_segment_Groups', 'hotel_Resort Hotel', 'previous_cancellations', 'distribution_channel_TA/TO']\n"
     ]
    },
    {
     "name": "stderr",
     "output_type": "stream",
     "text": [
      "100%|██████████████████████████████████████████████████████████████████████████████████| 11/11 [00:00<00:00, 27.03it/s]\n"
     ]
    },
    {
     "name": "stdout",
     "output_type": "stream",
     "text": [
      "['deposit_type_Non Refund', 'required_car_parking_spaces', 'lead_time', 'total_of_special_requests', 'booking_changes', 'market_segment_Direct', 'market_segment_Groups', 'hotel_Resort Hotel', 'previous_cancellations', 'distribution_channel_TA/TO', 'customer_type_Transient']\n"
     ]
    },
    {
     "name": "stderr",
     "output_type": "stream",
     "text": [
      "100%|██████████████████████████████████████████████████████████████████████████████████| 12/12 [00:00<00:00, 27.26it/s]\n"
     ]
    },
    {
     "name": "stdout",
     "output_type": "stream",
     "text": [
      "['deposit_type_Non Refund', 'required_car_parking_spaces', 'lead_time', 'total_of_special_requests', 'booking_changes', 'market_segment_Direct', 'market_segment_Groups', 'hotel_Resort Hotel', 'previous_cancellations', 'distribution_channel_TA/TO', 'customer_type_Transient', 'customer_type_Transient-Party']\n"
     ]
    },
    {
     "name": "stderr",
     "output_type": "stream",
     "text": [
      "100%|██████████████████████████████████████████████████████████████████████████████████| 13/13 [00:00<00:00, 23.76it/s]\n"
     ]
    },
    {
     "name": "stdout",
     "output_type": "stream",
     "text": [
      "['deposit_type_Non Refund', 'required_car_parking_spaces', 'lead_time', 'total_of_special_requests', 'booking_changes', 'market_segment_Direct', 'market_segment_Groups', 'hotel_Resort Hotel', 'previous_cancellations', 'distribution_channel_TA/TO', 'customer_type_Transient', 'customer_type_Transient-Party', 'is_repeated_guest']\n"
     ]
    },
    {
     "name": "stderr",
     "output_type": "stream",
     "text": [
      "100%|██████████████████████████████████████████████████████████████████████████████████| 14/14 [00:00<00:00, 28.81it/s]\n"
     ]
    },
    {
     "name": "stdout",
     "output_type": "stream",
     "text": [
      "['deposit_type_Non Refund', 'required_car_parking_spaces', 'lead_time', 'total_of_special_requests', 'booking_changes', 'market_segment_Direct', 'market_segment_Groups', 'hotel_Resort Hotel', 'previous_cancellations', 'distribution_channel_TA/TO', 'customer_type_Transient', 'customer_type_Transient-Party', 'is_repeated_guest', 'days_in_waiting_list']\n"
     ]
    },
    {
     "name": "stderr",
     "output_type": "stream",
     "text": [
      "100%|██████████████████████████████████████████████████████████████████████████████████| 15/15 [00:00<00:00, 22.76it/s]\n"
     ]
    },
    {
     "name": "stdout",
     "output_type": "stream",
     "text": [
      "['deposit_type_Non Refund', 'required_car_parking_spaces', 'lead_time', 'total_of_special_requests', 'booking_changes', 'market_segment_Direct', 'market_segment_Groups', 'hotel_Resort Hotel', 'previous_cancellations', 'distribution_channel_TA/TO', 'customer_type_Transient', 'customer_type_Transient-Party', 'is_repeated_guest', 'days_in_waiting_list', 'customer_type_Group']\n"
     ]
    },
    {
     "name": "stderr",
     "output_type": "stream",
     "text": [
      "100%|██████████████████████████████████████████████████████████████████████████████████| 16/16 [00:00<00:00, 25.54it/s]\n"
     ]
    },
    {
     "name": "stdout",
     "output_type": "stream",
     "text": [
      "['deposit_type_Non Refund', 'required_car_parking_spaces', 'lead_time', 'total_of_special_requests', 'booking_changes', 'market_segment_Direct', 'market_segment_Groups', 'hotel_Resort Hotel', 'previous_cancellations', 'distribution_channel_TA/TO', 'customer_type_Transient', 'customer_type_Transient-Party', 'is_repeated_guest', 'days_in_waiting_list', 'customer_type_Group', 'previous_bookings_not_canceled']\n"
     ]
    },
    {
     "name": "stderr",
     "output_type": "stream",
     "text": [
      "100%|██████████████████████████████████████████████████████████████████████████████████| 17/17 [00:00<00:00, 26.55it/s]\n"
     ]
    },
    {
     "name": "stdout",
     "output_type": "stream",
     "text": [
      "['deposit_type_Non Refund', 'required_car_parking_spaces', 'lead_time', 'total_of_special_requests', 'booking_changes', 'market_segment_Direct', 'market_segment_Groups', 'hotel_Resort Hotel', 'previous_cancellations', 'distribution_channel_TA/TO', 'customer_type_Transient', 'customer_type_Transient-Party', 'is_repeated_guest', 'days_in_waiting_list', 'customer_type_Group', 'previous_bookings_not_canceled', 'reserved_room_type_E']\n"
     ]
    },
    {
     "name": "stderr",
     "output_type": "stream",
     "text": [
      "100%|██████████████████████████████████████████████████████████████████████████████████| 18/18 [00:00<00:00, 28.10it/s]\n"
     ]
    },
    {
     "name": "stdout",
     "output_type": "stream",
     "text": [
      "['deposit_type_Non Refund', 'required_car_parking_spaces', 'lead_time', 'total_of_special_requests', 'booking_changes', 'market_segment_Direct', 'market_segment_Groups', 'hotel_Resort Hotel', 'previous_cancellations', 'distribution_channel_TA/TO', 'customer_type_Transient', 'customer_type_Transient-Party', 'is_repeated_guest', 'days_in_waiting_list', 'customer_type_Group', 'previous_bookings_not_canceled', 'reserved_room_type_E', 'market_segment_Corporate']\n"
     ]
    },
    {
     "name": "stderr",
     "output_type": "stream",
     "text": [
      "100%|██████████████████████████████████████████████████████████████████████████████████| 19/19 [00:00<00:00, 26.39it/s]\n"
     ]
    },
    {
     "name": "stdout",
     "output_type": "stream",
     "text": [
      "['deposit_type_Non Refund', 'required_car_parking_spaces', 'lead_time', 'total_of_special_requests', 'booking_changes', 'market_segment_Direct', 'market_segment_Groups', 'hotel_Resort Hotel', 'previous_cancellations', 'distribution_channel_TA/TO', 'customer_type_Transient', 'customer_type_Transient-Party', 'is_repeated_guest', 'days_in_waiting_list', 'customer_type_Group', 'previous_bookings_not_canceled', 'reserved_room_type_E', 'market_segment_Corporate', 'reserved_room_type_F']\n"
     ]
    },
    {
     "name": "stderr",
     "output_type": "stream",
     "text": [
      "100%|██████████████████████████████████████████████████████████████████████████████████| 20/20 [00:00<00:00, 22.47it/s]\n"
     ]
    },
    {
     "name": "stdout",
     "output_type": "stream",
     "text": [
      "['deposit_type_Non Refund', 'required_car_parking_spaces', 'lead_time', 'total_of_special_requests', 'booking_changes', 'market_segment_Direct', 'market_segment_Groups', 'hotel_Resort Hotel', 'previous_cancellations', 'distribution_channel_TA/TO', 'customer_type_Transient', 'customer_type_Transient-Party', 'is_repeated_guest', 'days_in_waiting_list', 'customer_type_Group', 'previous_bookings_not_canceled', 'reserved_room_type_E', 'market_segment_Corporate', 'reserved_room_type_F', 'reserved_room_type_D']\n"
     ]
    },
    {
     "name": "stderr",
     "output_type": "stream",
     "text": [
      "100%|██████████████████████████████████████████████████████████████████████████████████| 21/21 [00:00<00:00, 22.72it/s]\n"
     ]
    },
    {
     "name": "stdout",
     "output_type": "stream",
     "text": [
      "['deposit_type_Non Refund', 'required_car_parking_spaces', 'lead_time', 'total_of_special_requests', 'booking_changes', 'market_segment_Direct', 'market_segment_Groups', 'hotel_Resort Hotel', 'previous_cancellations', 'distribution_channel_TA/TO', 'customer_type_Transient', 'customer_type_Transient-Party', 'is_repeated_guest', 'days_in_waiting_list', 'customer_type_Group', 'previous_bookings_not_canceled', 'reserved_room_type_E', 'market_segment_Corporate', 'reserved_room_type_F', 'reserved_room_type_D', 'market_segment_Undefined']\n"
     ]
    },
    {
     "name": "stderr",
     "output_type": "stream",
     "text": [
      "100%|██████████████████████████████████████████████████████████████████████████████████| 22/22 [00:01<00:00, 19.17it/s]\n"
     ]
    },
    {
     "name": "stdout",
     "output_type": "stream",
     "text": [
      "['deposit_type_Non Refund', 'required_car_parking_spaces', 'lead_time', 'total_of_special_requests', 'booking_changes', 'market_segment_Direct', 'market_segment_Groups', 'hotel_Resort Hotel', 'previous_cancellations', 'distribution_channel_TA/TO', 'customer_type_Transient', 'customer_type_Transient-Party', 'is_repeated_guest', 'days_in_waiting_list', 'customer_type_Group', 'previous_bookings_not_canceled', 'reserved_room_type_E', 'market_segment_Corporate', 'reserved_room_type_F', 'reserved_room_type_D', 'market_segment_Undefined', 'meal_FB']\n"
     ]
    },
    {
     "name": "stderr",
     "output_type": "stream",
     "text": [
      "100%|██████████████████████████████████████████████████████████████████████████████████| 23/23 [00:01<00:00, 22.37it/s]\n"
     ]
    },
    {
     "name": "stdout",
     "output_type": "stream",
     "text": [
      "['deposit_type_Non Refund', 'required_car_parking_spaces', 'lead_time', 'total_of_special_requests', 'booking_changes', 'market_segment_Direct', 'market_segment_Groups', 'hotel_Resort Hotel', 'previous_cancellations', 'distribution_channel_TA/TO', 'customer_type_Transient', 'customer_type_Transient-Party', 'is_repeated_guest', 'days_in_waiting_list', 'customer_type_Group', 'previous_bookings_not_canceled', 'reserved_room_type_E', 'market_segment_Corporate', 'reserved_room_type_F', 'reserved_room_type_D', 'market_segment_Undefined', 'meal_FB', 'adults']\n"
     ]
    },
    {
     "name": "stderr",
     "output_type": "stream",
     "text": [
      "100%|██████████████████████████████████████████████████████████████████████████████████| 24/24 [00:01<00:00, 22.35it/s]\n"
     ]
    },
    {
     "name": "stdout",
     "output_type": "stream",
     "text": [
      "['deposit_type_Non Refund', 'required_car_parking_spaces', 'lead_time', 'total_of_special_requests', 'booking_changes', 'market_segment_Direct', 'market_segment_Groups', 'hotel_Resort Hotel', 'previous_cancellations', 'distribution_channel_TA/TO', 'customer_type_Transient', 'customer_type_Transient-Party', 'is_repeated_guest', 'days_in_waiting_list', 'customer_type_Group', 'previous_bookings_not_canceled', 'reserved_room_type_E', 'market_segment_Corporate', 'reserved_room_type_F', 'reserved_room_type_D', 'market_segment_Undefined', 'meal_FB', 'adults', 'babies']\n"
     ]
    },
    {
     "name": "stderr",
     "output_type": "stream",
     "text": [
      "100%|██████████████████████████████████████████████████████████████████████████████████| 25/25 [00:01<00:00, 23.75it/s]\n"
     ]
    },
    {
     "name": "stdout",
     "output_type": "stream",
     "text": [
      "['deposit_type_Non Refund', 'required_car_parking_spaces', 'lead_time', 'total_of_special_requests', 'booking_changes', 'market_segment_Direct', 'market_segment_Groups', 'hotel_Resort Hotel', 'previous_cancellations', 'distribution_channel_TA/TO', 'customer_type_Transient', 'customer_type_Transient-Party', 'is_repeated_guest', 'days_in_waiting_list', 'customer_type_Group', 'previous_bookings_not_canceled', 'reserved_room_type_E', 'market_segment_Corporate', 'reserved_room_type_F', 'reserved_room_type_D', 'market_segment_Undefined', 'meal_FB', 'adults', 'babies', 'market_segment_Complementary']\n"
     ]
    },
    {
     "name": "stderr",
     "output_type": "stream",
     "text": [
      "100%|██████████████████████████████████████████████████████████████████████████████████| 26/26 [00:01<00:00, 24.53it/s]\n"
     ]
    },
    {
     "name": "stdout",
     "output_type": "stream",
     "text": [
      "['deposit_type_Non Refund', 'required_car_parking_spaces', 'lead_time', 'total_of_special_requests', 'booking_changes', 'market_segment_Direct', 'market_segment_Groups', 'hotel_Resort Hotel', 'previous_cancellations', 'distribution_channel_TA/TO', 'customer_type_Transient', 'customer_type_Transient-Party', 'is_repeated_guest', 'days_in_waiting_list', 'customer_type_Group', 'previous_bookings_not_canceled', 'reserved_room_type_E', 'market_segment_Corporate', 'reserved_room_type_F', 'reserved_room_type_D', 'market_segment_Undefined', 'meal_FB', 'adults', 'babies', 'market_segment_Complementary', 'reserved_room_type_B']\n"
     ]
    },
    {
     "name": "stderr",
     "output_type": "stream",
     "text": [
      "100%|██████████████████████████████████████████████████████████████████████████████████| 27/27 [00:01<00:00, 23.28it/s]\n"
     ]
    },
    {
     "name": "stdout",
     "output_type": "stream",
     "text": [
      "['deposit_type_Non Refund', 'required_car_parking_spaces', 'lead_time', 'total_of_special_requests', 'booking_changes', 'market_segment_Direct', 'market_segment_Groups', 'hotel_Resort Hotel', 'previous_cancellations', 'distribution_channel_TA/TO', 'customer_type_Transient', 'customer_type_Transient-Party', 'is_repeated_guest', 'days_in_waiting_list', 'customer_type_Group', 'previous_bookings_not_canceled', 'reserved_room_type_E', 'market_segment_Corporate', 'reserved_room_type_F', 'reserved_room_type_D', 'market_segment_Undefined', 'meal_FB', 'adults', 'babies', 'market_segment_Complementary', 'reserved_room_type_B', 'adr']\n"
     ]
    },
    {
     "name": "stderr",
     "output_type": "stream",
     "text": [
      "100%|██████████████████████████████████████████████████████████████████████████████████| 28/28 [00:01<00:00, 21.12it/s]\n"
     ]
    },
    {
     "name": "stdout",
     "output_type": "stream",
     "text": [
      "['deposit_type_Non Refund', 'required_car_parking_spaces', 'lead_time', 'total_of_special_requests', 'booking_changes', 'market_segment_Direct', 'market_segment_Groups', 'hotel_Resort Hotel', 'previous_cancellations', 'distribution_channel_TA/TO', 'customer_type_Transient', 'customer_type_Transient-Party', 'is_repeated_guest', 'days_in_waiting_list', 'customer_type_Group', 'previous_bookings_not_canceled', 'reserved_room_type_E', 'market_segment_Corporate', 'reserved_room_type_F', 'reserved_room_type_D', 'market_segment_Undefined', 'meal_FB', 'adults', 'babies', 'market_segment_Complementary', 'reserved_room_type_B', 'adr', 'reserved_room_type_L']\n"
     ]
    },
    {
     "name": "stderr",
     "output_type": "stream",
     "text": [
      "100%|██████████████████████████████████████████████████████████████████████████████████| 29/29 [00:01<00:00, 25.44it/s]\n"
     ]
    },
    {
     "name": "stdout",
     "output_type": "stream",
     "text": [
      "['deposit_type_Non Refund', 'required_car_parking_spaces', 'lead_time', 'total_of_special_requests', 'booking_changes', 'market_segment_Direct', 'market_segment_Groups', 'hotel_Resort Hotel', 'previous_cancellations', 'distribution_channel_TA/TO', 'customer_type_Transient', 'customer_type_Transient-Party', 'is_repeated_guest', 'days_in_waiting_list', 'customer_type_Group', 'previous_bookings_not_canceled', 'reserved_room_type_E', 'market_segment_Corporate', 'reserved_room_type_F', 'reserved_room_type_D', 'market_segment_Undefined', 'meal_FB', 'adults', 'babies', 'market_segment_Complementary', 'reserved_room_type_B', 'adr', 'reserved_room_type_L', 'arrival_date_week_number']\n"
     ]
    }
   ],
   "source": [
    "results = []\n",
    "for classifier in classifiers:\n",
    "    clas = classifier\n",
    "    for i in range(5,30):\n",
    "        lst = (mrmr_classif(X_train,y_train.values,K=i))\n",
    "        print(lst)\n",
    "        X_train_temp = X_train.loc[:,lst]\n",
    "        X_test_temp = X_test.loc[:,lst]\n",
    "        clas.fit(X_train_temp, y_train)\n",
    "        y_pred = classifier.predict(X_test_temp)\n",
    "        a = len(lst)\n",
    "        b = lst\n",
    "        c = str(classifier)\n",
    "        d = balanced_accuracy_score(y_test, y_pred)\n",
    "        e = f1_score(y_test, y_pred, average='macro')\n",
    "        results.append([a,b,c,d,e])"
   ]
  },
  {
   "cell_type": "code",
   "execution_count": 104,
   "id": "164534a4-ebfa-44f0-bb89-62fc8655cf95",
   "metadata": {},
   "outputs": [],
   "source": [
    "res = pd.DataFrame(results)"
   ]
  },
  {
   "cell_type": "code",
   "execution_count": 105,
   "id": "65976eb8-9bbf-4199-a83b-dd71d80f2260",
   "metadata": {
    "scrolled": true
   },
   "outputs": [
    {
     "data": {
      "text/html": [
       "<div>\n",
       "<style scoped>\n",
       "    .dataframe tbody tr th:only-of-type {\n",
       "        vertical-align: middle;\n",
       "    }\n",
       "\n",
       "    .dataframe tbody tr th {\n",
       "        vertical-align: top;\n",
       "    }\n",
       "\n",
       "    .dataframe thead th {\n",
       "        text-align: right;\n",
       "    }\n",
       "</style>\n",
       "<table border=\"1\" class=\"dataframe\">\n",
       "  <thead>\n",
       "    <tr style=\"text-align: right;\">\n",
       "      <th></th>\n",
       "      <th>0</th>\n",
       "      <th>1</th>\n",
       "      <th>2</th>\n",
       "      <th>3</th>\n",
       "      <th>4</th>\n",
       "    </tr>\n",
       "  </thead>\n",
       "  <tbody>\n",
       "    <tr>\n",
       "      <th>0</th>\n",
       "      <td>5</td>\n",
       "      <td>[deposit_type_Non Refund, required_car_parking...</td>\n",
       "      <td>RandomForestClassifier(class_weight='balanced')</td>\n",
       "      <td>0.696187</td>\n",
       "      <td>0.694159</td>\n",
       "    </tr>\n",
       "    <tr>\n",
       "      <th>1</th>\n",
       "      <td>6</td>\n",
       "      <td>[deposit_type_Non Refund, required_car_parking...</td>\n",
       "      <td>RandomForestClassifier(class_weight='balanced')</td>\n",
       "      <td>0.691343</td>\n",
       "      <td>0.689772</td>\n",
       "    </tr>\n",
       "    <tr>\n",
       "      <th>2</th>\n",
       "      <td>7</td>\n",
       "      <td>[deposit_type_Non Refund, required_car_parking...</td>\n",
       "      <td>RandomForestClassifier(class_weight='balanced')</td>\n",
       "      <td>0.696510</td>\n",
       "      <td>0.696118</td>\n",
       "    </tr>\n",
       "    <tr>\n",
       "      <th>3</th>\n",
       "      <td>8</td>\n",
       "      <td>[deposit_type_Non Refund, required_car_parking...</td>\n",
       "      <td>RandomForestClassifier(class_weight='balanced')</td>\n",
       "      <td>0.704589</td>\n",
       "      <td>0.705079</td>\n",
       "    </tr>\n",
       "    <tr>\n",
       "      <th>4</th>\n",
       "      <td>9</td>\n",
       "      <td>[deposit_type_Non Refund, required_car_parking...</td>\n",
       "      <td>RandomForestClassifier(class_weight='balanced')</td>\n",
       "      <td>0.713327</td>\n",
       "      <td>0.714476</td>\n",
       "    </tr>\n",
       "    <tr>\n",
       "      <th>...</th>\n",
       "      <td>...</td>\n",
       "      <td>...</td>\n",
       "      <td>...</td>\n",
       "      <td>...</td>\n",
       "      <td>...</td>\n",
       "    </tr>\n",
       "    <tr>\n",
       "      <th>70</th>\n",
       "      <td>25</td>\n",
       "      <td>[deposit_type_Non Refund, required_car_parking...</td>\n",
       "      <td>SVC()</td>\n",
       "      <td>0.575492</td>\n",
       "      <td>0.556064</td>\n",
       "    </tr>\n",
       "    <tr>\n",
       "      <th>71</th>\n",
       "      <td>26</td>\n",
       "      <td>[deposit_type_Non Refund, required_car_parking...</td>\n",
       "      <td>SVC()</td>\n",
       "      <td>0.575492</td>\n",
       "      <td>0.556064</td>\n",
       "    </tr>\n",
       "    <tr>\n",
       "      <th>72</th>\n",
       "      <td>27</td>\n",
       "      <td>[deposit_type_Non Refund, required_car_parking...</td>\n",
       "      <td>SVC()</td>\n",
       "      <td>0.574682</td>\n",
       "      <td>0.556574</td>\n",
       "    </tr>\n",
       "    <tr>\n",
       "      <th>73</th>\n",
       "      <td>28</td>\n",
       "      <td>[deposit_type_Non Refund, required_car_parking...</td>\n",
       "      <td>SVC()</td>\n",
       "      <td>0.574682</td>\n",
       "      <td>0.556574</td>\n",
       "    </tr>\n",
       "    <tr>\n",
       "      <th>74</th>\n",
       "      <td>29</td>\n",
       "      <td>[deposit_type_Non Refund, required_car_parking...</td>\n",
       "      <td>SVC()</td>\n",
       "      <td>0.578525</td>\n",
       "      <td>0.560921</td>\n",
       "    </tr>\n",
       "  </tbody>\n",
       "</table>\n",
       "<p>75 rows × 5 columns</p>\n",
       "</div>"
      ],
      "text/plain": [
       "     0                                                  1  \\\n",
       "0    5  [deposit_type_Non Refund, required_car_parking...   \n",
       "1    6  [deposit_type_Non Refund, required_car_parking...   \n",
       "2    7  [deposit_type_Non Refund, required_car_parking...   \n",
       "3    8  [deposit_type_Non Refund, required_car_parking...   \n",
       "4    9  [deposit_type_Non Refund, required_car_parking...   \n",
       "..  ..                                                ...   \n",
       "70  25  [deposit_type_Non Refund, required_car_parking...   \n",
       "71  26  [deposit_type_Non Refund, required_car_parking...   \n",
       "72  27  [deposit_type_Non Refund, required_car_parking...   \n",
       "73  28  [deposit_type_Non Refund, required_car_parking...   \n",
       "74  29  [deposit_type_Non Refund, required_car_parking...   \n",
       "\n",
       "                                                  2         3         4  \n",
       "0   RandomForestClassifier(class_weight='balanced')  0.696187  0.694159  \n",
       "1   RandomForestClassifier(class_weight='balanced')  0.691343  0.689772  \n",
       "2   RandomForestClassifier(class_weight='balanced')  0.696510  0.696118  \n",
       "3   RandomForestClassifier(class_weight='balanced')  0.704589  0.705079  \n",
       "4   RandomForestClassifier(class_weight='balanced')  0.713327  0.714476  \n",
       "..                                              ...       ...       ...  \n",
       "70                                            SVC()  0.575492  0.556064  \n",
       "71                                            SVC()  0.575492  0.556064  \n",
       "72                                            SVC()  0.574682  0.556574  \n",
       "73                                            SVC()  0.574682  0.556574  \n",
       "74                                            SVC()  0.578525  0.560921  \n",
       "\n",
       "[75 rows x 5 columns]"
      ]
     },
     "execution_count": 105,
     "metadata": {},
     "output_type": "execute_result"
    }
   ],
   "source": [
    "res"
   ]
  },
  {
   "cell_type": "code",
   "execution_count": 106,
   "id": "175db9bd-10e8-4660-93f7-612c21462371",
   "metadata": {
    "scrolled": true
   },
   "outputs": [
    {
     "data": {
      "text/html": [
       "<div>\n",
       "<style scoped>\n",
       "    .dataframe tbody tr th:only-of-type {\n",
       "        vertical-align: middle;\n",
       "    }\n",
       "\n",
       "    .dataframe tbody tr th {\n",
       "        vertical-align: top;\n",
       "    }\n",
       "\n",
       "    .dataframe thead th {\n",
       "        text-align: right;\n",
       "    }\n",
       "</style>\n",
       "<table border=\"1\" class=\"dataframe\">\n",
       "  <thead>\n",
       "    <tr style=\"text-align: right;\">\n",
       "      <th></th>\n",
       "      <th>0</th>\n",
       "      <th>1</th>\n",
       "      <th>2</th>\n",
       "      <th>3</th>\n",
       "      <th>4</th>\n",
       "    </tr>\n",
       "  </thead>\n",
       "  <tbody>\n",
       "    <tr>\n",
       "      <th>24</th>\n",
       "      <td>29</td>\n",
       "      <td>[deposit_type_Non Refund, required_car_parking...</td>\n",
       "      <td>RandomForestClassifier(class_weight='balanced')</td>\n",
       "      <td>0.775019</td>\n",
       "      <td>0.786141</td>\n",
       "    </tr>\n",
       "    <tr>\n",
       "      <th>23</th>\n",
       "      <td>28</td>\n",
       "      <td>[deposit_type_Non Refund, required_car_parking...</td>\n",
       "      <td>RandomForestClassifier(class_weight='balanced')</td>\n",
       "      <td>0.773226</td>\n",
       "      <td>0.781888</td>\n",
       "    </tr>\n",
       "    <tr>\n",
       "      <th>22</th>\n",
       "      <td>27</td>\n",
       "      <td>[deposit_type_Non Refund, required_car_parking...</td>\n",
       "      <td>RandomForestClassifier(class_weight='balanced')</td>\n",
       "      <td>0.770877</td>\n",
       "      <td>0.779342</td>\n",
       "    </tr>\n",
       "    <tr>\n",
       "      <th>49</th>\n",
       "      <td>29</td>\n",
       "      <td>[deposit_type_Non Refund, required_car_parking...</td>\n",
       "      <td>XGBClassifier(base_score=None, booster=None, c...</td>\n",
       "      <td>0.768214</td>\n",
       "      <td>0.778186</td>\n",
       "    </tr>\n",
       "    <tr>\n",
       "      <th>48</th>\n",
       "      <td>28</td>\n",
       "      <td>[deposit_type_Non Refund, required_car_parking...</td>\n",
       "      <td>XGBClassifier(base_score=None, booster=None, c...</td>\n",
       "      <td>0.764545</td>\n",
       "      <td>0.774820</td>\n",
       "    </tr>\n",
       "    <tr>\n",
       "      <th>...</th>\n",
       "      <td>...</td>\n",
       "      <td>...</td>\n",
       "      <td>...</td>\n",
       "      <td>...</td>\n",
       "      <td>...</td>\n",
       "    </tr>\n",
       "    <tr>\n",
       "      <th>53</th>\n",
       "      <td>8</td>\n",
       "      <td>[deposit_type_Non Refund, required_car_parking...</td>\n",
       "      <td>SVC()</td>\n",
       "      <td>0.564526</td>\n",
       "      <td>0.544617</td>\n",
       "    </tr>\n",
       "    <tr>\n",
       "      <th>51</th>\n",
       "      <td>6</td>\n",
       "      <td>[deposit_type_Non Refund, required_car_parking...</td>\n",
       "      <td>SVC()</td>\n",
       "      <td>0.564208</td>\n",
       "      <td>0.544326</td>\n",
       "    </tr>\n",
       "    <tr>\n",
       "      <th>56</th>\n",
       "      <td>11</td>\n",
       "      <td>[deposit_type_Non Refund, required_car_parking...</td>\n",
       "      <td>SVC()</td>\n",
       "      <td>0.564405</td>\n",
       "      <td>0.543979</td>\n",
       "    </tr>\n",
       "    <tr>\n",
       "      <th>55</th>\n",
       "      <td>10</td>\n",
       "      <td>[deposit_type_Non Refund, required_car_parking...</td>\n",
       "      <td>SVC()</td>\n",
       "      <td>0.563548</td>\n",
       "      <td>0.542930</td>\n",
       "    </tr>\n",
       "    <tr>\n",
       "      <th>54</th>\n",
       "      <td>9</td>\n",
       "      <td>[deposit_type_Non Refund, required_car_parking...</td>\n",
       "      <td>SVC()</td>\n",
       "      <td>0.563548</td>\n",
       "      <td>0.542930</td>\n",
       "    </tr>\n",
       "  </tbody>\n",
       "</table>\n",
       "<p>75 rows × 5 columns</p>\n",
       "</div>"
      ],
      "text/plain": [
       "     0                                                  1  \\\n",
       "24  29  [deposit_type_Non Refund, required_car_parking...   \n",
       "23  28  [deposit_type_Non Refund, required_car_parking...   \n",
       "22  27  [deposit_type_Non Refund, required_car_parking...   \n",
       "49  29  [deposit_type_Non Refund, required_car_parking...   \n",
       "48  28  [deposit_type_Non Refund, required_car_parking...   \n",
       "..  ..                                                ...   \n",
       "53   8  [deposit_type_Non Refund, required_car_parking...   \n",
       "51   6  [deposit_type_Non Refund, required_car_parking...   \n",
       "56  11  [deposit_type_Non Refund, required_car_parking...   \n",
       "55  10  [deposit_type_Non Refund, required_car_parking...   \n",
       "54   9  [deposit_type_Non Refund, required_car_parking...   \n",
       "\n",
       "                                                    2         3         4  \n",
       "24    RandomForestClassifier(class_weight='balanced')  0.775019  0.786141  \n",
       "23    RandomForestClassifier(class_weight='balanced')  0.773226  0.781888  \n",
       "22    RandomForestClassifier(class_weight='balanced')  0.770877  0.779342  \n",
       "49  XGBClassifier(base_score=None, booster=None, c...  0.768214  0.778186  \n",
       "48  XGBClassifier(base_score=None, booster=None, c...  0.764545  0.774820  \n",
       "..                                                ...       ...       ...  \n",
       "53                                              SVC()  0.564526  0.544617  \n",
       "51                                              SVC()  0.564208  0.544326  \n",
       "56                                              SVC()  0.564405  0.543979  \n",
       "55                                              SVC()  0.563548  0.542930  \n",
       "54                                              SVC()  0.563548  0.542930  \n",
       "\n",
       "[75 rows x 5 columns]"
      ]
     },
     "execution_count": 106,
     "metadata": {},
     "output_type": "execute_result"
    }
   ],
   "source": [
    "res.sort_values(4,ascending = False)"
   ]
  },
  {
   "cell_type": "code",
   "execution_count": 107,
   "id": "2e7bf1e9-954e-4b57-8682-22a1fe16f850",
   "metadata": {},
   "outputs": [],
   "source": [
    "importantmrmr = res.iloc[23,1]"
   ]
  },
  {
   "cell_type": "code",
   "execution_count": 108,
   "id": "40944da8-2412-4636-85f9-8ac29daafbe3",
   "metadata": {},
   "outputs": [
    {
     "data": {
      "text/plain": [
       "['deposit_type_Non Refund',\n",
       " 'required_car_parking_spaces',\n",
       " 'lead_time',\n",
       " 'total_of_special_requests',\n",
       " 'booking_changes',\n",
       " 'market_segment_Direct',\n",
       " 'market_segment_Groups',\n",
       " 'hotel_Resort Hotel',\n",
       " 'previous_cancellations',\n",
       " 'distribution_channel_TA/TO',\n",
       " 'customer_type_Transient',\n",
       " 'customer_type_Transient-Party',\n",
       " 'is_repeated_guest',\n",
       " 'days_in_waiting_list',\n",
       " 'customer_type_Group',\n",
       " 'previous_bookings_not_canceled',\n",
       " 'reserved_room_type_E',\n",
       " 'market_segment_Corporate',\n",
       " 'reserved_room_type_F',\n",
       " 'reserved_room_type_D',\n",
       " 'market_segment_Undefined',\n",
       " 'meal_FB',\n",
       " 'adults',\n",
       " 'babies',\n",
       " 'market_segment_Complementary',\n",
       " 'reserved_room_type_B',\n",
       " 'adr',\n",
       " 'reserved_room_type_L']"
      ]
     },
     "execution_count": 108,
     "metadata": {},
     "output_type": "execute_result"
    }
   ],
   "source": [
    "importantmrmr"
   ]
  },
  {
   "cell_type": "code",
   "execution_count": 109,
   "id": "a20c38e1-d987-4ad3-82f1-ccfa1e5ea529",
   "metadata": {},
   "outputs": [
    {
     "data": {
      "text/plain": [
       "['lead_time',\n",
       " 'arrival_date_week_number',\n",
       " 'arrival_date_day_of_month',\n",
       " 'stays_in_weekend_nights',\n",
       " 'stays_in_week_nights',\n",
       " 'adults',\n",
       " 'children',\n",
       " 'babies',\n",
       " 'is_repeated_guest',\n",
       " 'previous_cancellations',\n",
       " 'previous_bookings_not_canceled',\n",
       " 'booking_changes',\n",
       " 'days_in_waiting_list',\n",
       " 'adr',\n",
       " 'required_car_parking_spaces',\n",
       " 'total_of_special_requests',\n",
       " 'hotel_Resort Hotel',\n",
       " 'meal_FB',\n",
       " 'meal_HB',\n",
       " 'meal_SC',\n",
       " 'meal_Undefined',\n",
       " 'market_segment_Complementary',\n",
       " 'market_segment_Corporate',\n",
       " 'market_segment_Direct',\n",
       " 'market_segment_Groups',\n",
       " 'market_segment_Offline TA/TO',\n",
       " 'market_segment_Online TA',\n",
       " 'market_segment_Undefined',\n",
       " 'distribution_channel_GDS',\n",
       " 'distribution_channel_TA/TO',\n",
       " 'distribution_channel_Undefined',\n",
       " 'reserved_room_type_B',\n",
       " 'reserved_room_type_C',\n",
       " 'reserved_room_type_D',\n",
       " 'reserved_room_type_E',\n",
       " 'reserved_room_type_F',\n",
       " 'reserved_room_type_G',\n",
       " 'reserved_room_type_H',\n",
       " 'reserved_room_type_L',\n",
       " 'deposit_type_Non Refund',\n",
       " 'deposit_type_Refundable',\n",
       " 'customer_type_Group',\n",
       " 'customer_type_Transient',\n",
       " 'customer_type_Transient-Party']"
      ]
     },
     "execution_count": 109,
     "metadata": {},
     "output_type": "execute_result"
    }
   ],
   "source": [
    "importantkbest"
   ]
  },
  {
   "cell_type": "code",
   "execution_count": 110,
   "id": "cfd41401-7195-45f3-9135-dbc7e93cf991",
   "metadata": {},
   "outputs": [],
   "source": [
    "set2 = set(importantmrmr) & set(importantkbest)"
   ]
  },
  {
   "cell_type": "code",
   "execution_count": 75,
   "id": "2e1d8ecc-2d4e-4fbb-a52f-80fb868db674",
   "metadata": {},
   "outputs": [
    {
     "ename": "NameError",
     "evalue": "name 'venn2' is not defined",
     "output_type": "error",
     "traceback": [
      "\u001b[1;31m---------------------------------------------------------------------------\u001b[0m",
      "\u001b[1;31mNameError\u001b[0m                                 Traceback (most recent call last)",
      "Cell \u001b[1;32mIn[75], line 1\u001b[0m\n\u001b[1;32m----> 1\u001b[0m \u001b[43mvenn2\u001b[49m(subsets\u001b[38;5;241m=\u001b[39m(\u001b[38;5;28mlen\u001b[39m(importantmrmr), \u001b[38;5;28mlen\u001b[39m(importantkbest), \u001b[38;5;28mlen\u001b[39m(set2)),  \n\u001b[0;32m      2\u001b[0m       set_labels\u001b[38;5;241m=\u001b[39m(\u001b[38;5;124m'\u001b[39m\u001b[38;5;124mMRMR Important\u001b[39m\u001b[38;5;124m'\u001b[39m, \u001b[38;5;124m'\u001b[39m\u001b[38;5;124mSelect K Best Important\u001b[39m\u001b[38;5;124m'\u001b[39m), \n\u001b[0;32m      3\u001b[0m       set_colors\u001b[38;5;241m=\u001b[39m(\u001b[38;5;124m\"\u001b[39m\u001b[38;5;124morange\u001b[39m\u001b[38;5;124m\"\u001b[39m, \u001b[38;5;124m\"\u001b[39m\u001b[38;5;124mblue\u001b[39m\u001b[38;5;124m\"\u001b[39m), alpha\u001b[38;5;241m=\u001b[39m\u001b[38;5;241m0.7\u001b[39m) \n\u001b[0;32m      5\u001b[0m \u001b[38;5;66;03m# add outline \u001b[39;00m\n\u001b[0;32m      6\u001b[0m venn2_circles(subsets\u001b[38;5;241m=\u001b[39m(\u001b[38;5;28mlen\u001b[39m(importantmrmr), \u001b[38;5;28mlen\u001b[39m(importantkbest), \u001b[38;5;28mlen\u001b[39m(set2)),  \n\u001b[0;32m      7\u001b[0m               linestyle\u001b[38;5;241m=\u001b[39m\u001b[38;5;124m\"\u001b[39m\u001b[38;5;124mdashed\u001b[39m\u001b[38;5;124m\"\u001b[39m,  \n\u001b[0;32m      8\u001b[0m               linewidth\u001b[38;5;241m=\u001b[39m\u001b[38;5;241m2\u001b[39m) \n",
      "\u001b[1;31mNameError\u001b[0m: name 'venn2' is not defined"
     ]
    }
   ],
   "source": [
    "venn2(subsets=(len(importantmrmr), len(importantkbest), len(set2)),  \n",
    "      set_labels=('MRMR Important', 'Select K Best Important'), \n",
    "      set_colors=(\"orange\", \"blue\"), alpha=0.7) \n",
    "  \n",
    "# add outline \n",
    "venn2_circles(subsets=(len(importantmrmr), len(importantkbest), len(set2)),  \n",
    "              linestyle=\"dashed\",  \n",
    "              linewidth=2) \n",
    "  \n",
    "# assign title of the venn diagram \n",
    "plt.title(\"Venn Diagram in Feature Importance\")   \n",
    "plt.show() "
   ]
  },
  {
   "cell_type": "code",
   "execution_count": null,
   "id": "46318fc1-f1f3-4233-9111-95f2b49d3f2c",
   "metadata": {},
   "outputs": [],
   "source": []
  },
  {
   "cell_type": "code",
   "execution_count": null,
   "id": "e772c030-d66e-44f9-a69c-d6c4bb405531",
   "metadata": {},
   "outputs": [],
   "source": []
  },
  {
   "cell_type": "code",
   "execution_count": null,
   "id": "fcbe2efa-96f3-4154-b9a0-ff187334a969",
   "metadata": {},
   "outputs": [],
   "source": []
  },
  {
   "cell_type": "code",
   "execution_count": null,
   "id": "35f816de-3c09-4892-9c24-7aad69f4e027",
   "metadata": {},
   "outputs": [],
   "source": []
  },
  {
   "cell_type": "code",
   "execution_count": null,
   "id": "89478b91-14ee-4663-aa39-868fd8a24d7c",
   "metadata": {},
   "outputs": [],
   "source": []
  },
  {
   "cell_type": "code",
   "execution_count": null,
   "id": "f60b10ea-02d4-4599-b4d7-e39814f0957f",
   "metadata": {},
   "outputs": [],
   "source": []
  },
  {
   "cell_type": "code",
   "execution_count": null,
   "id": "507548bc-2936-47f0-91e3-02b4272bb26d",
   "metadata": {},
   "outputs": [],
   "source": []
  },
  {
   "cell_type": "code",
   "execution_count": null,
   "id": "79c9d3d2-5d9d-4bf9-baa4-59dec95f95ed",
   "metadata": {},
   "outputs": [],
   "source": []
  },
  {
   "cell_type": "code",
   "execution_count": null,
   "id": "0f7568a8-401b-4054-a681-7b5d83c00b0d",
   "metadata": {},
   "outputs": [],
   "source": []
  },
  {
   "cell_type": "code",
   "execution_count": null,
   "id": "eb047f12-e7f2-4290-82cf-2c590e6eb9b6",
   "metadata": {},
   "outputs": [],
   "source": []
  },
  {
   "cell_type": "code",
   "execution_count": 111,
   "id": "eee023dc-7a70-4122-b2b2-f21cbe43ac89",
   "metadata": {},
   "outputs": [
    {
     "name": "stdout",
     "output_type": "stream",
     "text": [
      " - balanced accuracy: 0.79\n",
      " - macro f1: 0.8\n"
     ]
    }
   ],
   "source": [
    "finalmodel = Pipeline([\n",
    "  ('scaler',RobustScaler()),\n",
    "  ('feat_select', SelectKBest(mutual_info_classif,k=29)),\n",
    "  ('classifier', RandomForestClassifier(random_state=42))\n",
    "])\n",
    "\n",
    "finalmodel.fit(X_train, y_train)\n",
    "predictions = finalmodel.predict(X_test)\n",
    "print(' - balanced accuracy:', round(balanced_accuracy_score(y_test, predictions),2))\n",
    "print(' - macro f1:', round(f1_score(y_test, predictions, average='macro'),2))"
   ]
  },
  {
   "cell_type": "code",
   "execution_count": 112,
   "id": "d3c062ba-23f8-4db2-8ae4-0851332ba592",
   "metadata": {},
   "outputs": [
    {
     "data": {
      "text/plain": [
       "array([[1435,  310],\n",
       "       [ 136,  619]], dtype=int64)"
      ]
     },
     "execution_count": 112,
     "metadata": {},
     "output_type": "execute_result"
    }
   ],
   "source": [
    "cnf_matrix = confusion_matrix(predictions, y_test)\n",
    "cnf_matrix"
   ]
  },
  {
   "cell_type": "code",
   "execution_count": 113,
   "id": "81249ed3-9205-4251-93ee-6189aaf1e221",
   "metadata": {},
   "outputs": [
    {
     "data": {
      "image/png": "[encoded data removed]",
      "text/plain": [
       "<Figure size 640x480 with 2 Axes>"
      ]
     },
     "metadata": {},
     "output_type": "display_data"
    }
   ],
   "source": [
    "class_names = [0,1]\n",
    "fig, ax = plt.subplots()\n",
    "tick_marks = np.arange(len(class_names))\n",
    "plt.xticks(tick_marks,class_names)\n",
    "plt.yticks(tick_marks,class_names)\n",
    "\n",
    "#Create Heatmap\n",
    "sns.heatmap(pd.DataFrame(cnf_matrix), annot= True, cmap = \"OrRd\", fmt =\"g\")\n",
    "plt.tight_layout()\n",
    "plt.title(\"Confusion matrix\")\n",
    "plt.xlabel(\"Actual Label\")\n",
    "plt.ylabel(\"Predicted Label\")\n",
    "None"
   ]
  },
  {
   "cell_type": "code",
   "execution_count": null,
   "id": "a2ccd39b-0d2f-49f8-b2b9-5d4a2f16a460",
   "metadata": {},
   "outputs": [],
   "source": []
  },
  {
   "cell_type": "code",
   "execution_count": null,
   "id": "9e9f3e47-4ef0-4830-8128-45dc183d727e",
   "metadata": {},
   "outputs": [],
   "source": []
  },
  {
   "cell_type": "code",
   "execution_count": null,
   "id": "3b11ee27-b36a-4b4d-82f7-74f0d04288ff",
   "metadata": {},
   "outputs": [],
   "source": []
  },
  {
   "cell_type": "code",
   "execution_count": null,
   "id": "cc1a761b-1f6b-4e80-bcb0-68db5d1357b3",
   "metadata": {},
   "outputs": [],
   "source": []
  }
 ],
 "metadata": {
  "kernelspec": {
   "display_name": "Python 3 (ipykernel)",
   "language": "python",
   "name": "python3"
  },
  "language_info": {
   "codemirror_mode": {
    "name": "ipython",
    "version": 3
   },
   "file_extension": ".py",
   "mimetype": "text/x-python",
   "name": "python",
   "nbconvert_exporter": "python",
   "pygments_lexer": "ipython3",
   "version": "3.9.17"
  }
 },
 "nbformat": 4,
 "nbformat_minor": 5
}
