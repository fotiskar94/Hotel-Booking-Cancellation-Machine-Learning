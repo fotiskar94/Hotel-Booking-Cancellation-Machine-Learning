{
 "cells": [
  {
   "cell_type": "code",
   "execution_count": 101,
   "id": "7e726eef-b6d5-4ff7-9f21-c307ddab6238",
   "metadata": {},
   "outputs": [],
   "source": [
    "import numpy as np\n",
    "import pandas as pd"
   ]
  },
  {
   "cell_type": "code",
   "execution_count": 102,
   "id": "7a75016e-f289-41ce-88cf-8098452d8365",
   "metadata": {},
   "outputs": [],
   "source": [
    "import pickle"
   ]
  },
  {
   "cell_type": "code",
   "execution_count": 196,
   "id": "1f74f5e0-5c7e-4ab2-8d6f-1a1becedddf4",
   "metadata": {},
   "outputs": [],
   "source": [
    "import matplotlib.pyplot as plt\n",
    "import seaborn as sns\n",
    "from matplotlib_venn import venn2, venn2_circles,venn3, venn3_circles \n",
    "from tqdm import tqdm"
   ]
  },
  {
   "cell_type": "code",
   "execution_count": 104,
   "id": "359d8836-e569-4501-9d90-ba82b448b83f",
   "metadata": {},
   "outputs": [],
   "source": [
    "from sklearn.model_selection import train_test_split\n",
    "from sklearn.preprocessing import StandardScaler, MinMaxScaler, RobustScaler"
   ]
  },
  {
   "cell_type": "code",
   "execution_count": 105,
   "id": "b30d18dc-c2ac-4332-852b-ec93012afeed",
   "metadata": {},
   "outputs": [],
   "source": [
    "from sklearn.pipeline import Pipeline\n",
    "from sklearn.model_selection import GridSearchCV\n",
    "from sklearn.ensemble import RandomForestClassifier\n",
    "import xgboost as xgb\n",
    "from sklearn.svm import SVC"
   ]
  },
  {
   "cell_type": "code",
   "execution_count": 106,
   "id": "7578b81a-9ba8-4b91-ad07-2854d0d3dc32",
   "metadata": {},
   "outputs": [],
   "source": [
    "from sklearn.feature_selection import SelectKBest, chi2, mutual_info_classif,SelectFromModel\n",
    "from mrmr import mrmr_classif, mrmr_regression"
   ]
  },
  {
   "cell_type": "code",
   "execution_count": 107,
   "id": "e9019390-710f-41cf-9aeb-67fe59c66e9e",
   "metadata": {},
   "outputs": [],
   "source": [
    "from sklearn.metrics import f1_score, balanced_accuracy_score\n",
    "from sklearn.metrics import classification_report,confusion_matrix"
   ]
  },
  {
   "cell_type": "code",
   "execution_count": null,
   "id": "3e09f689-6e44-4a4a-b449-f30401aa729d",
   "metadata": {},
   "outputs": [],
   "source": []
  },
  {
   "cell_type": "code",
   "execution_count": 108,
   "id": "246a1a22-3c20-4f10-8a6e-447451eee802",
   "metadata": {},
   "outputs": [],
   "source": [
    "df = pd.read_csv(r'C:\\Users\\USER\\Downloads\\final_df.csv')"
   ]
  },
  {
   "cell_type": "code",
   "execution_count": 109,
   "id": "1532310d-358b-4314-811a-5f1092acbced",
   "metadata": {},
   "outputs": [],
   "source": [
    "pd.set_option('display.max_columns', None)"
   ]
  },
  {
   "cell_type": "code",
   "execution_count": 110,
   "id": "51689eef-8514-47c5-9565-53a3e3193307",
   "metadata": {},
   "outputs": [
    {
     "data": {
      "text/html": [
       "<div>\n",
       "<style scoped>\n",
       "    .dataframe tbody tr th:only-of-type {\n",
       "        vertical-align: middle;\n",
       "    }\n",
       "\n",
       "    .dataframe tbody tr th {\n",
       "        vertical-align: top;\n",
       "    }\n",
       "\n",
       "    .dataframe thead th {\n",
       "        text-align: right;\n",
       "    }\n",
       "</style>\n",
       "<table border=\"1\" class=\"dataframe\">\n",
       "  <thead>\n",
       "    <tr style=\"text-align: right;\">\n",
       "      <th></th>\n",
       "      <th>is_canceled</th>\n",
       "      <th>lead_time</th>\n",
       "      <th>arrival_date_week_number</th>\n",
       "      <th>arrival_date_day_of_month</th>\n",
       "      <th>stays_in_weekend_nights</th>\n",
       "      <th>stays_in_week_nights</th>\n",
       "      <th>adults</th>\n",
       "      <th>children</th>\n",
       "      <th>babies</th>\n",
       "      <th>is_repeated_guest</th>\n",
       "      <th>previous_cancellations</th>\n",
       "      <th>previous_bookings_not_canceled</th>\n",
       "      <th>booking_changes</th>\n",
       "      <th>days_in_waiting_list</th>\n",
       "      <th>adr</th>\n",
       "      <th>required_car_parking_spaces</th>\n",
       "      <th>total_of_special_requests</th>\n",
       "      <th>hotel_Resort Hotel</th>\n",
       "      <th>meal_FB</th>\n",
       "      <th>meal_HB</th>\n",
       "      <th>meal_SC</th>\n",
       "      <th>meal_Undefined</th>\n",
       "      <th>market_segment_Complementary</th>\n",
       "      <th>market_segment_Corporate</th>\n",
       "      <th>market_segment_Direct</th>\n",
       "      <th>market_segment_Groups</th>\n",
       "      <th>market_segment_Offline TA/TO</th>\n",
       "      <th>market_segment_Online TA</th>\n",
       "      <th>market_segment_Undefined</th>\n",
       "      <th>distribution_channel_GDS</th>\n",
       "      <th>distribution_channel_TA/TO</th>\n",
       "      <th>distribution_channel_Undefined</th>\n",
       "      <th>reserved_room_type_B</th>\n",
       "      <th>reserved_room_type_C</th>\n",
       "      <th>reserved_room_type_D</th>\n",
       "      <th>reserved_room_type_E</th>\n",
       "      <th>reserved_room_type_F</th>\n",
       "      <th>reserved_room_type_G</th>\n",
       "      <th>reserved_room_type_H</th>\n",
       "      <th>reserved_room_type_L</th>\n",
       "      <th>deposit_type_Non Refund</th>\n",
       "      <th>deposit_type_Refundable</th>\n",
       "      <th>customer_type_Group</th>\n",
       "      <th>customer_type_Transient</th>\n",
       "      <th>customer_type_Transient-Party</th>\n",
       "    </tr>\n",
       "  </thead>\n",
       "  <tbody>\n",
       "    <tr>\n",
       "      <th>0</th>\n",
       "      <td>0</td>\n",
       "      <td>7</td>\n",
       "      <td>27</td>\n",
       "      <td>1</td>\n",
       "      <td>0</td>\n",
       "      <td>1</td>\n",
       "      <td>1</td>\n",
       "      <td>0.0</td>\n",
       "      <td>0</td>\n",
       "      <td>0</td>\n",
       "      <td>0</td>\n",
       "      <td>0</td>\n",
       "      <td>0</td>\n",
       "      <td>0</td>\n",
       "      <td>75.00</td>\n",
       "      <td>0</td>\n",
       "      <td>0</td>\n",
       "      <td>1</td>\n",
       "      <td>0</td>\n",
       "      <td>0</td>\n",
       "      <td>0</td>\n",
       "      <td>0</td>\n",
       "      <td>0</td>\n",
       "      <td>0</td>\n",
       "      <td>1</td>\n",
       "      <td>0</td>\n",
       "      <td>0</td>\n",
       "      <td>0</td>\n",
       "      <td>0</td>\n",
       "      <td>0</td>\n",
       "      <td>0</td>\n",
       "      <td>0</td>\n",
       "      <td>0</td>\n",
       "      <td>0</td>\n",
       "      <td>0</td>\n",
       "      <td>0</td>\n",
       "      <td>0</td>\n",
       "      <td>0</td>\n",
       "      <td>0</td>\n",
       "      <td>0</td>\n",
       "      <td>0</td>\n",
       "      <td>0</td>\n",
       "      <td>0</td>\n",
       "      <td>1</td>\n",
       "      <td>0</td>\n",
       "    </tr>\n",
       "    <tr>\n",
       "      <th>1</th>\n",
       "      <td>0</td>\n",
       "      <td>13</td>\n",
       "      <td>27</td>\n",
       "      <td>1</td>\n",
       "      <td>0</td>\n",
       "      <td>1</td>\n",
       "      <td>1</td>\n",
       "      <td>0.0</td>\n",
       "      <td>0</td>\n",
       "      <td>0</td>\n",
       "      <td>0</td>\n",
       "      <td>0</td>\n",
       "      <td>0</td>\n",
       "      <td>0</td>\n",
       "      <td>75.00</td>\n",
       "      <td>0</td>\n",
       "      <td>0</td>\n",
       "      <td>1</td>\n",
       "      <td>0</td>\n",
       "      <td>0</td>\n",
       "      <td>0</td>\n",
       "      <td>0</td>\n",
       "      <td>0</td>\n",
       "      <td>1</td>\n",
       "      <td>0</td>\n",
       "      <td>0</td>\n",
       "      <td>0</td>\n",
       "      <td>0</td>\n",
       "      <td>0</td>\n",
       "      <td>0</td>\n",
       "      <td>0</td>\n",
       "      <td>0</td>\n",
       "      <td>0</td>\n",
       "      <td>0</td>\n",
       "      <td>0</td>\n",
       "      <td>0</td>\n",
       "      <td>0</td>\n",
       "      <td>0</td>\n",
       "      <td>0</td>\n",
       "      <td>0</td>\n",
       "      <td>0</td>\n",
       "      <td>0</td>\n",
       "      <td>0</td>\n",
       "      <td>1</td>\n",
       "      <td>0</td>\n",
       "    </tr>\n",
       "    <tr>\n",
       "      <th>2</th>\n",
       "      <td>0</td>\n",
       "      <td>14</td>\n",
       "      <td>27</td>\n",
       "      <td>1</td>\n",
       "      <td>0</td>\n",
       "      <td>2</td>\n",
       "      <td>2</td>\n",
       "      <td>0.0</td>\n",
       "      <td>0</td>\n",
       "      <td>0</td>\n",
       "      <td>0</td>\n",
       "      <td>0</td>\n",
       "      <td>0</td>\n",
       "      <td>0</td>\n",
       "      <td>98.00</td>\n",
       "      <td>0</td>\n",
       "      <td>1</td>\n",
       "      <td>1</td>\n",
       "      <td>0</td>\n",
       "      <td>0</td>\n",
       "      <td>0</td>\n",
       "      <td>0</td>\n",
       "      <td>0</td>\n",
       "      <td>0</td>\n",
       "      <td>0</td>\n",
       "      <td>0</td>\n",
       "      <td>0</td>\n",
       "      <td>1</td>\n",
       "      <td>0</td>\n",
       "      <td>0</td>\n",
       "      <td>1</td>\n",
       "      <td>0</td>\n",
       "      <td>0</td>\n",
       "      <td>0</td>\n",
       "      <td>0</td>\n",
       "      <td>0</td>\n",
       "      <td>0</td>\n",
       "      <td>0</td>\n",
       "      <td>0</td>\n",
       "      <td>0</td>\n",
       "      <td>0</td>\n",
       "      <td>0</td>\n",
       "      <td>0</td>\n",
       "      <td>1</td>\n",
       "      <td>0</td>\n",
       "    </tr>\n",
       "    <tr>\n",
       "      <th>3</th>\n",
       "      <td>0</td>\n",
       "      <td>14</td>\n",
       "      <td>27</td>\n",
       "      <td>1</td>\n",
       "      <td>0</td>\n",
       "      <td>2</td>\n",
       "      <td>2</td>\n",
       "      <td>0.0</td>\n",
       "      <td>0</td>\n",
       "      <td>0</td>\n",
       "      <td>0</td>\n",
       "      <td>0</td>\n",
       "      <td>0</td>\n",
       "      <td>0</td>\n",
       "      <td>98.00</td>\n",
       "      <td>0</td>\n",
       "      <td>1</td>\n",
       "      <td>1</td>\n",
       "      <td>0</td>\n",
       "      <td>0</td>\n",
       "      <td>0</td>\n",
       "      <td>0</td>\n",
       "      <td>0</td>\n",
       "      <td>0</td>\n",
       "      <td>0</td>\n",
       "      <td>0</td>\n",
       "      <td>0</td>\n",
       "      <td>1</td>\n",
       "      <td>0</td>\n",
       "      <td>0</td>\n",
       "      <td>1</td>\n",
       "      <td>0</td>\n",
       "      <td>0</td>\n",
       "      <td>0</td>\n",
       "      <td>0</td>\n",
       "      <td>0</td>\n",
       "      <td>0</td>\n",
       "      <td>0</td>\n",
       "      <td>0</td>\n",
       "      <td>0</td>\n",
       "      <td>0</td>\n",
       "      <td>0</td>\n",
       "      <td>0</td>\n",
       "      <td>1</td>\n",
       "      <td>0</td>\n",
       "    </tr>\n",
       "    <tr>\n",
       "      <th>4</th>\n",
       "      <td>0</td>\n",
       "      <td>0</td>\n",
       "      <td>27</td>\n",
       "      <td>1</td>\n",
       "      <td>0</td>\n",
       "      <td>2</td>\n",
       "      <td>2</td>\n",
       "      <td>0.0</td>\n",
       "      <td>0</td>\n",
       "      <td>0</td>\n",
       "      <td>0</td>\n",
       "      <td>0</td>\n",
       "      <td>0</td>\n",
       "      <td>0</td>\n",
       "      <td>107.00</td>\n",
       "      <td>0</td>\n",
       "      <td>0</td>\n",
       "      <td>1</td>\n",
       "      <td>0</td>\n",
       "      <td>0</td>\n",
       "      <td>0</td>\n",
       "      <td>0</td>\n",
       "      <td>0</td>\n",
       "      <td>0</td>\n",
       "      <td>1</td>\n",
       "      <td>0</td>\n",
       "      <td>0</td>\n",
       "      <td>0</td>\n",
       "      <td>0</td>\n",
       "      <td>0</td>\n",
       "      <td>0</td>\n",
       "      <td>0</td>\n",
       "      <td>0</td>\n",
       "      <td>1</td>\n",
       "      <td>0</td>\n",
       "      <td>0</td>\n",
       "      <td>0</td>\n",
       "      <td>0</td>\n",
       "      <td>0</td>\n",
       "      <td>0</td>\n",
       "      <td>0</td>\n",
       "      <td>0</td>\n",
       "      <td>0</td>\n",
       "      <td>1</td>\n",
       "      <td>0</td>\n",
       "    </tr>\n",
       "    <tr>\n",
       "      <th>...</th>\n",
       "      <td>...</td>\n",
       "      <td>...</td>\n",
       "      <td>...</td>\n",
       "      <td>...</td>\n",
       "      <td>...</td>\n",
       "      <td>...</td>\n",
       "      <td>...</td>\n",
       "      <td>...</td>\n",
       "      <td>...</td>\n",
       "      <td>...</td>\n",
       "      <td>...</td>\n",
       "      <td>...</td>\n",
       "      <td>...</td>\n",
       "      <td>...</td>\n",
       "      <td>...</td>\n",
       "      <td>...</td>\n",
       "      <td>...</td>\n",
       "      <td>...</td>\n",
       "      <td>...</td>\n",
       "      <td>...</td>\n",
       "      <td>...</td>\n",
       "      <td>...</td>\n",
       "      <td>...</td>\n",
       "      <td>...</td>\n",
       "      <td>...</td>\n",
       "      <td>...</td>\n",
       "      <td>...</td>\n",
       "      <td>...</td>\n",
       "      <td>...</td>\n",
       "      <td>...</td>\n",
       "      <td>...</td>\n",
       "      <td>...</td>\n",
       "      <td>...</td>\n",
       "      <td>...</td>\n",
       "      <td>...</td>\n",
       "      <td>...</td>\n",
       "      <td>...</td>\n",
       "      <td>...</td>\n",
       "      <td>...</td>\n",
       "      <td>...</td>\n",
       "      <td>...</td>\n",
       "      <td>...</td>\n",
       "      <td>...</td>\n",
       "      <td>...</td>\n",
       "      <td>...</td>\n",
       "    </tr>\n",
       "    <tr>\n",
       "      <th>114763</th>\n",
       "      <td>0</td>\n",
       "      <td>23</td>\n",
       "      <td>35</td>\n",
       "      <td>30</td>\n",
       "      <td>2</td>\n",
       "      <td>5</td>\n",
       "      <td>2</td>\n",
       "      <td>0.0</td>\n",
       "      <td>0</td>\n",
       "      <td>0</td>\n",
       "      <td>0</td>\n",
       "      <td>0</td>\n",
       "      <td>0</td>\n",
       "      <td>0</td>\n",
       "      <td>96.14</td>\n",
       "      <td>0</td>\n",
       "      <td>0</td>\n",
       "      <td>0</td>\n",
       "      <td>0</td>\n",
       "      <td>0</td>\n",
       "      <td>0</td>\n",
       "      <td>0</td>\n",
       "      <td>0</td>\n",
       "      <td>0</td>\n",
       "      <td>0</td>\n",
       "      <td>0</td>\n",
       "      <td>1</td>\n",
       "      <td>0</td>\n",
       "      <td>0</td>\n",
       "      <td>0</td>\n",
       "      <td>1</td>\n",
       "      <td>0</td>\n",
       "      <td>0</td>\n",
       "      <td>0</td>\n",
       "      <td>0</td>\n",
       "      <td>0</td>\n",
       "      <td>0</td>\n",
       "      <td>0</td>\n",
       "      <td>0</td>\n",
       "      <td>0</td>\n",
       "      <td>0</td>\n",
       "      <td>0</td>\n",
       "      <td>0</td>\n",
       "      <td>1</td>\n",
       "      <td>0</td>\n",
       "    </tr>\n",
       "    <tr>\n",
       "      <th>114764</th>\n",
       "      <td>0</td>\n",
       "      <td>102</td>\n",
       "      <td>35</td>\n",
       "      <td>31</td>\n",
       "      <td>2</td>\n",
       "      <td>5</td>\n",
       "      <td>3</td>\n",
       "      <td>0.0</td>\n",
       "      <td>0</td>\n",
       "      <td>0</td>\n",
       "      <td>0</td>\n",
       "      <td>0</td>\n",
       "      <td>0</td>\n",
       "      <td>0</td>\n",
       "      <td>225.43</td>\n",
       "      <td>0</td>\n",
       "      <td>2</td>\n",
       "      <td>0</td>\n",
       "      <td>0</td>\n",
       "      <td>0</td>\n",
       "      <td>0</td>\n",
       "      <td>0</td>\n",
       "      <td>0</td>\n",
       "      <td>0</td>\n",
       "      <td>0</td>\n",
       "      <td>0</td>\n",
       "      <td>0</td>\n",
       "      <td>1</td>\n",
       "      <td>0</td>\n",
       "      <td>0</td>\n",
       "      <td>1</td>\n",
       "      <td>0</td>\n",
       "      <td>0</td>\n",
       "      <td>0</td>\n",
       "      <td>0</td>\n",
       "      <td>1</td>\n",
       "      <td>0</td>\n",
       "      <td>0</td>\n",
       "      <td>0</td>\n",
       "      <td>0</td>\n",
       "      <td>0</td>\n",
       "      <td>0</td>\n",
       "      <td>0</td>\n",
       "      <td>1</td>\n",
       "      <td>0</td>\n",
       "    </tr>\n",
       "    <tr>\n",
       "      <th>114765</th>\n",
       "      <td>0</td>\n",
       "      <td>34</td>\n",
       "      <td>35</td>\n",
       "      <td>31</td>\n",
       "      <td>2</td>\n",
       "      <td>5</td>\n",
       "      <td>2</td>\n",
       "      <td>0.0</td>\n",
       "      <td>0</td>\n",
       "      <td>0</td>\n",
       "      <td>0</td>\n",
       "      <td>0</td>\n",
       "      <td>0</td>\n",
       "      <td>0</td>\n",
       "      <td>157.71</td>\n",
       "      <td>0</td>\n",
       "      <td>4</td>\n",
       "      <td>0</td>\n",
       "      <td>0</td>\n",
       "      <td>0</td>\n",
       "      <td>0</td>\n",
       "      <td>0</td>\n",
       "      <td>0</td>\n",
       "      <td>0</td>\n",
       "      <td>0</td>\n",
       "      <td>0</td>\n",
       "      <td>0</td>\n",
       "      <td>1</td>\n",
       "      <td>0</td>\n",
       "      <td>0</td>\n",
       "      <td>1</td>\n",
       "      <td>0</td>\n",
       "      <td>0</td>\n",
       "      <td>0</td>\n",
       "      <td>1</td>\n",
       "      <td>0</td>\n",
       "      <td>0</td>\n",
       "      <td>0</td>\n",
       "      <td>0</td>\n",
       "      <td>0</td>\n",
       "      <td>0</td>\n",
       "      <td>0</td>\n",
       "      <td>0</td>\n",
       "      <td>1</td>\n",
       "      <td>0</td>\n",
       "    </tr>\n",
       "    <tr>\n",
       "      <th>114766</th>\n",
       "      <td>0</td>\n",
       "      <td>109</td>\n",
       "      <td>35</td>\n",
       "      <td>31</td>\n",
       "      <td>2</td>\n",
       "      <td>5</td>\n",
       "      <td>2</td>\n",
       "      <td>0.0</td>\n",
       "      <td>0</td>\n",
       "      <td>0</td>\n",
       "      <td>0</td>\n",
       "      <td>0</td>\n",
       "      <td>0</td>\n",
       "      <td>0</td>\n",
       "      <td>104.40</td>\n",
       "      <td>0</td>\n",
       "      <td>0</td>\n",
       "      <td>0</td>\n",
       "      <td>0</td>\n",
       "      <td>0</td>\n",
       "      <td>0</td>\n",
       "      <td>0</td>\n",
       "      <td>0</td>\n",
       "      <td>0</td>\n",
       "      <td>0</td>\n",
       "      <td>0</td>\n",
       "      <td>0</td>\n",
       "      <td>1</td>\n",
       "      <td>0</td>\n",
       "      <td>0</td>\n",
       "      <td>1</td>\n",
       "      <td>0</td>\n",
       "      <td>0</td>\n",
       "      <td>0</td>\n",
       "      <td>0</td>\n",
       "      <td>0</td>\n",
       "      <td>0</td>\n",
       "      <td>0</td>\n",
       "      <td>0</td>\n",
       "      <td>0</td>\n",
       "      <td>0</td>\n",
       "      <td>0</td>\n",
       "      <td>0</td>\n",
       "      <td>1</td>\n",
       "      <td>0</td>\n",
       "    </tr>\n",
       "    <tr>\n",
       "      <th>114767</th>\n",
       "      <td>0</td>\n",
       "      <td>205</td>\n",
       "      <td>35</td>\n",
       "      <td>29</td>\n",
       "      <td>2</td>\n",
       "      <td>7</td>\n",
       "      <td>2</td>\n",
       "      <td>0.0</td>\n",
       "      <td>0</td>\n",
       "      <td>0</td>\n",
       "      <td>0</td>\n",
       "      <td>0</td>\n",
       "      <td>0</td>\n",
       "      <td>0</td>\n",
       "      <td>151.20</td>\n",
       "      <td>0</td>\n",
       "      <td>2</td>\n",
       "      <td>0</td>\n",
       "      <td>0</td>\n",
       "      <td>1</td>\n",
       "      <td>0</td>\n",
       "      <td>0</td>\n",
       "      <td>0</td>\n",
       "      <td>0</td>\n",
       "      <td>0</td>\n",
       "      <td>0</td>\n",
       "      <td>0</td>\n",
       "      <td>1</td>\n",
       "      <td>0</td>\n",
       "      <td>0</td>\n",
       "      <td>1</td>\n",
       "      <td>0</td>\n",
       "      <td>0</td>\n",
       "      <td>0</td>\n",
       "      <td>0</td>\n",
       "      <td>0</td>\n",
       "      <td>0</td>\n",
       "      <td>0</td>\n",
       "      <td>0</td>\n",
       "      <td>0</td>\n",
       "      <td>0</td>\n",
       "      <td>0</td>\n",
       "      <td>0</td>\n",
       "      <td>1</td>\n",
       "      <td>0</td>\n",
       "    </tr>\n",
       "  </tbody>\n",
       "</table>\n",
       "<p>114768 rows × 45 columns</p>\n",
       "</div>"
      ],
      "text/plain": [
       "        is_canceled  lead_time  arrival_date_week_number  \\\n",
       "0                 0          7                        27   \n",
       "1                 0         13                        27   \n",
       "2                 0         14                        27   \n",
       "3                 0         14                        27   \n",
       "4                 0          0                        27   \n",
       "...             ...        ...                       ...   \n",
       "114763            0         23                        35   \n",
       "114764            0        102                        35   \n",
       "114765            0         34                        35   \n",
       "114766            0        109                        35   \n",
       "114767            0        205                        35   \n",
       "\n",
       "        arrival_date_day_of_month  stays_in_weekend_nights  \\\n",
       "0                               1                        0   \n",
       "1                               1                        0   \n",
       "2                               1                        0   \n",
       "3                               1                        0   \n",
       "4                               1                        0   \n",
       "...                           ...                      ...   \n",
       "114763                         30                        2   \n",
       "114764                         31                        2   \n",
       "114765                         31                        2   \n",
       "114766                         31                        2   \n",
       "114767                         29                        2   \n",
       "\n",
       "        stays_in_week_nights  adults  children  babies  is_repeated_guest  \\\n",
       "0                          1       1       0.0       0                  0   \n",
       "1                          1       1       0.0       0                  0   \n",
       "2                          2       2       0.0       0                  0   \n",
       "3                          2       2       0.0       0                  0   \n",
       "4                          2       2       0.0       0                  0   \n",
       "...                      ...     ...       ...     ...                ...   \n",
       "114763                     5       2       0.0       0                  0   \n",
       "114764                     5       3       0.0       0                  0   \n",
       "114765                     5       2       0.0       0                  0   \n",
       "114766                     5       2       0.0       0                  0   \n",
       "114767                     7       2       0.0       0                  0   \n",
       "\n",
       "        previous_cancellations  previous_bookings_not_canceled  \\\n",
       "0                            0                               0   \n",
       "1                            0                               0   \n",
       "2                            0                               0   \n",
       "3                            0                               0   \n",
       "4                            0                               0   \n",
       "...                        ...                             ...   \n",
       "114763                       0                               0   \n",
       "114764                       0                               0   \n",
       "114765                       0                               0   \n",
       "114766                       0                               0   \n",
       "114767                       0                               0   \n",
       "\n",
       "        booking_changes  days_in_waiting_list     adr  \\\n",
       "0                     0                     0   75.00   \n",
       "1                     0                     0   75.00   \n",
       "2                     0                     0   98.00   \n",
       "3                     0                     0   98.00   \n",
       "4                     0                     0  107.00   \n",
       "...                 ...                   ...     ...   \n",
       "114763                0                     0   96.14   \n",
       "114764                0                     0  225.43   \n",
       "114765                0                     0  157.71   \n",
       "114766                0                     0  104.40   \n",
       "114767                0                     0  151.20   \n",
       "\n",
       "        required_car_parking_spaces  total_of_special_requests  \\\n",
       "0                                 0                          0   \n",
       "1                                 0                          0   \n",
       "2                                 0                          1   \n",
       "3                                 0                          1   \n",
       "4                                 0                          0   \n",
       "...                             ...                        ...   \n",
       "114763                            0                          0   \n",
       "114764                            0                          2   \n",
       "114765                            0                          4   \n",
       "114766                            0                          0   \n",
       "114767                            0                          2   \n",
       "\n",
       "        hotel_Resort Hotel  meal_FB  meal_HB  meal_SC  meal_Undefined  \\\n",
       "0                        1        0        0        0               0   \n",
       "1                        1        0        0        0               0   \n",
       "2                        1        0        0        0               0   \n",
       "3                        1        0        0        0               0   \n",
       "4                        1        0        0        0               0   \n",
       "...                    ...      ...      ...      ...             ...   \n",
       "114763                   0        0        0        0               0   \n",
       "114764                   0        0        0        0               0   \n",
       "114765                   0        0        0        0               0   \n",
       "114766                   0        0        0        0               0   \n",
       "114767                   0        0        1        0               0   \n",
       "\n",
       "        market_segment_Complementary  market_segment_Corporate  \\\n",
       "0                                  0                         0   \n",
       "1                                  0                         1   \n",
       "2                                  0                         0   \n",
       "3                                  0                         0   \n",
       "4                                  0                         0   \n",
       "...                              ...                       ...   \n",
       "114763                             0                         0   \n",
       "114764                             0                         0   \n",
       "114765                             0                         0   \n",
       "114766                             0                         0   \n",
       "114767                             0                         0   \n",
       "\n",
       "        market_segment_Direct  market_segment_Groups  \\\n",
       "0                           1                      0   \n",
       "1                           0                      0   \n",
       "2                           0                      0   \n",
       "3                           0                      0   \n",
       "4                           1                      0   \n",
       "...                       ...                    ...   \n",
       "114763                      0                      0   \n",
       "114764                      0                      0   \n",
       "114765                      0                      0   \n",
       "114766                      0                      0   \n",
       "114767                      0                      0   \n",
       "\n",
       "        market_segment_Offline TA/TO  market_segment_Online TA  \\\n",
       "0                                  0                         0   \n",
       "1                                  0                         0   \n",
       "2                                  0                         1   \n",
       "3                                  0                         1   \n",
       "4                                  0                         0   \n",
       "...                              ...                       ...   \n",
       "114763                             1                         0   \n",
       "114764                             0                         1   \n",
       "114765                             0                         1   \n",
       "114766                             0                         1   \n",
       "114767                             0                         1   \n",
       "\n",
       "        market_segment_Undefined  distribution_channel_GDS  \\\n",
       "0                              0                         0   \n",
       "1                              0                         0   \n",
       "2                              0                         0   \n",
       "3                              0                         0   \n",
       "4                              0                         0   \n",
       "...                          ...                       ...   \n",
       "114763                         0                         0   \n",
       "114764                         0                         0   \n",
       "114765                         0                         0   \n",
       "114766                         0                         0   \n",
       "114767                         0                         0   \n",
       "\n",
       "        distribution_channel_TA/TO  distribution_channel_Undefined  \\\n",
       "0                                0                               0   \n",
       "1                                0                               0   \n",
       "2                                1                               0   \n",
       "3                                1                               0   \n",
       "4                                0                               0   \n",
       "...                            ...                             ...   \n",
       "114763                           1                               0   \n",
       "114764                           1                               0   \n",
       "114765                           1                               0   \n",
       "114766                           1                               0   \n",
       "114767                           1                               0   \n",
       "\n",
       "        reserved_room_type_B  reserved_room_type_C  reserved_room_type_D  \\\n",
       "0                          0                     0                     0   \n",
       "1                          0                     0                     0   \n",
       "2                          0                     0                     0   \n",
       "3                          0                     0                     0   \n",
       "4                          0                     1                     0   \n",
       "...                      ...                   ...                   ...   \n",
       "114763                     0                     0                     0   \n",
       "114764                     0                     0                     0   \n",
       "114765                     0                     0                     1   \n",
       "114766                     0                     0                     0   \n",
       "114767                     0                     0                     0   \n",
       "\n",
       "        reserved_room_type_E  reserved_room_type_F  reserved_room_type_G  \\\n",
       "0                          0                     0                     0   \n",
       "1                          0                     0                     0   \n",
       "2                          0                     0                     0   \n",
       "3                          0                     0                     0   \n",
       "4                          0                     0                     0   \n",
       "...                      ...                   ...                   ...   \n",
       "114763                     0                     0                     0   \n",
       "114764                     1                     0                     0   \n",
       "114765                     0                     0                     0   \n",
       "114766                     0                     0                     0   \n",
       "114767                     0                     0                     0   \n",
       "\n",
       "        reserved_room_type_H  reserved_room_type_L  deposit_type_Non Refund  \\\n",
       "0                          0                     0                        0   \n",
       "1                          0                     0                        0   \n",
       "2                          0                     0                        0   \n",
       "3                          0                     0                        0   \n",
       "4                          0                     0                        0   \n",
       "...                      ...                   ...                      ...   \n",
       "114763                     0                     0                        0   \n",
       "114764                     0                     0                        0   \n",
       "114765                     0                     0                        0   \n",
       "114766                     0                     0                        0   \n",
       "114767                     0                     0                        0   \n",
       "\n",
       "        deposit_type_Refundable  customer_type_Group  customer_type_Transient  \\\n",
       "0                             0                    0                        1   \n",
       "1                             0                    0                        1   \n",
       "2                             0                    0                        1   \n",
       "3                             0                    0                        1   \n",
       "4                             0                    0                        1   \n",
       "...                         ...                  ...                      ...   \n",
       "114763                        0                    0                        1   \n",
       "114764                        0                    0                        1   \n",
       "114765                        0                    0                        1   \n",
       "114766                        0                    0                        1   \n",
       "114767                        0                    0                        1   \n",
       "\n",
       "        customer_type_Transient-Party  \n",
       "0                                   0  \n",
       "1                                   0  \n",
       "2                                   0  \n",
       "3                                   0  \n",
       "4                                   0  \n",
       "...                               ...  \n",
       "114763                              0  \n",
       "114764                              0  \n",
       "114765                              0  \n",
       "114766                              0  \n",
       "114767                              0  \n",
       "\n",
       "[114768 rows x 45 columns]"
      ]
     },
     "execution_count": 110,
     "metadata": {},
     "output_type": "execute_result"
    }
   ],
   "source": [
    "df"
   ]
  },
  {
   "cell_type": "code",
   "execution_count": 111,
   "id": "f80bb2cb-21a4-4cff-803b-d2e2a0e059cf",
   "metadata": {},
   "outputs": [
    {
     "data": {
      "text/plain": [
       "0    72476\n",
       "1    42292\n",
       "Name: is_canceled, dtype: int64"
      ]
     },
     "execution_count": 111,
     "metadata": {},
     "output_type": "execute_result"
    }
   ],
   "source": [
    "df['is_canceled'].value_counts()"
   ]
  },
  {
   "cell_type": "code",
   "execution_count": null,
   "id": "5ba165a7-e581-4e6c-8394-96015feb4684",
   "metadata": {},
   "outputs": [],
   "source": []
  },
  {
   "cell_type": "markdown",
   "id": "868b6d04-2793-441a-bea3-ecb028a53e09",
   "metadata": {},
   "source": [
    "# Grid Search"
   ]
  },
  {
   "cell_type": "code",
   "execution_count": 121,
   "id": "eca67f61-18be-4f80-9e1d-f1adeaeaf8a0",
   "metadata": {},
   "outputs": [],
   "source": [
    "df_test = df.sample(n = 5000, random_state = 42)"
   ]
  },
  {
   "cell_type": "code",
   "execution_count": 122,
   "id": "dfb7ef70-cbc8-4a87-89b0-7be4a7291f2b",
   "metadata": {},
   "outputs": [],
   "source": [
    "X = df_test.iloc[:,1:]"
   ]
  },
  {
   "cell_type": "code",
   "execution_count": 123,
   "id": "b9e4ef13-d791-40d6-8fe6-bcab7d65e8c1",
   "metadata": {},
   "outputs": [],
   "source": [
    "y = df_test.iloc[:,0]"
   ]
  },
  {
   "cell_type": "code",
   "execution_count": 124,
   "id": "ab3361da-77dc-4e0b-a5d4-2d27d4e79fe2",
   "metadata": {},
   "outputs": [
    {
     "data": {
      "text/plain": [
       "0    3156\n",
       "1    1844\n",
       "Name: is_canceled, dtype: int64"
      ]
     },
     "execution_count": 124,
     "metadata": {},
     "output_type": "execute_result"
    }
   ],
   "source": [
    "y.value_counts()"
   ]
  },
  {
   "cell_type": "code",
   "execution_count": 125,
   "id": "93e9be17-77c0-40c7-91ec-04f35950eb37",
   "metadata": {},
   "outputs": [],
   "source": [
    "X_train, X_test, y_train,y_test = train_test_split(X, y, random_state = 42,stratify = y)"
   ]
  },
  {
   "cell_type": "code",
   "execution_count": 126,
   "id": "64336a19-93e8-412f-b6ee-5fbe8fe49e6e",
   "metadata": {},
   "outputs": [
    {
     "data": {
      "text/plain": [
       "0    2367\n",
       "1    1383\n",
       "Name: is_canceled, dtype: int64"
      ]
     },
     "execution_count": 126,
     "metadata": {},
     "output_type": "execute_result"
    }
   ],
   "source": [
    "y_train.value_counts()"
   ]
  },
  {
   "cell_type": "code",
   "execution_count": 127,
   "id": "14619e1d-155e-4ee9-b387-9881422b44c8",
   "metadata": {},
   "outputs": [],
   "source": [
    "classifiers = [\n",
    "    RandomForestClassifier(class_weight='balanced'),\n",
    "    xgb.XGBClassifier(),\n",
    "    SVC()]"
   ]
  },
  {
   "cell_type": "code",
   "execution_count": 128,
   "id": "2a666718-0e8a-4899-9c86-bba4abd8905d",
   "metadata": {},
   "outputs": [],
   "source": [
    "scalers = [RobustScaler(),MinMaxScaler(),StandardScaler()]"
   ]
  },
  {
   "cell_type": "code",
   "execution_count": 129,
   "id": "d93d5d14-7c81-42a9-9fdf-d35b8bbb58ed",
   "metadata": {},
   "outputs": [
    {
     "name": "stderr",
     "output_type": "stream",
     "text": [
      "  0%|                                                                                            | 0/3 [00:00<?, ?it/s]\n",
      "  0%|                                                                                            | 0/3 [00:00<?, ?it/s]\u001b[A\n",
      " 33%|████████████████████████████                                                        | 1/3 [01:26<02:53, 86.93s/it]\u001b[A\n",
      " 67%|████████████████████████████████████████████████████████                            | 2/3 [02:22<01:08, 68.35s/it]\u001b[A\n",
      "100%|████████████████████████████████████████████████████████████████████████████████████| 3/3 [03:45<00:00, 75.22s/it]\u001b[A\n",
      " 33%|███████████████████████████▋                                                       | 1/3 [03:45<07:31, 225.66s/it]\n",
      "  0%|                                                                                            | 0/3 [00:00<?, ?it/s]\u001b[A\n",
      " 33%|████████████████████████████                                                        | 1/3 [01:26<02:53, 86.86s/it]\u001b[A\n",
      " 67%|████████████████████████████████████████████████████████                            | 2/3 [02:28<01:12, 72.19s/it]\u001b[A\n",
      "100%|████████████████████████████████████████████████████████████████████████████████████| 3/3 [04:33<00:00, 91.30s/it]\u001b[A\n",
      " 67%|███████████████████████████████████████████████████████▎                           | 2/3 [08:19<04:14, 254.04s/it]\n",
      "  0%|                                                                                            | 0/3 [00:00<?, ?it/s]\u001b[A\n",
      " 33%|████████████████████████████                                                        | 1/3 [01:23<02:47, 83.65s/it]\u001b[A\n",
      " 67%|████████████████████████████████████████████████████████                            | 2/3 [02:22<01:09, 69.06s/it]\u001b[A\n",
      "100%|████████████████████████████████████████████████████████████████████████████████████| 3/3 [03:43<00:00, 74.66s/it]\u001b[A\n",
      "100%|███████████████████████████████████████████████████████████████████████████████████| 3/3 [12:03<00:00, 241.19s/it]\n"
     ]
    }
   ],
   "source": [
    "lstresults = []\n",
    "for scaler in tqdm(scalers):\n",
    "    for classifier in tqdm(classifiers):\n",
    "        pipe = Pipeline([\n",
    "            ('scaler',scaler),\n",
    "            ('feat_selection', SelectKBest(mutual_info_classif)),\n",
    "            ('classifier', classifier)\n",
    "        ])\n",
    "        parameters = {\n",
    "            'feat_selection__k':[i for i in range(15,30)]       \n",
    "            }\n",
    "        CV = GridSearchCV(pipe, parameters, \n",
    "                          scoring='f1_macro')\n",
    "        CV.fit(X_train, y_train)\n",
    "        a = classifier\n",
    "        b = scaler\n",
    "        c = CV.cv_results_['params']\n",
    "        d = CV.cv_results_['mean_test_score']\n",
    "        lstresults.append([a,b,c,d])"
   ]
  },
  {
   "cell_type": "code",
   "execution_count": 130,
   "id": "de20b480-c21d-48a5-a07a-714c4114b072",
   "metadata": {},
   "outputs": [
    {
     "data": {
      "text/plain": [
       "[[RandomForestClassifier(class_weight='balanced'),\n",
       "  RobustScaler(),\n",
       "  [{'feat_selection__k': 15},\n",
       "   {'feat_selection__k': 16},\n",
       "   {'feat_selection__k': 17},\n",
       "   {'feat_selection__k': 18},\n",
       "   {'feat_selection__k': 19},\n",
       "   {'feat_selection__k': 20},\n",
       "   {'feat_selection__k': 21},\n",
       "   {'feat_selection__k': 22},\n",
       "   {'feat_selection__k': 23},\n",
       "   {'feat_selection__k': 24},\n",
       "   {'feat_selection__k': 25},\n",
       "   {'feat_selection__k': 26},\n",
       "   {'feat_selection__k': 27},\n",
       "   {'feat_selection__k': 28},\n",
       "   {'feat_selection__k': 29}],\n",
       "  array([0.74552028, 0.74428325, 0.75501872, 0.75697738, 0.76895449,\n",
       "         0.75475782, 0.74809511, 0.76730842, 0.77872103, 0.76165203,\n",
       "         0.77222281, 0.77039802, 0.77890401, 0.7819115 , 0.77636082])],\n",
       " [XGBClassifier(base_score=None, booster=None, callbacks=None,\n",
       "                colsample_bylevel=None, colsample_bynode=None,\n",
       "                colsample_bytree=None, device=None, early_stopping_rounds=None,\n",
       "                enable_categorical=False, eval_metric=None, feature_types=None,\n",
       "                gamma=None, grow_policy=None, importance_type=None,\n",
       "                interaction_constraints=None, learning_rate=None, max_bin=None,\n",
       "                max_cat_threshold=None, max_cat_to_onehot=None,\n",
       "                max_delta_step=None, max_depth=None, max_leaves=None,\n",
       "                min_child_weight=None, missing=nan, monotone_constraints=None,\n",
       "                multi_strategy=None, n_estimators=None, n_jobs=None,\n",
       "                num_parallel_tree=None, random_state=None, ...),\n",
       "  RobustScaler(),\n",
       "  [{'feat_selection__k': 15},\n",
       "   {'feat_selection__k': 16},\n",
       "   {'feat_selection__k': 17},\n",
       "   {'feat_selection__k': 18},\n",
       "   {'feat_selection__k': 19},\n",
       "   {'feat_selection__k': 20},\n",
       "   {'feat_selection__k': 21},\n",
       "   {'feat_selection__k': 22},\n",
       "   {'feat_selection__k': 23},\n",
       "   {'feat_selection__k': 24},\n",
       "   {'feat_selection__k': 25},\n",
       "   {'feat_selection__k': 26},\n",
       "   {'feat_selection__k': 27},\n",
       "   {'feat_selection__k': 28},\n",
       "   {'feat_selection__k': 29}],\n",
       "  array([0.7282436 , 0.74633104, 0.75413925, 0.73184342, 0.74327924,\n",
       "         0.74727929, 0.74392427, 0.74756857, 0.74367714, 0.75642205,\n",
       "         0.76497303, 0.76620144, 0.75440308, 0.76503385, 0.75801458])],\n",
       " [SVC(),\n",
       "  RobustScaler(),\n",
       "  [{'feat_selection__k': 15},\n",
       "   {'feat_selection__k': 16},\n",
       "   {'feat_selection__k': 17},\n",
       "   {'feat_selection__k': 18},\n",
       "   {'feat_selection__k': 19},\n",
       "   {'feat_selection__k': 20},\n",
       "   {'feat_selection__k': 21},\n",
       "   {'feat_selection__k': 22},\n",
       "   {'feat_selection__k': 23},\n",
       "   {'feat_selection__k': 24},\n",
       "   {'feat_selection__k': 25},\n",
       "   {'feat_selection__k': 26},\n",
       "   {'feat_selection__k': 27},\n",
       "   {'feat_selection__k': 28},\n",
       "   {'feat_selection__k': 29}],\n",
       "  array([0.72337411, 0.71329826, 0.70059348, 0.66036899, 0.67934482,\n",
       "         0.70040409, 0.67402267, 0.71963694, 0.69992762, 0.68315055,\n",
       "         0.6744497 , 0.69792979, 0.67058382, 0.68815826, 0.66840162])],\n",
       " [RandomForestClassifier(class_weight='balanced'),\n",
       "  MinMaxScaler(),\n",
       "  [{'feat_selection__k': 15},\n",
       "   {'feat_selection__k': 16},\n",
       "   {'feat_selection__k': 17},\n",
       "   {'feat_selection__k': 18},\n",
       "   {'feat_selection__k': 19},\n",
       "   {'feat_selection__k': 20},\n",
       "   {'feat_selection__k': 21},\n",
       "   {'feat_selection__k': 22},\n",
       "   {'feat_selection__k': 23},\n",
       "   {'feat_selection__k': 24},\n",
       "   {'feat_selection__k': 25},\n",
       "   {'feat_selection__k': 26},\n",
       "   {'feat_selection__k': 27},\n",
       "   {'feat_selection__k': 28},\n",
       "   {'feat_selection__k': 29}],\n",
       "  array([0.76028423, 0.75807121, 0.75619081, 0.75544502, 0.7662722 ,\n",
       "         0.7642203 , 0.7515349 , 0.76521249, 0.76453223, 0.76825445,\n",
       "         0.7625206 , 0.77645898, 0.77466688, 0.77097187, 0.77437653])],\n",
       " [XGBClassifier(base_score=None, booster=None, callbacks=None,\n",
       "                colsample_bylevel=None, colsample_bynode=None,\n",
       "                colsample_bytree=None, device=None, early_stopping_rounds=None,\n",
       "                enable_categorical=False, eval_metric=None, feature_types=None,\n",
       "                gamma=None, grow_policy=None, importance_type=None,\n",
       "                interaction_constraints=None, learning_rate=None, max_bin=None,\n",
       "                max_cat_threshold=None, max_cat_to_onehot=None,\n",
       "                max_delta_step=None, max_depth=None, max_leaves=None,\n",
       "                min_child_weight=None, missing=nan, monotone_constraints=None,\n",
       "                multi_strategy=None, n_estimators=None, n_jobs=None,\n",
       "                num_parallel_tree=None, random_state=None, ...),\n",
       "  MinMaxScaler(),\n",
       "  [{'feat_selection__k': 15},\n",
       "   {'feat_selection__k': 16},\n",
       "   {'feat_selection__k': 17},\n",
       "   {'feat_selection__k': 18},\n",
       "   {'feat_selection__k': 19},\n",
       "   {'feat_selection__k': 20},\n",
       "   {'feat_selection__k': 21},\n",
       "   {'feat_selection__k': 22},\n",
       "   {'feat_selection__k': 23},\n",
       "   {'feat_selection__k': 24},\n",
       "   {'feat_selection__k': 25},\n",
       "   {'feat_selection__k': 26},\n",
       "   {'feat_selection__k': 27},\n",
       "   {'feat_selection__k': 28},\n",
       "   {'feat_selection__k': 29}],\n",
       "  array([0.74407827, 0.73280079, 0.74470182, 0.73603694, 0.74363276,\n",
       "         0.75350303, 0.75551359, 0.75529671, 0.75652104, 0.75108658,\n",
       "         0.74680107, 0.76163113, 0.75793146, 0.75712189, 0.76197167])],\n",
       " [SVC(),\n",
       "  MinMaxScaler(),\n",
       "  [{'feat_selection__k': 15},\n",
       "   {'feat_selection__k': 16},\n",
       "   {'feat_selection__k': 17},\n",
       "   {'feat_selection__k': 18},\n",
       "   {'feat_selection__k': 19},\n",
       "   {'feat_selection__k': 20},\n",
       "   {'feat_selection__k': 21},\n",
       "   {'feat_selection__k': 22},\n",
       "   {'feat_selection__k': 23},\n",
       "   {'feat_selection__k': 24},\n",
       "   {'feat_selection__k': 25},\n",
       "   {'feat_selection__k': 26},\n",
       "   {'feat_selection__k': 27},\n",
       "   {'feat_selection__k': 28},\n",
       "   {'feat_selection__k': 29}],\n",
       "  array([0.69226822, 0.69157213, 0.71895513, 0.69152194, 0.68117709,\n",
       "         0.71615694, 0.70663323, 0.71477081, 0.72656775, 0.68899993,\n",
       "         0.70298904, 0.70016494, 0.72289951, 0.72891907, 0.71829409])],\n",
       " [RandomForestClassifier(class_weight='balanced'),\n",
       "  StandardScaler(),\n",
       "  [{'feat_selection__k': 15},\n",
       "   {'feat_selection__k': 16},\n",
       "   {'feat_selection__k': 17},\n",
       "   {'feat_selection__k': 18},\n",
       "   {'feat_selection__k': 19},\n",
       "   {'feat_selection__k': 20},\n",
       "   {'feat_selection__k': 21},\n",
       "   {'feat_selection__k': 22},\n",
       "   {'feat_selection__k': 23},\n",
       "   {'feat_selection__k': 24},\n",
       "   {'feat_selection__k': 25},\n",
       "   {'feat_selection__k': 26},\n",
       "   {'feat_selection__k': 27},\n",
       "   {'feat_selection__k': 28},\n",
       "   {'feat_selection__k': 29}],\n",
       "  array([0.7430736 , 0.74172878, 0.74800564, 0.75361997, 0.75386092,\n",
       "         0.75842841, 0.76116195, 0.76241536, 0.76927501, 0.76260169,\n",
       "         0.76586644, 0.77770162, 0.77192811, 0.77992928, 0.7701284 ])],\n",
       " [XGBClassifier(base_score=None, booster=None, callbacks=None,\n",
       "                colsample_bylevel=None, colsample_bynode=None,\n",
       "                colsample_bytree=None, device=None, early_stopping_rounds=None,\n",
       "                enable_categorical=False, eval_metric=None, feature_types=None,\n",
       "                gamma=None, grow_policy=None, importance_type=None,\n",
       "                interaction_constraints=None, learning_rate=None, max_bin=None,\n",
       "                max_cat_threshold=None, max_cat_to_onehot=None,\n",
       "                max_delta_step=None, max_depth=None, max_leaves=None,\n",
       "                min_child_weight=None, missing=nan, monotone_constraints=None,\n",
       "                multi_strategy=None, n_estimators=None, n_jobs=None,\n",
       "                num_parallel_tree=None, random_state=None, ...),\n",
       "  StandardScaler(),\n",
       "  [{'feat_selection__k': 15},\n",
       "   {'feat_selection__k': 16},\n",
       "   {'feat_selection__k': 17},\n",
       "   {'feat_selection__k': 18},\n",
       "   {'feat_selection__k': 19},\n",
       "   {'feat_selection__k': 20},\n",
       "   {'feat_selection__k': 21},\n",
       "   {'feat_selection__k': 22},\n",
       "   {'feat_selection__k': 23},\n",
       "   {'feat_selection__k': 24},\n",
       "   {'feat_selection__k': 25},\n",
       "   {'feat_selection__k': 26},\n",
       "   {'feat_selection__k': 27},\n",
       "   {'feat_selection__k': 28},\n",
       "   {'feat_selection__k': 29}],\n",
       "  array([0.73845892, 0.74268831, 0.74306203, 0.74037092, 0.74307516,\n",
       "         0.75120803, 0.74828974, 0.74772161, 0.75562554, 0.74520632,\n",
       "         0.75338332, 0.76862875, 0.76005932, 0.75997868, 0.76202056])],\n",
       " [SVC(),\n",
       "  StandardScaler(),\n",
       "  [{'feat_selection__k': 15},\n",
       "   {'feat_selection__k': 16},\n",
       "   {'feat_selection__k': 17},\n",
       "   {'feat_selection__k': 18},\n",
       "   {'feat_selection__k': 19},\n",
       "   {'feat_selection__k': 20},\n",
       "   {'feat_selection__k': 21},\n",
       "   {'feat_selection__k': 22},\n",
       "   {'feat_selection__k': 23},\n",
       "   {'feat_selection__k': 24},\n",
       "   {'feat_selection__k': 25},\n",
       "   {'feat_selection__k': 26},\n",
       "   {'feat_selection__k': 27},\n",
       "   {'feat_selection__k': 28},\n",
       "   {'feat_selection__k': 29}],\n",
       "  array([0.73591743, 0.7207315 , 0.71051509, 0.73115495, 0.73574818,\n",
       "         0.71235867, 0.72921002, 0.74440903, 0.73536211, 0.72705049,\n",
       "         0.74285881, 0.74179075, 0.7387008 , 0.75157524, 0.74471463])]]"
      ]
     },
     "execution_count": 130,
     "metadata": {},
     "output_type": "execute_result"
    }
   ],
   "source": [
    "lstresults"
   ]
  },
  {
   "cell_type": "code",
   "execution_count": 131,
   "id": "ad7f4b14-7ae6-4cf6-999b-ae09cdc77a72",
   "metadata": {},
   "outputs": [],
   "source": [
    "res = pd.DataFrame(lstresults)\n",
    "res = res.explode([2,3])"
   ]
  },
  {
   "cell_type": "code",
   "execution_count": 132,
   "id": "0177a9ed-f4b4-4cd7-af6a-9e7d60ee9422",
   "metadata": {},
   "outputs": [
    {
     "data": {
      "text/html": [
       "<div>\n",
       "<style scoped>\n",
       "    .dataframe tbody tr th:only-of-type {\n",
       "        vertical-align: middle;\n",
       "    }\n",
       "\n",
       "    .dataframe tbody tr th {\n",
       "        vertical-align: top;\n",
       "    }\n",
       "\n",
       "    .dataframe thead th {\n",
       "        text-align: right;\n",
       "    }\n",
       "</style>\n",
       "<table border=\"1\" class=\"dataframe\">\n",
       "  <thead>\n",
       "    <tr style=\"text-align: right;\">\n",
       "      <th></th>\n",
       "      <th>0</th>\n",
       "      <th>1</th>\n",
       "      <th>2</th>\n",
       "      <th>3</th>\n",
       "    </tr>\n",
       "  </thead>\n",
       "  <tbody>\n",
       "    <tr>\n",
       "      <th>0</th>\n",
       "      <td>RandomForestClassifier(class_weight='balanced')</td>\n",
       "      <td>RobustScaler()</td>\n",
       "      <td>{'feat_selection__k': 15}</td>\n",
       "      <td>0.74552</td>\n",
       "    </tr>\n",
       "    <tr>\n",
       "      <th>0</th>\n",
       "      <td>RandomForestClassifier(class_weight='balanced')</td>\n",
       "      <td>RobustScaler()</td>\n",
       "      <td>{'feat_selection__k': 16}</td>\n",
       "      <td>0.744283</td>\n",
       "    </tr>\n",
       "    <tr>\n",
       "      <th>0</th>\n",
       "      <td>RandomForestClassifier(class_weight='balanced')</td>\n",
       "      <td>RobustScaler()</td>\n",
       "      <td>{'feat_selection__k': 17}</td>\n",
       "      <td>0.755019</td>\n",
       "    </tr>\n",
       "    <tr>\n",
       "      <th>0</th>\n",
       "      <td>RandomForestClassifier(class_weight='balanced')</td>\n",
       "      <td>RobustScaler()</td>\n",
       "      <td>{'feat_selection__k': 18}</td>\n",
       "      <td>0.756977</td>\n",
       "    </tr>\n",
       "    <tr>\n",
       "      <th>0</th>\n",
       "      <td>RandomForestClassifier(class_weight='balanced')</td>\n",
       "      <td>RobustScaler()</td>\n",
       "      <td>{'feat_selection__k': 19}</td>\n",
       "      <td>0.768954</td>\n",
       "    </tr>\n",
       "    <tr>\n",
       "      <th>...</th>\n",
       "      <td>...</td>\n",
       "      <td>...</td>\n",
       "      <td>...</td>\n",
       "      <td>...</td>\n",
       "    </tr>\n",
       "    <tr>\n",
       "      <th>8</th>\n",
       "      <td>SVC()</td>\n",
       "      <td>StandardScaler()</td>\n",
       "      <td>{'feat_selection__k': 25}</td>\n",
       "      <td>0.742859</td>\n",
       "    </tr>\n",
       "    <tr>\n",
       "      <th>8</th>\n",
       "      <td>SVC()</td>\n",
       "      <td>StandardScaler()</td>\n",
       "      <td>{'feat_selection__k': 26}</td>\n",
       "      <td>0.741791</td>\n",
       "    </tr>\n",
       "    <tr>\n",
       "      <th>8</th>\n",
       "      <td>SVC()</td>\n",
       "      <td>StandardScaler()</td>\n",
       "      <td>{'feat_selection__k': 27}</td>\n",
       "      <td>0.738701</td>\n",
       "    </tr>\n",
       "    <tr>\n",
       "      <th>8</th>\n",
       "      <td>SVC()</td>\n",
       "      <td>StandardScaler()</td>\n",
       "      <td>{'feat_selection__k': 28}</td>\n",
       "      <td>0.751575</td>\n",
       "    </tr>\n",
       "    <tr>\n",
       "      <th>8</th>\n",
       "      <td>SVC()</td>\n",
       "      <td>StandardScaler()</td>\n",
       "      <td>{'feat_selection__k': 29}</td>\n",
       "      <td>0.744715</td>\n",
       "    </tr>\n",
       "  </tbody>\n",
       "</table>\n",
       "<p>135 rows × 4 columns</p>\n",
       "</div>"
      ],
      "text/plain": [
       "                                                  0                 1  \\\n",
       "0   RandomForestClassifier(class_weight='balanced')    RobustScaler()   \n",
       "0   RandomForestClassifier(class_weight='balanced')    RobustScaler()   \n",
       "0   RandomForestClassifier(class_weight='balanced')    RobustScaler()   \n",
       "0   RandomForestClassifier(class_weight='balanced')    RobustScaler()   \n",
       "0   RandomForestClassifier(class_weight='balanced')    RobustScaler()   \n",
       "..                                              ...               ...   \n",
       "8                                             SVC()  StandardScaler()   \n",
       "8                                             SVC()  StandardScaler()   \n",
       "8                                             SVC()  StandardScaler()   \n",
       "8                                             SVC()  StandardScaler()   \n",
       "8                                             SVC()  StandardScaler()   \n",
       "\n",
       "                            2         3  \n",
       "0   {'feat_selection__k': 15}   0.74552  \n",
       "0   {'feat_selection__k': 16}  0.744283  \n",
       "0   {'feat_selection__k': 17}  0.755019  \n",
       "0   {'feat_selection__k': 18}  0.756977  \n",
       "0   {'feat_selection__k': 19}  0.768954  \n",
       "..                        ...       ...  \n",
       "8   {'feat_selection__k': 25}  0.742859  \n",
       "8   {'feat_selection__k': 26}  0.741791  \n",
       "8   {'feat_selection__k': 27}  0.738701  \n",
       "8   {'feat_selection__k': 28}  0.751575  \n",
       "8   {'feat_selection__k': 29}  0.744715  \n",
       "\n",
       "[135 rows x 4 columns]"
      ]
     },
     "execution_count": 132,
     "metadata": {},
     "output_type": "execute_result"
    }
   ],
   "source": [
    "res"
   ]
  },
  {
   "cell_type": "code",
   "execution_count": 133,
   "id": "bce97e1c-ca3f-4fe3-b4bb-c7641a95c572",
   "metadata": {},
   "outputs": [
    {
     "data": {
      "text/html": [
       "<div>\n",
       "<style scoped>\n",
       "    .dataframe tbody tr th:only-of-type {\n",
       "        vertical-align: middle;\n",
       "    }\n",
       "\n",
       "    .dataframe tbody tr th {\n",
       "        vertical-align: top;\n",
       "    }\n",
       "\n",
       "    .dataframe thead th {\n",
       "        text-align: right;\n",
       "    }\n",
       "</style>\n",
       "<table border=\"1\" class=\"dataframe\">\n",
       "  <thead>\n",
       "    <tr style=\"text-align: right;\">\n",
       "      <th></th>\n",
       "      <th>0</th>\n",
       "      <th>1</th>\n",
       "      <th>2</th>\n",
       "      <th>3</th>\n",
       "    </tr>\n",
       "  </thead>\n",
       "  <tbody>\n",
       "    <tr>\n",
       "      <th>0</th>\n",
       "      <td>RandomForestClassifier(class_weight='balanced')</td>\n",
       "      <td>RobustScaler()</td>\n",
       "      <td>{'feat_selection__k': 28}</td>\n",
       "      <td>0.781912</td>\n",
       "    </tr>\n",
       "    <tr>\n",
       "      <th>6</th>\n",
       "      <td>RandomForestClassifier(class_weight='balanced')</td>\n",
       "      <td>StandardScaler()</td>\n",
       "      <td>{'feat_selection__k': 28}</td>\n",
       "      <td>0.779929</td>\n",
       "    </tr>\n",
       "    <tr>\n",
       "      <th>0</th>\n",
       "      <td>RandomForestClassifier(class_weight='balanced')</td>\n",
       "      <td>RobustScaler()</td>\n",
       "      <td>{'feat_selection__k': 27}</td>\n",
       "      <td>0.778904</td>\n",
       "    </tr>\n",
       "    <tr>\n",
       "      <th>0</th>\n",
       "      <td>RandomForestClassifier(class_weight='balanced')</td>\n",
       "      <td>RobustScaler()</td>\n",
       "      <td>{'feat_selection__k': 23}</td>\n",
       "      <td>0.778721</td>\n",
       "    </tr>\n",
       "    <tr>\n",
       "      <th>6</th>\n",
       "      <td>RandomForestClassifier(class_weight='balanced')</td>\n",
       "      <td>StandardScaler()</td>\n",
       "      <td>{'feat_selection__k': 26}</td>\n",
       "      <td>0.777702</td>\n",
       "    </tr>\n",
       "    <tr>\n",
       "      <th>...</th>\n",
       "      <td>...</td>\n",
       "      <td>...</td>\n",
       "      <td>...</td>\n",
       "      <td>...</td>\n",
       "    </tr>\n",
       "    <tr>\n",
       "      <th>2</th>\n",
       "      <td>SVC()</td>\n",
       "      <td>RobustScaler()</td>\n",
       "      <td>{'feat_selection__k': 25}</td>\n",
       "      <td>0.67445</td>\n",
       "    </tr>\n",
       "    <tr>\n",
       "      <th>2</th>\n",
       "      <td>SVC()</td>\n",
       "      <td>RobustScaler()</td>\n",
       "      <td>{'feat_selection__k': 21}</td>\n",
       "      <td>0.674023</td>\n",
       "    </tr>\n",
       "    <tr>\n",
       "      <th>2</th>\n",
       "      <td>SVC()</td>\n",
       "      <td>RobustScaler()</td>\n",
       "      <td>{'feat_selection__k': 27}</td>\n",
       "      <td>0.670584</td>\n",
       "    </tr>\n",
       "    <tr>\n",
       "      <th>2</th>\n",
       "      <td>SVC()</td>\n",
       "      <td>RobustScaler()</td>\n",
       "      <td>{'feat_selection__k': 29}</td>\n",
       "      <td>0.668402</td>\n",
       "    </tr>\n",
       "    <tr>\n",
       "      <th>2</th>\n",
       "      <td>SVC()</td>\n",
       "      <td>RobustScaler()</td>\n",
       "      <td>{'feat_selection__k': 18}</td>\n",
       "      <td>0.660369</td>\n",
       "    </tr>\n",
       "  </tbody>\n",
       "</table>\n",
       "<p>135 rows × 4 columns</p>\n",
       "</div>"
      ],
      "text/plain": [
       "                                                  0                 1  \\\n",
       "0   RandomForestClassifier(class_weight='balanced')    RobustScaler()   \n",
       "6   RandomForestClassifier(class_weight='balanced')  StandardScaler()   \n",
       "0   RandomForestClassifier(class_weight='balanced')    RobustScaler()   \n",
       "0   RandomForestClassifier(class_weight='balanced')    RobustScaler()   \n",
       "6   RandomForestClassifier(class_weight='balanced')  StandardScaler()   \n",
       "..                                              ...               ...   \n",
       "2                                             SVC()    RobustScaler()   \n",
       "2                                             SVC()    RobustScaler()   \n",
       "2                                             SVC()    RobustScaler()   \n",
       "2                                             SVC()    RobustScaler()   \n",
       "2                                             SVC()    RobustScaler()   \n",
       "\n",
       "                            2         3  \n",
       "0   {'feat_selection__k': 28}  0.781912  \n",
       "6   {'feat_selection__k': 28}  0.779929  \n",
       "0   {'feat_selection__k': 27}  0.778904  \n",
       "0   {'feat_selection__k': 23}  0.778721  \n",
       "6   {'feat_selection__k': 26}  0.777702  \n",
       "..                        ...       ...  \n",
       "2   {'feat_selection__k': 25}   0.67445  \n",
       "2   {'feat_selection__k': 21}  0.674023  \n",
       "2   {'feat_selection__k': 27}  0.670584  \n",
       "2   {'feat_selection__k': 29}  0.668402  \n",
       "2   {'feat_selection__k': 18}  0.660369  \n",
       "\n",
       "[135 rows x 4 columns]"
      ]
     },
     "execution_count": 133,
     "metadata": {},
     "output_type": "execute_result"
    }
   ],
   "source": [
    "res.sort_values(3,ascending = False)"
   ]
  },
  {
   "cell_type": "code",
   "execution_count": 156,
   "id": "a7148c36-19c4-4419-9f03-cdefadc567a9",
   "metadata": {},
   "outputs": [
    {
     "name": "stdout",
     "output_type": "stream",
     "text": [
      " - balanced accuracy: 0.79\n",
      " - macro f1: 0.8\n"
     ]
    }
   ],
   "source": [
    "pipe = Pipeline([\n",
    "  ('scaler',RobustScaler()),\n",
    "  ('feat_select', SelectKBest(mutual_info_classif,k=28)),\n",
    "  ('classifier', RandomForestClassifier(random_state=42))\n",
    "])\n",
    "\n",
    "pipe.fit(X_train, y_train)\n",
    "predictions = pipe.predict(X_test)\n",
    "print(' - balanced accuracy:', round(balanced_accuracy_score(y_test, predictions),2))\n",
    "print(' - macro f1:', round(f1_score(y_test, predictions, average='macro'),2))"
   ]
  },
  {
   "cell_type": "code",
   "execution_count": 157,
   "id": "315f3a02-020e-4839-b9ff-a5b6626331d1",
   "metadata": {},
   "outputs": [],
   "source": [
    "X_new = SelectKBest(score_func= mutual_info_classif, k=29).fit(X_train,y_train)"
   ]
  },
  {
   "cell_type": "code",
   "execution_count": 158,
   "id": "0d42ecb6-0541-465e-aebd-479fe880b9b7",
   "metadata": {},
   "outputs": [],
   "source": [
    "mask = X_new.get_support(indices=True)"
   ]
  },
  {
   "cell_type": "code",
   "execution_count": 159,
   "id": "bb5a74ad-91f2-4aa7-a6ca-17eb240e73aa",
   "metadata": {},
   "outputs": [
    {
     "data": {
      "text/plain": [
       "array([ 0,  1,  3,  5,  6,  8,  9, 10, 11, 12, 13, 14, 15, 16, 18, 19, 20,\n",
       "       21, 22, 23, 24, 29, 32, 34, 37, 39, 40, 41, 43], dtype=int64)"
      ]
     },
     "execution_count": 159,
     "metadata": {},
     "output_type": "execute_result"
    }
   ],
   "source": [
    "mask"
   ]
  },
  {
   "cell_type": "code",
   "execution_count": 160,
   "id": "f1d5acbf-6d62-4b09-8296-3c3ef77b052a",
   "metadata": {},
   "outputs": [],
   "source": [
    "lstcolumns = X_train.columns"
   ]
  },
  {
   "cell_type": "code",
   "execution_count": 161,
   "id": "8b8d31d8-af82-4ba3-bed6-04fe367061e9",
   "metadata": {},
   "outputs": [],
   "source": [
    "dic = {i:lstcolumns[i] for i in range(len(lstcolumns))}"
   ]
  },
  {
   "cell_type": "code",
   "execution_count": 162,
   "id": "6db1d9cf-f622-4945-bdc3-5aa9203eb390",
   "metadata": {},
   "outputs": [
    {
     "data": {
      "text/plain": [
       "{0: 'lead_time',\n",
       " 1: 'arrival_date_week_number',\n",
       " 2: 'arrival_date_day_of_month',\n",
       " 3: 'stays_in_weekend_nights',\n",
       " 4: 'stays_in_week_nights',\n",
       " 5: 'adults',\n",
       " 6: 'children',\n",
       " 7: 'babies',\n",
       " 8: 'is_repeated_guest',\n",
       " 9: 'previous_cancellations',\n",
       " 10: 'previous_bookings_not_canceled',\n",
       " 11: 'booking_changes',\n",
       " 12: 'days_in_waiting_list',\n",
       " 13: 'adr',\n",
       " 14: 'required_car_parking_spaces',\n",
       " 15: 'total_of_special_requests',\n",
       " 16: 'hotel_Resort Hotel',\n",
       " 17: 'meal_FB',\n",
       " 18: 'meal_HB',\n",
       " 19: 'meal_SC',\n",
       " 20: 'meal_Undefined',\n",
       " 21: 'market_segment_Complementary',\n",
       " 22: 'market_segment_Corporate',\n",
       " 23: 'market_segment_Direct',\n",
       " 24: 'market_segment_Groups',\n",
       " 25: 'market_segment_Offline TA/TO',\n",
       " 26: 'market_segment_Online TA',\n",
       " 27: 'market_segment_Undefined',\n",
       " 28: 'distribution_channel_GDS',\n",
       " 29: 'distribution_channel_TA/TO',\n",
       " 30: 'distribution_channel_Undefined',\n",
       " 31: 'reserved_room_type_B',\n",
       " 32: 'reserved_room_type_C',\n",
       " 33: 'reserved_room_type_D',\n",
       " 34: 'reserved_room_type_E',\n",
       " 35: 'reserved_room_type_F',\n",
       " 36: 'reserved_room_type_G',\n",
       " 37: 'reserved_room_type_H',\n",
       " 38: 'reserved_room_type_L',\n",
       " 39: 'deposit_type_Non Refund',\n",
       " 40: 'deposit_type_Refundable',\n",
       " 41: 'customer_type_Group',\n",
       " 42: 'customer_type_Transient',\n",
       " 43: 'customer_type_Transient-Party'}"
      ]
     },
     "execution_count": 162,
     "metadata": {},
     "output_type": "execute_result"
    }
   ],
   "source": [
    "dic"
   ]
  },
  {
   "cell_type": "code",
   "execution_count": 168,
   "id": "94b29754-32dd-41ce-a4c7-0b3949eb53b5",
   "metadata": {},
   "outputs": [],
   "source": [
    "importantkbest = [dic[i] for i in list(mask)]"
   ]
  },
  {
   "cell_type": "code",
   "execution_count": 169,
   "id": "0d3e4eee-510c-4927-8e6a-8d7853b5c88a",
   "metadata": {},
   "outputs": [
    {
     "data": {
      "text/plain": [
       "['lead_time',\n",
       " 'arrival_date_week_number',\n",
       " 'stays_in_weekend_nights',\n",
       " 'adults',\n",
       " 'children',\n",
       " 'is_repeated_guest',\n",
       " 'previous_cancellations',\n",
       " 'previous_bookings_not_canceled',\n",
       " 'booking_changes',\n",
       " 'days_in_waiting_list',\n",
       " 'adr',\n",
       " 'required_car_parking_spaces',\n",
       " 'total_of_special_requests',\n",
       " 'hotel_Resort Hotel',\n",
       " 'meal_HB',\n",
       " 'meal_SC',\n",
       " 'meal_Undefined',\n",
       " 'market_segment_Complementary',\n",
       " 'market_segment_Corporate',\n",
       " 'market_segment_Direct',\n",
       " 'market_segment_Groups',\n",
       " 'distribution_channel_TA/TO',\n",
       " 'reserved_room_type_C',\n",
       " 'reserved_room_type_E',\n",
       " 'reserved_room_type_H',\n",
       " 'deposit_type_Non Refund',\n",
       " 'deposit_type_Refundable',\n",
       " 'customer_type_Group',\n",
       " 'customer_type_Transient-Party']"
      ]
     },
     "execution_count": 169,
     "metadata": {},
     "output_type": "execute_result"
    }
   ],
   "source": [
    "importantkbest"
   ]
  },
  {
   "cell_type": "code",
   "execution_count": null,
   "id": "2e55395f-ee5e-4521-8fac-5471fbc16fb9",
   "metadata": {},
   "outputs": [],
   "source": []
  },
  {
   "cell_type": "markdown",
   "id": "08df5f94-ef26-4e7d-86ef-efabec2eab2f",
   "metadata": {},
   "source": [
    "# MRMR"
   ]
  },
  {
   "cell_type": "code",
   "execution_count": 144,
   "id": "7c1d3da5-f77f-49b2-aea7-325e2c5384d3",
   "metadata": {},
   "outputs": [
    {
     "data": {
      "text/plain": [
       "Index(['is_canceled', 'lead_time', 'arrival_date_week_number',\n",
       "       'arrival_date_day_of_month', 'stays_in_weekend_nights',\n",
       "       'stays_in_week_nights', 'adults', 'children', 'babies',\n",
       "       'is_repeated_guest', 'previous_cancellations',\n",
       "       'previous_bookings_not_canceled', 'booking_changes',\n",
       "       'days_in_waiting_list', 'adr', 'required_car_parking_spaces',\n",
       "       'total_of_special_requests', 'hotel_Resort Hotel', 'meal_FB', 'meal_HB',\n",
       "       'meal_SC', 'meal_Undefined', 'market_segment_Complementary',\n",
       "       'market_segment_Corporate', 'market_segment_Direct',\n",
       "       'market_segment_Groups', 'market_segment_Offline TA/TO',\n",
       "       'market_segment_Online TA', 'market_segment_Undefined',\n",
       "       'distribution_channel_GDS', 'distribution_channel_TA/TO',\n",
       "       'distribution_channel_Undefined', 'reserved_room_type_B',\n",
       "       'reserved_room_type_C', 'reserved_room_type_D', 'reserved_room_type_E',\n",
       "       'reserved_room_type_F', 'reserved_room_type_G', 'reserved_room_type_H',\n",
       "       'reserved_room_type_L', 'deposit_type_Non Refund',\n",
       "       'deposit_type_Refundable', 'customer_type_Group',\n",
       "       'customer_type_Transient', 'customer_type_Transient-Party'],\n",
       "      dtype='object')"
      ]
     },
     "execution_count": 144,
     "metadata": {},
     "output_type": "execute_result"
    }
   ],
   "source": [
    "df.columns"
   ]
  },
  {
   "cell_type": "code",
   "execution_count": 145,
   "id": "c38f42fd-205c-4519-9a81-789e1e481ecf",
   "metadata": {},
   "outputs": [],
   "source": [
    "classifiers = [\n",
    "    RandomForestClassifier(class_weight='balanced'),\n",
    "    xgb.XGBClassifier(),\n",
    "    SVC()]"
   ]
  },
  {
   "cell_type": "code",
   "execution_count": 146,
   "id": "df3da9c6-a51b-48f2-a554-875c503035ab",
   "metadata": {},
   "outputs": [
    {
     "name": "stderr",
     "output_type": "stream",
     "text": [
      "100%|████████████████████████████████████████████████████████████████████████████████████| 5/5 [00:00<00:00, 28.67it/s]\n"
     ]
    },
    {
     "name": "stdout",
     "output_type": "stream",
     "text": [
      "['deposit_type_Non Refund', 'required_car_parking_spaces', 'lead_time', 'booking_changes', 'total_of_special_requests']\n"
     ]
    },
    {
     "name": "stderr",
     "output_type": "stream",
     "text": [
      "100%|████████████████████████████████████████████████████████████████████████████████████| 6/6 [00:00<00:00, 37.44it/s]\n"
     ]
    },
    {
     "name": "stdout",
     "output_type": "stream",
     "text": [
      "['deposit_type_Non Refund', 'required_car_parking_spaces', 'lead_time', 'booking_changes', 'total_of_special_requests', 'distribution_channel_TA/TO']\n"
     ]
    },
    {
     "name": "stderr",
     "output_type": "stream",
     "text": [
      "100%|████████████████████████████████████████████████████████████████████████████████████| 7/7 [00:00<00:00, 37.16it/s]\n"
     ]
    },
    {
     "name": "stdout",
     "output_type": "stream",
     "text": [
      "['deposit_type_Non Refund', 'required_car_parking_spaces', 'lead_time', 'booking_changes', 'total_of_special_requests', 'distribution_channel_TA/TO', 'market_segment_Groups']\n"
     ]
    },
    {
     "name": "stderr",
     "output_type": "stream",
     "text": [
      "100%|████████████████████████████████████████████████████████████████████████████████████| 8/8 [00:00<00:00, 30.39it/s]\n"
     ]
    },
    {
     "name": "stdout",
     "output_type": "stream",
     "text": [
      "['deposit_type_Non Refund', 'required_car_parking_spaces', 'lead_time', 'booking_changes', 'total_of_special_requests', 'distribution_channel_TA/TO', 'market_segment_Groups', 'hotel_Resort Hotel']\n"
     ]
    },
    {
     "name": "stderr",
     "output_type": "stream",
     "text": [
      "100%|████████████████████████████████████████████████████████████████████████████████████| 9/9 [00:00<00:00, 32.14it/s]\n"
     ]
    },
    {
     "name": "stdout",
     "output_type": "stream",
     "text": [
      "['deposit_type_Non Refund', 'required_car_parking_spaces', 'lead_time', 'booking_changes', 'total_of_special_requests', 'distribution_channel_TA/TO', 'market_segment_Groups', 'hotel_Resort Hotel', 'previous_cancellations']\n"
     ]
    },
    {
     "name": "stderr",
     "output_type": "stream",
     "text": [
      "100%|██████████████████████████████████████████████████████████████████████████████████| 10/10 [00:00<00:00, 33.32it/s]\n"
     ]
    },
    {
     "name": "stdout",
     "output_type": "stream",
     "text": [
      "['deposit_type_Non Refund', 'required_car_parking_spaces', 'lead_time', 'booking_changes', 'total_of_special_requests', 'distribution_channel_TA/TO', 'market_segment_Groups', 'hotel_Resort Hotel', 'previous_cancellations', 'market_segment_Direct']\n"
     ]
    },
    {
     "name": "stderr",
     "output_type": "stream",
     "text": [
      "100%|██████████████████████████████████████████████████████████████████████████████████| 11/11 [00:00<00:00, 23.16it/s]\n"
     ]
    },
    {
     "name": "stdout",
     "output_type": "stream",
     "text": [
      "['deposit_type_Non Refund', 'required_car_parking_spaces', 'lead_time', 'booking_changes', 'total_of_special_requests', 'distribution_channel_TA/TO', 'market_segment_Groups', 'hotel_Resort Hotel', 'previous_cancellations', 'market_segment_Direct', 'customer_type_Transient']\n"
     ]
    },
    {
     "name": "stderr",
     "output_type": "stream",
     "text": [
      "100%|██████████████████████████████████████████████████████████████████████████████████| 12/12 [00:00<00:00, 30.44it/s]\n"
     ]
    },
    {
     "name": "stdout",
     "output_type": "stream",
     "text": [
      "['deposit_type_Non Refund', 'required_car_parking_spaces', 'lead_time', 'booking_changes', 'total_of_special_requests', 'distribution_channel_TA/TO', 'market_segment_Groups', 'hotel_Resort Hotel', 'previous_cancellations', 'market_segment_Direct', 'customer_type_Transient', 'is_repeated_guest']\n"
     ]
    },
    {
     "name": "stderr",
     "output_type": "stream",
     "text": [
      "100%|██████████████████████████████████████████████████████████████████████████████████| 13/13 [00:00<00:00, 23.01it/s]\n"
     ]
    },
    {
     "name": "stdout",
     "output_type": "stream",
     "text": [
      "['deposit_type_Non Refund', 'required_car_parking_spaces', 'lead_time', 'booking_changes', 'total_of_special_requests', 'distribution_channel_TA/TO', 'market_segment_Groups', 'hotel_Resort Hotel', 'previous_cancellations', 'market_segment_Direct', 'customer_type_Transient', 'is_repeated_guest', 'customer_type_Transient-Party']\n"
     ]
    },
    {
     "name": "stderr",
     "output_type": "stream",
     "text": [
      "100%|██████████████████████████████████████████████████████████████████████████████████| 14/14 [00:00<00:00, 33.26it/s]\n"
     ]
    },
    {
     "name": "stdout",
     "output_type": "stream",
     "text": [
      "['deposit_type_Non Refund', 'required_car_parking_spaces', 'lead_time', 'booking_changes', 'total_of_special_requests', 'distribution_channel_TA/TO', 'market_segment_Groups', 'hotel_Resort Hotel', 'previous_cancellations', 'market_segment_Direct', 'customer_type_Transient', 'is_repeated_guest', 'customer_type_Transient-Party', 'customer_type_Group']\n"
     ]
    },
    {
     "name": "stderr",
     "output_type": "stream",
     "text": [
      "100%|██████████████████████████████████████████████████████████████████████████████████| 15/15 [00:00<00:00, 25.81it/s]\n"
     ]
    },
    {
     "name": "stdout",
     "output_type": "stream",
     "text": [
      "['deposit_type_Non Refund', 'required_car_parking_spaces', 'lead_time', 'booking_changes', 'total_of_special_requests', 'distribution_channel_TA/TO', 'market_segment_Groups', 'hotel_Resort Hotel', 'previous_cancellations', 'market_segment_Direct', 'customer_type_Transient', 'is_repeated_guest', 'customer_type_Transient-Party', 'customer_type_Group', 'market_segment_Corporate']\n"
     ]
    },
    {
     "name": "stderr",
     "output_type": "stream",
     "text": [
      "100%|██████████████████████████████████████████████████████████████████████████████████| 16/16 [00:00<00:00, 29.93it/s]\n"
     ]
    },
    {
     "name": "stdout",
     "output_type": "stream",
     "text": [
      "['deposit_type_Non Refund', 'required_car_parking_spaces', 'lead_time', 'booking_changes', 'total_of_special_requests', 'distribution_channel_TA/TO', 'market_segment_Groups', 'hotel_Resort Hotel', 'previous_cancellations', 'market_segment_Direct', 'customer_type_Transient', 'is_repeated_guest', 'customer_type_Transient-Party', 'customer_type_Group', 'market_segment_Corporate', 'days_in_waiting_list']\n"
     ]
    },
    {
     "name": "stderr",
     "output_type": "stream",
     "text": [
      "100%|██████████████████████████████████████████████████████████████████████████████████| 17/17 [00:00<00:00, 33.68it/s]\n"
     ]
    },
    {
     "name": "stdout",
     "output_type": "stream",
     "text": [
      "['deposit_type_Non Refund', 'required_car_parking_spaces', 'lead_time', 'booking_changes', 'total_of_special_requests', 'distribution_channel_TA/TO', 'market_segment_Groups', 'hotel_Resort Hotel', 'previous_cancellations', 'market_segment_Direct', 'customer_type_Transient', 'is_repeated_guest', 'customer_type_Transient-Party', 'customer_type_Group', 'market_segment_Corporate', 'days_in_waiting_list', 'reserved_room_type_E']\n"
     ]
    },
    {
     "name": "stderr",
     "output_type": "stream",
     "text": [
      "100%|██████████████████████████████████████████████████████████████████████████████████| 18/18 [00:00<00:00, 32.13it/s]\n"
     ]
    },
    {
     "name": "stdout",
     "output_type": "stream",
     "text": [
      "['deposit_type_Non Refund', 'required_car_parking_spaces', 'lead_time', 'booking_changes', 'total_of_special_requests', 'distribution_channel_TA/TO', 'market_segment_Groups', 'hotel_Resort Hotel', 'previous_cancellations', 'market_segment_Direct', 'customer_type_Transient', 'is_repeated_guest', 'customer_type_Transient-Party', 'customer_type_Group', 'market_segment_Corporate', 'days_in_waiting_list', 'reserved_room_type_E', 'adults']\n"
     ]
    },
    {
     "name": "stderr",
     "output_type": "stream",
     "text": [
      "100%|██████████████████████████████████████████████████████████████████████████████████| 19/19 [00:00<00:00, 33.05it/s]\n"
     ]
    },
    {
     "name": "stdout",
     "output_type": "stream",
     "text": [
      "['deposit_type_Non Refund', 'required_car_parking_spaces', 'lead_time', 'booking_changes', 'total_of_special_requests', 'distribution_channel_TA/TO', 'market_segment_Groups', 'hotel_Resort Hotel', 'previous_cancellations', 'market_segment_Direct', 'customer_type_Transient', 'is_repeated_guest', 'customer_type_Transient-Party', 'customer_type_Group', 'market_segment_Corporate', 'days_in_waiting_list', 'reserved_room_type_E', 'adults', 'market_segment_Undefined']\n"
     ]
    },
    {
     "name": "stderr",
     "output_type": "stream",
     "text": [
      "100%|██████████████████████████████████████████████████████████████████████████████████| 20/20 [00:00<00:00, 28.62it/s]\n"
     ]
    },
    {
     "name": "stdout",
     "output_type": "stream",
     "text": [
      "['deposit_type_Non Refund', 'required_car_parking_spaces', 'lead_time', 'booking_changes', 'total_of_special_requests', 'distribution_channel_TA/TO', 'market_segment_Groups', 'hotel_Resort Hotel', 'previous_cancellations', 'market_segment_Direct', 'customer_type_Transient', 'is_repeated_guest', 'customer_type_Transient-Party', 'customer_type_Group', 'market_segment_Corporate', 'days_in_waiting_list', 'reserved_room_type_E', 'adults', 'market_segment_Undefined', 'previous_bookings_not_canceled']\n"
     ]
    },
    {
     "name": "stderr",
     "output_type": "stream",
     "text": [
      "100%|██████████████████████████████████████████████████████████████████████████████████| 21/21 [00:00<00:00, 33.38it/s]\n"
     ]
    },
    {
     "name": "stdout",
     "output_type": "stream",
     "text": [
      "['deposit_type_Non Refund', 'required_car_parking_spaces', 'lead_time', 'booking_changes', 'total_of_special_requests', 'distribution_channel_TA/TO', 'market_segment_Groups', 'hotel_Resort Hotel', 'previous_cancellations', 'market_segment_Direct', 'customer_type_Transient', 'is_repeated_guest', 'customer_type_Transient-Party', 'customer_type_Group', 'market_segment_Corporate', 'days_in_waiting_list', 'reserved_room_type_E', 'adults', 'market_segment_Undefined', 'previous_bookings_not_canceled', 'babies']\n"
     ]
    },
    {
     "name": "stderr",
     "output_type": "stream",
     "text": [
      "100%|██████████████████████████████████████████████████████████████████████████████████| 22/22 [00:00<00:00, 33.51it/s]\n"
     ]
    },
    {
     "name": "stdout",
     "output_type": "stream",
     "text": [
      "['deposit_type_Non Refund', 'required_car_parking_spaces', 'lead_time', 'booking_changes', 'total_of_special_requests', 'distribution_channel_TA/TO', 'market_segment_Groups', 'hotel_Resort Hotel', 'previous_cancellations', 'market_segment_Direct', 'customer_type_Transient', 'is_repeated_guest', 'customer_type_Transient-Party', 'customer_type_Group', 'market_segment_Corporate', 'days_in_waiting_list', 'reserved_room_type_E', 'adults', 'market_segment_Undefined', 'previous_bookings_not_canceled', 'babies', 'reserved_room_type_D']\n"
     ]
    },
    {
     "name": "stderr",
     "output_type": "stream",
     "text": [
      "100%|██████████████████████████████████████████████████████████████████████████████████| 23/23 [00:00<00:00, 31.45it/s]\n"
     ]
    },
    {
     "name": "stdout",
     "output_type": "stream",
     "text": [
      "['deposit_type_Non Refund', 'required_car_parking_spaces', 'lead_time', 'booking_changes', 'total_of_special_requests', 'distribution_channel_TA/TO', 'market_segment_Groups', 'hotel_Resort Hotel', 'previous_cancellations', 'market_segment_Direct', 'customer_type_Transient', 'is_repeated_guest', 'customer_type_Transient-Party', 'customer_type_Group', 'market_segment_Corporate', 'days_in_waiting_list', 'reserved_room_type_E', 'adults', 'market_segment_Undefined', 'previous_bookings_not_canceled', 'babies', 'reserved_room_type_D', 'meal_Undefined']\n"
     ]
    },
    {
     "name": "stderr",
     "output_type": "stream",
     "text": [
      "100%|██████████████████████████████████████████████████████████████████████████████████| 24/24 [00:00<00:00, 31.47it/s]\n"
     ]
    },
    {
     "name": "stdout",
     "output_type": "stream",
     "text": [
      "['deposit_type_Non Refund', 'required_car_parking_spaces', 'lead_time', 'booking_changes', 'total_of_special_requests', 'distribution_channel_TA/TO', 'market_segment_Groups', 'hotel_Resort Hotel', 'previous_cancellations', 'market_segment_Direct', 'customer_type_Transient', 'is_repeated_guest', 'customer_type_Transient-Party', 'customer_type_Group', 'market_segment_Corporate', 'days_in_waiting_list', 'reserved_room_type_E', 'adults', 'market_segment_Undefined', 'previous_bookings_not_canceled', 'babies', 'reserved_room_type_D', 'meal_Undefined', 'adr']\n"
     ]
    },
    {
     "name": "stderr",
     "output_type": "stream",
     "text": [
      "100%|██████████████████████████████████████████████████████████████████████████████████| 25/25 [00:00<00:00, 31.22it/s]\n"
     ]
    },
    {
     "name": "stdout",
     "output_type": "stream",
     "text": [
      "['deposit_type_Non Refund', 'required_car_parking_spaces', 'lead_time', 'booking_changes', 'total_of_special_requests', 'distribution_channel_TA/TO', 'market_segment_Groups', 'hotel_Resort Hotel', 'previous_cancellations', 'market_segment_Direct', 'customer_type_Transient', 'is_repeated_guest', 'customer_type_Transient-Party', 'customer_type_Group', 'market_segment_Corporate', 'days_in_waiting_list', 'reserved_room_type_E', 'adults', 'market_segment_Undefined', 'previous_bookings_not_canceled', 'babies', 'reserved_room_type_D', 'meal_Undefined', 'adr', 'market_segment_Complementary']\n"
     ]
    },
    {
     "name": "stderr",
     "output_type": "stream",
     "text": [
      "100%|██████████████████████████████████████████████████████████████████████████████████| 26/26 [00:00<00:00, 31.54it/s]\n"
     ]
    },
    {
     "name": "stdout",
     "output_type": "stream",
     "text": [
      "['deposit_type_Non Refund', 'required_car_parking_spaces', 'lead_time', 'booking_changes', 'total_of_special_requests', 'distribution_channel_TA/TO', 'market_segment_Groups', 'hotel_Resort Hotel', 'previous_cancellations', 'market_segment_Direct', 'customer_type_Transient', 'is_repeated_guest', 'customer_type_Transient-Party', 'customer_type_Group', 'market_segment_Corporate', 'days_in_waiting_list', 'reserved_room_type_E', 'adults', 'market_segment_Undefined', 'previous_bookings_not_canceled', 'babies', 'reserved_room_type_D', 'meal_Undefined', 'adr', 'market_segment_Complementary', 'deposit_type_Refundable']\n"
     ]
    },
    {
     "name": "stderr",
     "output_type": "stream",
     "text": [
      "100%|██████████████████████████████████████████████████████████████████████████████████| 27/27 [00:00<00:00, 29.94it/s]\n"
     ]
    },
    {
     "name": "stdout",
     "output_type": "stream",
     "text": [
      "['deposit_type_Non Refund', 'required_car_parking_spaces', 'lead_time', 'booking_changes', 'total_of_special_requests', 'distribution_channel_TA/TO', 'market_segment_Groups', 'hotel_Resort Hotel', 'previous_cancellations', 'market_segment_Direct', 'customer_type_Transient', 'is_repeated_guest', 'customer_type_Transient-Party', 'customer_type_Group', 'market_segment_Corporate', 'days_in_waiting_list', 'reserved_room_type_E', 'adults', 'market_segment_Undefined', 'previous_bookings_not_canceled', 'babies', 'reserved_room_type_D', 'meal_Undefined', 'adr', 'market_segment_Complementary', 'deposit_type_Refundable', 'reserved_room_type_G']\n"
     ]
    },
    {
     "name": "stderr",
     "output_type": "stream",
     "text": [
      "100%|██████████████████████████████████████████████████████████████████████████████████| 28/28 [00:00<00:00, 31.06it/s]\n"
     ]
    },
    {
     "name": "stdout",
     "output_type": "stream",
     "text": [
      "['deposit_type_Non Refund', 'required_car_parking_spaces', 'lead_time', 'booking_changes', 'total_of_special_requests', 'distribution_channel_TA/TO', 'market_segment_Groups', 'hotel_Resort Hotel', 'previous_cancellations', 'market_segment_Direct', 'customer_type_Transient', 'is_repeated_guest', 'customer_type_Transient-Party', 'customer_type_Group', 'market_segment_Corporate', 'days_in_waiting_list', 'reserved_room_type_E', 'adults', 'market_segment_Undefined', 'previous_bookings_not_canceled', 'babies', 'reserved_room_type_D', 'meal_Undefined', 'adr', 'market_segment_Complementary', 'deposit_type_Refundable', 'reserved_room_type_G', 'meal_FB']\n"
     ]
    },
    {
     "name": "stderr",
     "output_type": "stream",
     "text": [
      "100%|██████████████████████████████████████████████████████████████████████████████████| 29/29 [00:00<00:00, 33.05it/s]\n"
     ]
    },
    {
     "name": "stdout",
     "output_type": "stream",
     "text": [
      "['deposit_type_Non Refund', 'required_car_parking_spaces', 'lead_time', 'booking_changes', 'total_of_special_requests', 'distribution_channel_TA/TO', 'market_segment_Groups', 'hotel_Resort Hotel', 'previous_cancellations', 'market_segment_Direct', 'customer_type_Transient', 'is_repeated_guest', 'customer_type_Transient-Party', 'customer_type_Group', 'market_segment_Corporate', 'days_in_waiting_list', 'reserved_room_type_E', 'adults', 'market_segment_Undefined', 'previous_bookings_not_canceled', 'babies', 'reserved_room_type_D', 'meal_Undefined', 'adr', 'market_segment_Complementary', 'deposit_type_Refundable', 'reserved_room_type_G', 'meal_FB', 'distribution_channel_Undefined']\n"
     ]
    },
    {
     "name": "stderr",
     "output_type": "stream",
     "text": [
      "100%|████████████████████████████████████████████████████████████████████████████████████| 5/5 [00:00<00:00, 37.42it/s]\n"
     ]
    },
    {
     "name": "stdout",
     "output_type": "stream",
     "text": [
      "['deposit_type_Non Refund', 'required_car_parking_spaces', 'lead_time', 'booking_changes', 'total_of_special_requests']\n"
     ]
    },
    {
     "name": "stderr",
     "output_type": "stream",
     "text": [
      "100%|████████████████████████████████████████████████████████████████████████████████████| 6/6 [00:00<00:00, 30.62it/s]\n"
     ]
    },
    {
     "name": "stdout",
     "output_type": "stream",
     "text": [
      "['deposit_type_Non Refund', 'required_car_parking_spaces', 'lead_time', 'booking_changes', 'total_of_special_requests', 'distribution_channel_TA/TO']\n"
     ]
    },
    {
     "name": "stderr",
     "output_type": "stream",
     "text": [
      "100%|████████████████████████████████████████████████████████████████████████████████████| 7/7 [00:00<00:00, 19.26it/s]\n"
     ]
    },
    {
     "name": "stdout",
     "output_type": "stream",
     "text": [
      "['deposit_type_Non Refund', 'required_car_parking_spaces', 'lead_time', 'booking_changes', 'total_of_special_requests', 'distribution_channel_TA/TO', 'market_segment_Groups']\n"
     ]
    },
    {
     "name": "stderr",
     "output_type": "stream",
     "text": [
      "100%|████████████████████████████████████████████████████████████████████████████████████| 8/8 [00:00<00:00, 28.22it/s]\n"
     ]
    },
    {
     "name": "stdout",
     "output_type": "stream",
     "text": [
      "['deposit_type_Non Refund', 'required_car_parking_spaces', 'lead_time', 'booking_changes', 'total_of_special_requests', 'distribution_channel_TA/TO', 'market_segment_Groups', 'hotel_Resort Hotel']\n"
     ]
    },
    {
     "name": "stderr",
     "output_type": "stream",
     "text": [
      "100%|████████████████████████████████████████████████████████████████████████████████████| 9/9 [00:00<00:00, 17.35it/s]\n"
     ]
    },
    {
     "name": "stdout",
     "output_type": "stream",
     "text": [
      "['deposit_type_Non Refund', 'required_car_parking_spaces', 'lead_time', 'booking_changes', 'total_of_special_requests', 'distribution_channel_TA/TO', 'market_segment_Groups', 'hotel_Resort Hotel', 'previous_cancellations']\n"
     ]
    },
    {
     "name": "stderr",
     "output_type": "stream",
     "text": [
      "100%|██████████████████████████████████████████████████████████████████████████████████| 10/10 [00:00<00:00, 25.34it/s]\n"
     ]
    },
    {
     "name": "stdout",
     "output_type": "stream",
     "text": [
      "['deposit_type_Non Refund', 'required_car_parking_spaces', 'lead_time', 'booking_changes', 'total_of_special_requests', 'distribution_channel_TA/TO', 'market_segment_Groups', 'hotel_Resort Hotel', 'previous_cancellations', 'market_segment_Direct']\n"
     ]
    },
    {
     "name": "stderr",
     "output_type": "stream",
     "text": [
      "100%|██████████████████████████████████████████████████████████████████████████████████| 11/11 [00:00<00:00, 29.33it/s]\n"
     ]
    },
    {
     "name": "stdout",
     "output_type": "stream",
     "text": [
      "['deposit_type_Non Refund', 'required_car_parking_spaces', 'lead_time', 'booking_changes', 'total_of_special_requests', 'distribution_channel_TA/TO', 'market_segment_Groups', 'hotel_Resort Hotel', 'previous_cancellations', 'market_segment_Direct', 'customer_type_Transient']\n"
     ]
    },
    {
     "name": "stderr",
     "output_type": "stream",
     "text": [
      "100%|██████████████████████████████████████████████████████████████████████████████████| 12/12 [00:00<00:00, 31.07it/s]\n"
     ]
    },
    {
     "name": "stdout",
     "output_type": "stream",
     "text": [
      "['deposit_type_Non Refund', 'required_car_parking_spaces', 'lead_time', 'booking_changes', 'total_of_special_requests', 'distribution_channel_TA/TO', 'market_segment_Groups', 'hotel_Resort Hotel', 'previous_cancellations', 'market_segment_Direct', 'customer_type_Transient', 'is_repeated_guest']\n"
     ]
    },
    {
     "name": "stderr",
     "output_type": "stream",
     "text": [
      "100%|██████████████████████████████████████████████████████████████████████████████████| 13/13 [00:00<00:00, 24.52it/s]\n"
     ]
    },
    {
     "name": "stdout",
     "output_type": "stream",
     "text": [
      "['deposit_type_Non Refund', 'required_car_parking_spaces', 'lead_time', 'booking_changes', 'total_of_special_requests', 'distribution_channel_TA/TO', 'market_segment_Groups', 'hotel_Resort Hotel', 'previous_cancellations', 'market_segment_Direct', 'customer_type_Transient', 'is_repeated_guest', 'customer_type_Transient-Party']\n"
     ]
    },
    {
     "name": "stderr",
     "output_type": "stream",
     "text": [
      "100%|██████████████████████████████████████████████████████████████████████████████████| 14/14 [00:00<00:00, 23.34it/s]\n"
     ]
    },
    {
     "name": "stdout",
     "output_type": "stream",
     "text": [
      "['deposit_type_Non Refund', 'required_car_parking_spaces', 'lead_time', 'booking_changes', 'total_of_special_requests', 'distribution_channel_TA/TO', 'market_segment_Groups', 'hotel_Resort Hotel', 'previous_cancellations', 'market_segment_Direct', 'customer_type_Transient', 'is_repeated_guest', 'customer_type_Transient-Party', 'customer_type_Group']\n"
     ]
    },
    {
     "name": "stderr",
     "output_type": "stream",
     "text": [
      "100%|██████████████████████████████████████████████████████████████████████████████████| 15/15 [00:00<00:00, 26.68it/s]\n"
     ]
    },
    {
     "name": "stdout",
     "output_type": "stream",
     "text": [
      "['deposit_type_Non Refund', 'required_car_parking_spaces', 'lead_time', 'booking_changes', 'total_of_special_requests', 'distribution_channel_TA/TO', 'market_segment_Groups', 'hotel_Resort Hotel', 'previous_cancellations', 'market_segment_Direct', 'customer_type_Transient', 'is_repeated_guest', 'customer_type_Transient-Party', 'customer_type_Group', 'market_segment_Corporate']\n"
     ]
    },
    {
     "name": "stderr",
     "output_type": "stream",
     "text": [
      "100%|██████████████████████████████████████████████████████████████████████████████████| 16/16 [00:00<00:00, 17.39it/s]\n"
     ]
    },
    {
     "name": "stdout",
     "output_type": "stream",
     "text": [
      "['deposit_type_Non Refund', 'required_car_parking_spaces', 'lead_time', 'booking_changes', 'total_of_special_requests', 'distribution_channel_TA/TO', 'market_segment_Groups', 'hotel_Resort Hotel', 'previous_cancellations', 'market_segment_Direct', 'customer_type_Transient', 'is_repeated_guest', 'customer_type_Transient-Party', 'customer_type_Group', 'market_segment_Corporate', 'days_in_waiting_list']\n"
     ]
    },
    {
     "name": "stderr",
     "output_type": "stream",
     "text": [
      "100%|██████████████████████████████████████████████████████████████████████████████████| 17/17 [00:00<00:00, 22.17it/s]\n"
     ]
    },
    {
     "name": "stdout",
     "output_type": "stream",
     "text": [
      "['deposit_type_Non Refund', 'required_car_parking_spaces', 'lead_time', 'booking_changes', 'total_of_special_requests', 'distribution_channel_TA/TO', 'market_segment_Groups', 'hotel_Resort Hotel', 'previous_cancellations', 'market_segment_Direct', 'customer_type_Transient', 'is_repeated_guest', 'customer_type_Transient-Party', 'customer_type_Group', 'market_segment_Corporate', 'days_in_waiting_list', 'reserved_room_type_E']\n"
     ]
    },
    {
     "name": "stderr",
     "output_type": "stream",
     "text": [
      "100%|██████████████████████████████████████████████████████████████████████████████████| 18/18 [00:00<00:00, 27.34it/s]\n"
     ]
    },
    {
     "name": "stdout",
     "output_type": "stream",
     "text": [
      "['deposit_type_Non Refund', 'required_car_parking_spaces', 'lead_time', 'booking_changes', 'total_of_special_requests', 'distribution_channel_TA/TO', 'market_segment_Groups', 'hotel_Resort Hotel', 'previous_cancellations', 'market_segment_Direct', 'customer_type_Transient', 'is_repeated_guest', 'customer_type_Transient-Party', 'customer_type_Group', 'market_segment_Corporate', 'days_in_waiting_list', 'reserved_room_type_E', 'adults']\n"
     ]
    },
    {
     "name": "stderr",
     "output_type": "stream",
     "text": [
      "100%|██████████████████████████████████████████████████████████████████████████████████| 19/19 [00:00<00:00, 22.10it/s]\n"
     ]
    },
    {
     "name": "stdout",
     "output_type": "stream",
     "text": [
      "['deposit_type_Non Refund', 'required_car_parking_spaces', 'lead_time', 'booking_changes', 'total_of_special_requests', 'distribution_channel_TA/TO', 'market_segment_Groups', 'hotel_Resort Hotel', 'previous_cancellations', 'market_segment_Direct', 'customer_type_Transient', 'is_repeated_guest', 'customer_type_Transient-Party', 'customer_type_Group', 'market_segment_Corporate', 'days_in_waiting_list', 'reserved_room_type_E', 'adults', 'market_segment_Undefined']\n"
     ]
    },
    {
     "name": "stderr",
     "output_type": "stream",
     "text": [
      "100%|██████████████████████████████████████████████████████████████████████████████████| 20/20 [00:00<00:00, 24.46it/s]\n"
     ]
    },
    {
     "name": "stdout",
     "output_type": "stream",
     "text": [
      "['deposit_type_Non Refund', 'required_car_parking_spaces', 'lead_time', 'booking_changes', 'total_of_special_requests', 'distribution_channel_TA/TO', 'market_segment_Groups', 'hotel_Resort Hotel', 'previous_cancellations', 'market_segment_Direct', 'customer_type_Transient', 'is_repeated_guest', 'customer_type_Transient-Party', 'customer_type_Group', 'market_segment_Corporate', 'days_in_waiting_list', 'reserved_room_type_E', 'adults', 'market_segment_Undefined', 'previous_bookings_not_canceled']\n"
     ]
    },
    {
     "name": "stderr",
     "output_type": "stream",
     "text": [
      "100%|██████████████████████████████████████████████████████████████████████████████████| 21/21 [00:00<00:00, 21.24it/s]\n"
     ]
    },
    {
     "name": "stdout",
     "output_type": "stream",
     "text": [
      "['deposit_type_Non Refund', 'required_car_parking_spaces', 'lead_time', 'booking_changes', 'total_of_special_requests', 'distribution_channel_TA/TO', 'market_segment_Groups', 'hotel_Resort Hotel', 'previous_cancellations', 'market_segment_Direct', 'customer_type_Transient', 'is_repeated_guest', 'customer_type_Transient-Party', 'customer_type_Group', 'market_segment_Corporate', 'days_in_waiting_list', 'reserved_room_type_E', 'adults', 'market_segment_Undefined', 'previous_bookings_not_canceled', 'babies']\n"
     ]
    },
    {
     "name": "stderr",
     "output_type": "stream",
     "text": [
      "100%|██████████████████████████████████████████████████████████████████████████████████| 22/22 [00:00<00:00, 26.41it/s]\n"
     ]
    },
    {
     "name": "stdout",
     "output_type": "stream",
     "text": [
      "['deposit_type_Non Refund', 'required_car_parking_spaces', 'lead_time', 'booking_changes', 'total_of_special_requests', 'distribution_channel_TA/TO', 'market_segment_Groups', 'hotel_Resort Hotel', 'previous_cancellations', 'market_segment_Direct', 'customer_type_Transient', 'is_repeated_guest', 'customer_type_Transient-Party', 'customer_type_Group', 'market_segment_Corporate', 'days_in_waiting_list', 'reserved_room_type_E', 'adults', 'market_segment_Undefined', 'previous_bookings_not_canceled', 'babies', 'reserved_room_type_D']\n"
     ]
    },
    {
     "name": "stderr",
     "output_type": "stream",
     "text": [
      "100%|██████████████████████████████████████████████████████████████████████████████████| 23/23 [00:00<00:00, 24.63it/s]\n"
     ]
    },
    {
     "name": "stdout",
     "output_type": "stream",
     "text": [
      "['deposit_type_Non Refund', 'required_car_parking_spaces', 'lead_time', 'booking_changes', 'total_of_special_requests', 'distribution_channel_TA/TO', 'market_segment_Groups', 'hotel_Resort Hotel', 'previous_cancellations', 'market_segment_Direct', 'customer_type_Transient', 'is_repeated_guest', 'customer_type_Transient-Party', 'customer_type_Group', 'market_segment_Corporate', 'days_in_waiting_list', 'reserved_room_type_E', 'adults', 'market_segment_Undefined', 'previous_bookings_not_canceled', 'babies', 'reserved_room_type_D', 'meal_Undefined']\n"
     ]
    },
    {
     "name": "stderr",
     "output_type": "stream",
     "text": [
      "100%|██████████████████████████████████████████████████████████████████████████████████| 24/24 [00:00<00:00, 25.51it/s]\n"
     ]
    },
    {
     "name": "stdout",
     "output_type": "stream",
     "text": [
      "['deposit_type_Non Refund', 'required_car_parking_spaces', 'lead_time', 'booking_changes', 'total_of_special_requests', 'distribution_channel_TA/TO', 'market_segment_Groups', 'hotel_Resort Hotel', 'previous_cancellations', 'market_segment_Direct', 'customer_type_Transient', 'is_repeated_guest', 'customer_type_Transient-Party', 'customer_type_Group', 'market_segment_Corporate', 'days_in_waiting_list', 'reserved_room_type_E', 'adults', 'market_segment_Undefined', 'previous_bookings_not_canceled', 'babies', 'reserved_room_type_D', 'meal_Undefined', 'adr']\n"
     ]
    },
    {
     "name": "stderr",
     "output_type": "stream",
     "text": [
      "100%|██████████████████████████████████████████████████████████████████████████████████| 25/25 [00:00<00:00, 25.02it/s]\n"
     ]
    },
    {
     "name": "stdout",
     "output_type": "stream",
     "text": [
      "['deposit_type_Non Refund', 'required_car_parking_spaces', 'lead_time', 'booking_changes', 'total_of_special_requests', 'distribution_channel_TA/TO', 'market_segment_Groups', 'hotel_Resort Hotel', 'previous_cancellations', 'market_segment_Direct', 'customer_type_Transient', 'is_repeated_guest', 'customer_type_Transient-Party', 'customer_type_Group', 'market_segment_Corporate', 'days_in_waiting_list', 'reserved_room_type_E', 'adults', 'market_segment_Undefined', 'previous_bookings_not_canceled', 'babies', 'reserved_room_type_D', 'meal_Undefined', 'adr', 'market_segment_Complementary']\n"
     ]
    },
    {
     "name": "stderr",
     "output_type": "stream",
     "text": [
      "100%|██████████████████████████████████████████████████████████████████████████████████| 26/26 [00:01<00:00, 25.58it/s]\n"
     ]
    },
    {
     "name": "stdout",
     "output_type": "stream",
     "text": [
      "['deposit_type_Non Refund', 'required_car_parking_spaces', 'lead_time', 'booking_changes', 'total_of_special_requests', 'distribution_channel_TA/TO', 'market_segment_Groups', 'hotel_Resort Hotel', 'previous_cancellations', 'market_segment_Direct', 'customer_type_Transient', 'is_repeated_guest', 'customer_type_Transient-Party', 'customer_type_Group', 'market_segment_Corporate', 'days_in_waiting_list', 'reserved_room_type_E', 'adults', 'market_segment_Undefined', 'previous_bookings_not_canceled', 'babies', 'reserved_room_type_D', 'meal_Undefined', 'adr', 'market_segment_Complementary', 'deposit_type_Refundable']\n"
     ]
    },
    {
     "name": "stderr",
     "output_type": "stream",
     "text": [
      "100%|██████████████████████████████████████████████████████████████████████████████████| 27/27 [00:01<00:00, 24.69it/s]\n"
     ]
    },
    {
     "name": "stdout",
     "output_type": "stream",
     "text": [
      "['deposit_type_Non Refund', 'required_car_parking_spaces', 'lead_time', 'booking_changes', 'total_of_special_requests', 'distribution_channel_TA/TO', 'market_segment_Groups', 'hotel_Resort Hotel', 'previous_cancellations', 'market_segment_Direct', 'customer_type_Transient', 'is_repeated_guest', 'customer_type_Transient-Party', 'customer_type_Group', 'market_segment_Corporate', 'days_in_waiting_list', 'reserved_room_type_E', 'adults', 'market_segment_Undefined', 'previous_bookings_not_canceled', 'babies', 'reserved_room_type_D', 'meal_Undefined', 'adr', 'market_segment_Complementary', 'deposit_type_Refundable', 'reserved_room_type_G']\n"
     ]
    },
    {
     "name": "stderr",
     "output_type": "stream",
     "text": [
      "100%|██████████████████████████████████████████████████████████████████████████████████| 28/28 [00:01<00:00, 23.17it/s]\n"
     ]
    },
    {
     "name": "stdout",
     "output_type": "stream",
     "text": [
      "['deposit_type_Non Refund', 'required_car_parking_spaces', 'lead_time', 'booking_changes', 'total_of_special_requests', 'distribution_channel_TA/TO', 'market_segment_Groups', 'hotel_Resort Hotel', 'previous_cancellations', 'market_segment_Direct', 'customer_type_Transient', 'is_repeated_guest', 'customer_type_Transient-Party', 'customer_type_Group', 'market_segment_Corporate', 'days_in_waiting_list', 'reserved_room_type_E', 'adults', 'market_segment_Undefined', 'previous_bookings_not_canceled', 'babies', 'reserved_room_type_D', 'meal_Undefined', 'adr', 'market_segment_Complementary', 'deposit_type_Refundable', 'reserved_room_type_G', 'meal_FB']\n"
     ]
    },
    {
     "name": "stderr",
     "output_type": "stream",
     "text": [
      "100%|██████████████████████████████████████████████████████████████████████████████████| 29/29 [00:01<00:00, 27.11it/s]\n"
     ]
    },
    {
     "name": "stdout",
     "output_type": "stream",
     "text": [
      "['deposit_type_Non Refund', 'required_car_parking_spaces', 'lead_time', 'booking_changes', 'total_of_special_requests', 'distribution_channel_TA/TO', 'market_segment_Groups', 'hotel_Resort Hotel', 'previous_cancellations', 'market_segment_Direct', 'customer_type_Transient', 'is_repeated_guest', 'customer_type_Transient-Party', 'customer_type_Group', 'market_segment_Corporate', 'days_in_waiting_list', 'reserved_room_type_E', 'adults', 'market_segment_Undefined', 'previous_bookings_not_canceled', 'babies', 'reserved_room_type_D', 'meal_Undefined', 'adr', 'market_segment_Complementary', 'deposit_type_Refundable', 'reserved_room_type_G', 'meal_FB', 'distribution_channel_Undefined']\n"
     ]
    },
    {
     "name": "stderr",
     "output_type": "stream",
     "text": [
      "100%|████████████████████████████████████████████████████████████████████████████████████| 5/5 [00:00<00:00, 28.31it/s]\n"
     ]
    },
    {
     "name": "stdout",
     "output_type": "stream",
     "text": [
      "['deposit_type_Non Refund', 'required_car_parking_spaces', 'lead_time', 'booking_changes', 'total_of_special_requests']\n"
     ]
    },
    {
     "name": "stderr",
     "output_type": "stream",
     "text": [
      "100%|████████████████████████████████████████████████████████████████████████████████████| 6/6 [00:00<00:00, 34.02it/s]\n"
     ]
    },
    {
     "name": "stdout",
     "output_type": "stream",
     "text": [
      "['deposit_type_Non Refund', 'required_car_parking_spaces', 'lead_time', 'booking_changes', 'total_of_special_requests', 'distribution_channel_TA/TO']\n"
     ]
    },
    {
     "name": "stderr",
     "output_type": "stream",
     "text": [
      "100%|████████████████████████████████████████████████████████████████████████████████████| 7/7 [00:00<00:00, 34.07it/s]\n"
     ]
    },
    {
     "name": "stdout",
     "output_type": "stream",
     "text": [
      "['deposit_type_Non Refund', 'required_car_parking_spaces', 'lead_time', 'booking_changes', 'total_of_special_requests', 'distribution_channel_TA/TO', 'market_segment_Groups']\n"
     ]
    },
    {
     "name": "stderr",
     "output_type": "stream",
     "text": [
      "100%|████████████████████████████████████████████████████████████████████████████████████| 8/8 [00:00<00:00, 34.55it/s]\n"
     ]
    },
    {
     "name": "stdout",
     "output_type": "stream",
     "text": [
      "['deposit_type_Non Refund', 'required_car_parking_spaces', 'lead_time', 'booking_changes', 'total_of_special_requests', 'distribution_channel_TA/TO', 'market_segment_Groups', 'hotel_Resort Hotel']\n"
     ]
    },
    {
     "name": "stderr",
     "output_type": "stream",
     "text": [
      "100%|████████████████████████████████████████████████████████████████████████████████████| 9/9 [00:00<00:00, 35.14it/s]\n"
     ]
    },
    {
     "name": "stdout",
     "output_type": "stream",
     "text": [
      "['deposit_type_Non Refund', 'required_car_parking_spaces', 'lead_time', 'booking_changes', 'total_of_special_requests', 'distribution_channel_TA/TO', 'market_segment_Groups', 'hotel_Resort Hotel', 'previous_cancellations']\n"
     ]
    },
    {
     "name": "stderr",
     "output_type": "stream",
     "text": [
      "100%|██████████████████████████████████████████████████████████████████████████████████| 10/10 [00:00<00:00, 21.56it/s]\n"
     ]
    },
    {
     "name": "stdout",
     "output_type": "stream",
     "text": [
      "['deposit_type_Non Refund', 'required_car_parking_spaces', 'lead_time', 'booking_changes', 'total_of_special_requests', 'distribution_channel_TA/TO', 'market_segment_Groups', 'hotel_Resort Hotel', 'previous_cancellations', 'market_segment_Direct']\n"
     ]
    },
    {
     "name": "stderr",
     "output_type": "stream",
     "text": [
      "100%|██████████████████████████████████████████████████████████████████████████████████| 11/11 [00:00<00:00, 33.26it/s]\n"
     ]
    },
    {
     "name": "stdout",
     "output_type": "stream",
     "text": [
      "['deposit_type_Non Refund', 'required_car_parking_spaces', 'lead_time', 'booking_changes', 'total_of_special_requests', 'distribution_channel_TA/TO', 'market_segment_Groups', 'hotel_Resort Hotel', 'previous_cancellations', 'market_segment_Direct', 'customer_type_Transient']\n"
     ]
    },
    {
     "name": "stderr",
     "output_type": "stream",
     "text": [
      "100%|██████████████████████████████████████████████████████████████████████████████████| 12/12 [00:00<00:00, 33.14it/s]\n"
     ]
    },
    {
     "name": "stdout",
     "output_type": "stream",
     "text": [
      "['deposit_type_Non Refund', 'required_car_parking_spaces', 'lead_time', 'booking_changes', 'total_of_special_requests', 'distribution_channel_TA/TO', 'market_segment_Groups', 'hotel_Resort Hotel', 'previous_cancellations', 'market_segment_Direct', 'customer_type_Transient', 'is_repeated_guest']\n"
     ]
    },
    {
     "name": "stderr",
     "output_type": "stream",
     "text": [
      "100%|██████████████████████████████████████████████████████████████████████████████████| 13/13 [00:00<00:00, 31.67it/s]\n"
     ]
    },
    {
     "name": "stdout",
     "output_type": "stream",
     "text": [
      "['deposit_type_Non Refund', 'required_car_parking_spaces', 'lead_time', 'booking_changes', 'total_of_special_requests', 'distribution_channel_TA/TO', 'market_segment_Groups', 'hotel_Resort Hotel', 'previous_cancellations', 'market_segment_Direct', 'customer_type_Transient', 'is_repeated_guest', 'customer_type_Transient-Party']\n"
     ]
    },
    {
     "name": "stderr",
     "output_type": "stream",
     "text": [
      "100%|██████████████████████████████████████████████████████████████████████████████████| 14/14 [00:00<00:00, 27.88it/s]\n"
     ]
    },
    {
     "name": "stdout",
     "output_type": "stream",
     "text": [
      "['deposit_type_Non Refund', 'required_car_parking_spaces', 'lead_time', 'booking_changes', 'total_of_special_requests', 'distribution_channel_TA/TO', 'market_segment_Groups', 'hotel_Resort Hotel', 'previous_cancellations', 'market_segment_Direct', 'customer_type_Transient', 'is_repeated_guest', 'customer_type_Transient-Party', 'customer_type_Group']\n"
     ]
    },
    {
     "name": "stderr",
     "output_type": "stream",
     "text": [
      "100%|██████████████████████████████████████████████████████████████████████████████████| 15/15 [00:00<00:00, 31.77it/s]\n"
     ]
    },
    {
     "name": "stdout",
     "output_type": "stream",
     "text": [
      "['deposit_type_Non Refund', 'required_car_parking_spaces', 'lead_time', 'booking_changes', 'total_of_special_requests', 'distribution_channel_TA/TO', 'market_segment_Groups', 'hotel_Resort Hotel', 'previous_cancellations', 'market_segment_Direct', 'customer_type_Transient', 'is_repeated_guest', 'customer_type_Transient-Party', 'customer_type_Group', 'market_segment_Corporate']\n"
     ]
    },
    {
     "name": "stderr",
     "output_type": "stream",
     "text": [
      "100%|██████████████████████████████████████████████████████████████████████████████████| 16/16 [00:00<00:00, 27.70it/s]\n"
     ]
    },
    {
     "name": "stdout",
     "output_type": "stream",
     "text": [
      "['deposit_type_Non Refund', 'required_car_parking_spaces', 'lead_time', 'booking_changes', 'total_of_special_requests', 'distribution_channel_TA/TO', 'market_segment_Groups', 'hotel_Resort Hotel', 'previous_cancellations', 'market_segment_Direct', 'customer_type_Transient', 'is_repeated_guest', 'customer_type_Transient-Party', 'customer_type_Group', 'market_segment_Corporate', 'days_in_waiting_list']\n"
     ]
    },
    {
     "name": "stderr",
     "output_type": "stream",
     "text": [
      "100%|██████████████████████████████████████████████████████████████████████████████████| 17/17 [00:00<00:00, 27.94it/s]\n"
     ]
    },
    {
     "name": "stdout",
     "output_type": "stream",
     "text": [
      "['deposit_type_Non Refund', 'required_car_parking_spaces', 'lead_time', 'booking_changes', 'total_of_special_requests', 'distribution_channel_TA/TO', 'market_segment_Groups', 'hotel_Resort Hotel', 'previous_cancellations', 'market_segment_Direct', 'customer_type_Transient', 'is_repeated_guest', 'customer_type_Transient-Party', 'customer_type_Group', 'market_segment_Corporate', 'days_in_waiting_list', 'reserved_room_type_E']\n"
     ]
    },
    {
     "name": "stderr",
     "output_type": "stream",
     "text": [
      "100%|██████████████████████████████████████████████████████████████████████████████████| 18/18 [00:00<00:00, 31.97it/s]\n"
     ]
    },
    {
     "name": "stdout",
     "output_type": "stream",
     "text": [
      "['deposit_type_Non Refund', 'required_car_parking_spaces', 'lead_time', 'booking_changes', 'total_of_special_requests', 'distribution_channel_TA/TO', 'market_segment_Groups', 'hotel_Resort Hotel', 'previous_cancellations', 'market_segment_Direct', 'customer_type_Transient', 'is_repeated_guest', 'customer_type_Transient-Party', 'customer_type_Group', 'market_segment_Corporate', 'days_in_waiting_list', 'reserved_room_type_E', 'adults']\n"
     ]
    },
    {
     "name": "stderr",
     "output_type": "stream",
     "text": [
      "100%|██████████████████████████████████████████████████████████████████████████████████| 19/19 [00:00<00:00, 28.38it/s]\n"
     ]
    },
    {
     "name": "stdout",
     "output_type": "stream",
     "text": [
      "['deposit_type_Non Refund', 'required_car_parking_spaces', 'lead_time', 'booking_changes', 'total_of_special_requests', 'distribution_channel_TA/TO', 'market_segment_Groups', 'hotel_Resort Hotel', 'previous_cancellations', 'market_segment_Direct', 'customer_type_Transient', 'is_repeated_guest', 'customer_type_Transient-Party', 'customer_type_Group', 'market_segment_Corporate', 'days_in_waiting_list', 'reserved_room_type_E', 'adults', 'market_segment_Undefined']\n"
     ]
    },
    {
     "name": "stderr",
     "output_type": "stream",
     "text": [
      "100%|██████████████████████████████████████████████████████████████████████████████████| 20/20 [00:00<00:00, 33.74it/s]\n"
     ]
    },
    {
     "name": "stdout",
     "output_type": "stream",
     "text": [
      "['deposit_type_Non Refund', 'required_car_parking_spaces', 'lead_time', 'booking_changes', 'total_of_special_requests', 'distribution_channel_TA/TO', 'market_segment_Groups', 'hotel_Resort Hotel', 'previous_cancellations', 'market_segment_Direct', 'customer_type_Transient', 'is_repeated_guest', 'customer_type_Transient-Party', 'customer_type_Group', 'market_segment_Corporate', 'days_in_waiting_list', 'reserved_room_type_E', 'adults', 'market_segment_Undefined', 'previous_bookings_not_canceled']\n"
     ]
    },
    {
     "name": "stderr",
     "output_type": "stream",
     "text": [
      "100%|██████████████████████████████████████████████████████████████████████████████████| 21/21 [00:00<00:00, 31.95it/s]\n"
     ]
    },
    {
     "name": "stdout",
     "output_type": "stream",
     "text": [
      "['deposit_type_Non Refund', 'required_car_parking_spaces', 'lead_time', 'booking_changes', 'total_of_special_requests', 'distribution_channel_TA/TO', 'market_segment_Groups', 'hotel_Resort Hotel', 'previous_cancellations', 'market_segment_Direct', 'customer_type_Transient', 'is_repeated_guest', 'customer_type_Transient-Party', 'customer_type_Group', 'market_segment_Corporate', 'days_in_waiting_list', 'reserved_room_type_E', 'adults', 'market_segment_Undefined', 'previous_bookings_not_canceled', 'babies']\n"
     ]
    },
    {
     "name": "stderr",
     "output_type": "stream",
     "text": [
      "100%|██████████████████████████████████████████████████████████████████████████████████| 22/22 [00:00<00:00, 32.90it/s]\n"
     ]
    },
    {
     "name": "stdout",
     "output_type": "stream",
     "text": [
      "['deposit_type_Non Refund', 'required_car_parking_spaces', 'lead_time', 'booking_changes', 'total_of_special_requests', 'distribution_channel_TA/TO', 'market_segment_Groups', 'hotel_Resort Hotel', 'previous_cancellations', 'market_segment_Direct', 'customer_type_Transient', 'is_repeated_guest', 'customer_type_Transient-Party', 'customer_type_Group', 'market_segment_Corporate', 'days_in_waiting_list', 'reserved_room_type_E', 'adults', 'market_segment_Undefined', 'previous_bookings_not_canceled', 'babies', 'reserved_room_type_D']\n"
     ]
    },
    {
     "name": "stderr",
     "output_type": "stream",
     "text": [
      "100%|██████████████████████████████████████████████████████████████████████████████████| 23/23 [00:00<00:00, 30.04it/s]\n"
     ]
    },
    {
     "name": "stdout",
     "output_type": "stream",
     "text": [
      "['deposit_type_Non Refund', 'required_car_parking_spaces', 'lead_time', 'booking_changes', 'total_of_special_requests', 'distribution_channel_TA/TO', 'market_segment_Groups', 'hotel_Resort Hotel', 'previous_cancellations', 'market_segment_Direct', 'customer_type_Transient', 'is_repeated_guest', 'customer_type_Transient-Party', 'customer_type_Group', 'market_segment_Corporate', 'days_in_waiting_list', 'reserved_room_type_E', 'adults', 'market_segment_Undefined', 'previous_bookings_not_canceled', 'babies', 'reserved_room_type_D', 'meal_Undefined']\n"
     ]
    },
    {
     "name": "stderr",
     "output_type": "stream",
     "text": [
      "100%|██████████████████████████████████████████████████████████████████████████████████| 24/24 [00:00<00:00, 33.41it/s]\n"
     ]
    },
    {
     "name": "stdout",
     "output_type": "stream",
     "text": [
      "['deposit_type_Non Refund', 'required_car_parking_spaces', 'lead_time', 'booking_changes', 'total_of_special_requests', 'distribution_channel_TA/TO', 'market_segment_Groups', 'hotel_Resort Hotel', 'previous_cancellations', 'market_segment_Direct', 'customer_type_Transient', 'is_repeated_guest', 'customer_type_Transient-Party', 'customer_type_Group', 'market_segment_Corporate', 'days_in_waiting_list', 'reserved_room_type_E', 'adults', 'market_segment_Undefined', 'previous_bookings_not_canceled', 'babies', 'reserved_room_type_D', 'meal_Undefined', 'adr']\n"
     ]
    },
    {
     "name": "stderr",
     "output_type": "stream",
     "text": [
      "100%|██████████████████████████████████████████████████████████████████████████████████| 25/25 [00:00<00:00, 33.57it/s]\n"
     ]
    },
    {
     "name": "stdout",
     "output_type": "stream",
     "text": [
      "['deposit_type_Non Refund', 'required_car_parking_spaces', 'lead_time', 'booking_changes', 'total_of_special_requests', 'distribution_channel_TA/TO', 'market_segment_Groups', 'hotel_Resort Hotel', 'previous_cancellations', 'market_segment_Direct', 'customer_type_Transient', 'is_repeated_guest', 'customer_type_Transient-Party', 'customer_type_Group', 'market_segment_Corporate', 'days_in_waiting_list', 'reserved_room_type_E', 'adults', 'market_segment_Undefined', 'previous_bookings_not_canceled', 'babies', 'reserved_room_type_D', 'meal_Undefined', 'adr', 'market_segment_Complementary']\n"
     ]
    },
    {
     "name": "stderr",
     "output_type": "stream",
     "text": [
      "100%|██████████████████████████████████████████████████████████████████████████████████| 26/26 [00:00<00:00, 32.75it/s]\n"
     ]
    },
    {
     "name": "stdout",
     "output_type": "stream",
     "text": [
      "['deposit_type_Non Refund', 'required_car_parking_spaces', 'lead_time', 'booking_changes', 'total_of_special_requests', 'distribution_channel_TA/TO', 'market_segment_Groups', 'hotel_Resort Hotel', 'previous_cancellations', 'market_segment_Direct', 'customer_type_Transient', 'is_repeated_guest', 'customer_type_Transient-Party', 'customer_type_Group', 'market_segment_Corporate', 'days_in_waiting_list', 'reserved_room_type_E', 'adults', 'market_segment_Undefined', 'previous_bookings_not_canceled', 'babies', 'reserved_room_type_D', 'meal_Undefined', 'adr', 'market_segment_Complementary', 'deposit_type_Refundable']\n"
     ]
    },
    {
     "name": "stderr",
     "output_type": "stream",
     "text": [
      "100%|██████████████████████████████████████████████████████████████████████████████████| 27/27 [00:00<00:00, 32.79it/s]\n"
     ]
    },
    {
     "name": "stdout",
     "output_type": "stream",
     "text": [
      "['deposit_type_Non Refund', 'required_car_parking_spaces', 'lead_time', 'booking_changes', 'total_of_special_requests', 'distribution_channel_TA/TO', 'market_segment_Groups', 'hotel_Resort Hotel', 'previous_cancellations', 'market_segment_Direct', 'customer_type_Transient', 'is_repeated_guest', 'customer_type_Transient-Party', 'customer_type_Group', 'market_segment_Corporate', 'days_in_waiting_list', 'reserved_room_type_E', 'adults', 'market_segment_Undefined', 'previous_bookings_not_canceled', 'babies', 'reserved_room_type_D', 'meal_Undefined', 'adr', 'market_segment_Complementary', 'deposit_type_Refundable', 'reserved_room_type_G']\n"
     ]
    },
    {
     "name": "stderr",
     "output_type": "stream",
     "text": [
      "100%|██████████████████████████████████████████████████████████████████████████████████| 28/28 [00:00<00:00, 32.27it/s]\n"
     ]
    },
    {
     "name": "stdout",
     "output_type": "stream",
     "text": [
      "['deposit_type_Non Refund', 'required_car_parking_spaces', 'lead_time', 'booking_changes', 'total_of_special_requests', 'distribution_channel_TA/TO', 'market_segment_Groups', 'hotel_Resort Hotel', 'previous_cancellations', 'market_segment_Direct', 'customer_type_Transient', 'is_repeated_guest', 'customer_type_Transient-Party', 'customer_type_Group', 'market_segment_Corporate', 'days_in_waiting_list', 'reserved_room_type_E', 'adults', 'market_segment_Undefined', 'previous_bookings_not_canceled', 'babies', 'reserved_room_type_D', 'meal_Undefined', 'adr', 'market_segment_Complementary', 'deposit_type_Refundable', 'reserved_room_type_G', 'meal_FB']\n"
     ]
    },
    {
     "name": "stderr",
     "output_type": "stream",
     "text": [
      "100%|██████████████████████████████████████████████████████████████████████████████████| 29/29 [00:00<00:00, 30.05it/s]\n"
     ]
    },
    {
     "name": "stdout",
     "output_type": "stream",
     "text": [
      "['deposit_type_Non Refund', 'required_car_parking_spaces', 'lead_time', 'booking_changes', 'total_of_special_requests', 'distribution_channel_TA/TO', 'market_segment_Groups', 'hotel_Resort Hotel', 'previous_cancellations', 'market_segment_Direct', 'customer_type_Transient', 'is_repeated_guest', 'customer_type_Transient-Party', 'customer_type_Group', 'market_segment_Corporate', 'days_in_waiting_list', 'reserved_room_type_E', 'adults', 'market_segment_Undefined', 'previous_bookings_not_canceled', 'babies', 'reserved_room_type_D', 'meal_Undefined', 'adr', 'market_segment_Complementary', 'deposit_type_Refundable', 'reserved_room_type_G', 'meal_FB', 'distribution_channel_Undefined']\n"
     ]
    }
   ],
   "source": [
    "results = []\n",
    "for classifier in classifiers:\n",
    "    clas = classifier\n",
    "    for i in range(5,30):\n",
    "        lst = (mrmr_classif(X_train,y_train.values,K=i))\n",
    "        print(lst)\n",
    "        X_train_temp = X_train.loc[:,lst]\n",
    "        X_test_temp = X_test.loc[:,lst]\n",
    "        clas.fit(X_train_temp, y_train)\n",
    "        y_pred = classifier.predict(X_test_temp)\n",
    "        a = len(lst)\n",
    "        b = lst\n",
    "        c = str(classifier)\n",
    "        d = balanced_accuracy_score(y_test, y_pred)\n",
    "        e = f1_score(y_test, y_pred, average='macro')\n",
    "        results.append([a,b,c,d,e])"
   ]
  },
  {
   "cell_type": "code",
   "execution_count": 147,
   "id": "164534a4-ebfa-44f0-bb89-62fc8655cf95",
   "metadata": {},
   "outputs": [],
   "source": [
    "res = pd.DataFrame(results)"
   ]
  },
  {
   "cell_type": "code",
   "execution_count": 148,
   "id": "65976eb8-9bbf-4199-a83b-dd71d80f2260",
   "metadata": {
    "scrolled": true
   },
   "outputs": [
    {
     "data": {
      "text/html": [
       "<div>\n",
       "<style scoped>\n",
       "    .dataframe tbody tr th:only-of-type {\n",
       "        vertical-align: middle;\n",
       "    }\n",
       "\n",
       "    .dataframe tbody tr th {\n",
       "        vertical-align: top;\n",
       "    }\n",
       "\n",
       "    .dataframe thead th {\n",
       "        text-align: right;\n",
       "    }\n",
       "</style>\n",
       "<table border=\"1\" class=\"dataframe\">\n",
       "  <thead>\n",
       "    <tr style=\"text-align: right;\">\n",
       "      <th></th>\n",
       "      <th>0</th>\n",
       "      <th>1</th>\n",
       "      <th>2</th>\n",
       "      <th>3</th>\n",
       "      <th>4</th>\n",
       "    </tr>\n",
       "  </thead>\n",
       "  <tbody>\n",
       "    <tr>\n",
       "      <th>0</th>\n",
       "      <td>5</td>\n",
       "      <td>[deposit_type_Non Refund, required_car_parking...</td>\n",
       "      <td>RandomForestClassifier(class_weight='balanced')</td>\n",
       "      <td>0.682270</td>\n",
       "      <td>0.679173</td>\n",
       "    </tr>\n",
       "    <tr>\n",
       "      <th>1</th>\n",
       "      <td>6</td>\n",
       "      <td>[deposit_type_Non Refund, required_car_parking...</td>\n",
       "      <td>RandomForestClassifier(class_weight='balanced')</td>\n",
       "      <td>0.697187</td>\n",
       "      <td>0.692950</td>\n",
       "    </tr>\n",
       "    <tr>\n",
       "      <th>2</th>\n",
       "      <td>7</td>\n",
       "      <td>[deposit_type_Non Refund, required_car_parking...</td>\n",
       "      <td>RandomForestClassifier(class_weight='balanced')</td>\n",
       "      <td>0.688595</td>\n",
       "      <td>0.684515</td>\n",
       "    </tr>\n",
       "    <tr>\n",
       "      <th>3</th>\n",
       "      <td>8</td>\n",
       "      <td>[deposit_type_Non Refund, required_car_parking...</td>\n",
       "      <td>RandomForestClassifier(class_weight='balanced')</td>\n",
       "      <td>0.673594</td>\n",
       "      <td>0.671343</td>\n",
       "    </tr>\n",
       "    <tr>\n",
       "      <th>4</th>\n",
       "      <td>9</td>\n",
       "      <td>[deposit_type_Non Refund, required_car_parking...</td>\n",
       "      <td>RandomForestClassifier(class_weight='balanced')</td>\n",
       "      <td>0.686353</td>\n",
       "      <td>0.685053</td>\n",
       "    </tr>\n",
       "    <tr>\n",
       "      <th>...</th>\n",
       "      <td>...</td>\n",
       "      <td>...</td>\n",
       "      <td>...</td>\n",
       "      <td>...</td>\n",
       "      <td>...</td>\n",
       "    </tr>\n",
       "    <tr>\n",
       "      <th>70</th>\n",
       "      <td>25</td>\n",
       "      <td>[deposit_type_Non Refund, required_car_parking...</td>\n",
       "      <td>SVC()</td>\n",
       "      <td>0.586901</td>\n",
       "      <td>0.568223</td>\n",
       "    </tr>\n",
       "    <tr>\n",
       "      <th>71</th>\n",
       "      <td>26</td>\n",
       "      <td>[deposit_type_Non Refund, required_car_parking...</td>\n",
       "      <td>SVC()</td>\n",
       "      <td>0.586901</td>\n",
       "      <td>0.568223</td>\n",
       "    </tr>\n",
       "    <tr>\n",
       "      <th>72</th>\n",
       "      <td>27</td>\n",
       "      <td>[deposit_type_Non Refund, required_car_parking...</td>\n",
       "      <td>SVC()</td>\n",
       "      <td>0.586901</td>\n",
       "      <td>0.568223</td>\n",
       "    </tr>\n",
       "    <tr>\n",
       "      <th>73</th>\n",
       "      <td>28</td>\n",
       "      <td>[deposit_type_Non Refund, required_car_parking...</td>\n",
       "      <td>SVC()</td>\n",
       "      <td>0.586901</td>\n",
       "      <td>0.568223</td>\n",
       "    </tr>\n",
       "    <tr>\n",
       "      <th>74</th>\n",
       "      <td>29</td>\n",
       "      <td>[deposit_type_Non Refund, required_car_parking...</td>\n",
       "      <td>SVC()</td>\n",
       "      <td>0.586901</td>\n",
       "      <td>0.568223</td>\n",
       "    </tr>\n",
       "  </tbody>\n",
       "</table>\n",
       "<p>75 rows × 5 columns</p>\n",
       "</div>"
      ],
      "text/plain": [
       "     0                                                  1  \\\n",
       "0    5  [deposit_type_Non Refund, required_car_parking...   \n",
       "1    6  [deposit_type_Non Refund, required_car_parking...   \n",
       "2    7  [deposit_type_Non Refund, required_car_parking...   \n",
       "3    8  [deposit_type_Non Refund, required_car_parking...   \n",
       "4    9  [deposit_type_Non Refund, required_car_parking...   \n",
       "..  ..                                                ...   \n",
       "70  25  [deposit_type_Non Refund, required_car_parking...   \n",
       "71  26  [deposit_type_Non Refund, required_car_parking...   \n",
       "72  27  [deposit_type_Non Refund, required_car_parking...   \n",
       "73  28  [deposit_type_Non Refund, required_car_parking...   \n",
       "74  29  [deposit_type_Non Refund, required_car_parking...   \n",
       "\n",
       "                                                  2         3         4  \n",
       "0   RandomForestClassifier(class_weight='balanced')  0.682270  0.679173  \n",
       "1   RandomForestClassifier(class_weight='balanced')  0.697187  0.692950  \n",
       "2   RandomForestClassifier(class_weight='balanced')  0.688595  0.684515  \n",
       "3   RandomForestClassifier(class_weight='balanced')  0.673594  0.671343  \n",
       "4   RandomForestClassifier(class_weight='balanced')  0.686353  0.685053  \n",
       "..                                              ...       ...       ...  \n",
       "70                                            SVC()  0.586901  0.568223  \n",
       "71                                            SVC()  0.586901  0.568223  \n",
       "72                                            SVC()  0.586901  0.568223  \n",
       "73                                            SVC()  0.586901  0.568223  \n",
       "74                                            SVC()  0.586901  0.568223  \n",
       "\n",
       "[75 rows x 5 columns]"
      ]
     },
     "execution_count": 148,
     "metadata": {},
     "output_type": "execute_result"
    }
   ],
   "source": [
    "res"
   ]
  },
  {
   "cell_type": "code",
   "execution_count": 170,
   "id": "175db9bd-10e8-4660-93f7-612c21462371",
   "metadata": {
    "scrolled": true
   },
   "outputs": [
    {
     "data": {
      "text/html": [
       "<div>\n",
       "<style scoped>\n",
       "    .dataframe tbody tr th:only-of-type {\n",
       "        vertical-align: middle;\n",
       "    }\n",
       "\n",
       "    .dataframe tbody tr th {\n",
       "        vertical-align: top;\n",
       "    }\n",
       "\n",
       "    .dataframe thead th {\n",
       "        text-align: right;\n",
       "    }\n",
       "</style>\n",
       "<table border=\"1\" class=\"dataframe\">\n",
       "  <thead>\n",
       "    <tr style=\"text-align: right;\">\n",
       "      <th></th>\n",
       "      <th>0</th>\n",
       "      <th>1</th>\n",
       "      <th>2</th>\n",
       "      <th>3</th>\n",
       "      <th>4</th>\n",
       "    </tr>\n",
       "  </thead>\n",
       "  <tbody>\n",
       "    <tr>\n",
       "      <th>22</th>\n",
       "      <td>27</td>\n",
       "      <td>[deposit_type_Non Refund, required_car_parking...</td>\n",
       "      <td>RandomForestClassifier(class_weight='balanced')</td>\n",
       "      <td>0.783274</td>\n",
       "      <td>0.793043</td>\n",
       "    </tr>\n",
       "    <tr>\n",
       "      <th>19</th>\n",
       "      <td>24</td>\n",
       "      <td>[deposit_type_Non Refund, required_car_parking...</td>\n",
       "      <td>RandomForestClassifier(class_weight='balanced')</td>\n",
       "      <td>0.783993</td>\n",
       "      <td>0.792990</td>\n",
       "    </tr>\n",
       "    <tr>\n",
       "      <th>21</th>\n",
       "      <td>26</td>\n",
       "      <td>[deposit_type_Non Refund, required_car_parking...</td>\n",
       "      <td>RandomForestClassifier(class_weight='balanced')</td>\n",
       "      <td>0.782640</td>\n",
       "      <td>0.792269</td>\n",
       "    </tr>\n",
       "    <tr>\n",
       "      <th>23</th>\n",
       "      <td>28</td>\n",
       "      <td>[deposit_type_Non Refund, required_car_parking...</td>\n",
       "      <td>RandomForestClassifier(class_weight='balanced')</td>\n",
       "      <td>0.779119</td>\n",
       "      <td>0.789484</td>\n",
       "    </tr>\n",
       "    <tr>\n",
       "      <th>20</th>\n",
       "      <td>25</td>\n",
       "      <td>[deposit_type_Non Refund, required_car_parking...</td>\n",
       "      <td>RandomForestClassifier(class_weight='balanced')</td>\n",
       "      <td>0.777400</td>\n",
       "      <td>0.787685</td>\n",
       "    </tr>\n",
       "    <tr>\n",
       "      <th>...</th>\n",
       "      <td>...</td>\n",
       "      <td>...</td>\n",
       "      <td>...</td>\n",
       "      <td>...</td>\n",
       "      <td>...</td>\n",
       "    </tr>\n",
       "    <tr>\n",
       "      <th>50</th>\n",
       "      <td>5</td>\n",
       "      <td>[deposit_type_Non Refund, required_car_parking...</td>\n",
       "      <td>SVC()</td>\n",
       "      <td>0.577774</td>\n",
       "      <td>0.554657</td>\n",
       "    </tr>\n",
       "    <tr>\n",
       "      <th>55</th>\n",
       "      <td>10</td>\n",
       "      <td>[deposit_type_Non Refund, required_car_parking...</td>\n",
       "      <td>SVC()</td>\n",
       "      <td>0.577323</td>\n",
       "      <td>0.553648</td>\n",
       "    </tr>\n",
       "    <tr>\n",
       "      <th>59</th>\n",
       "      <td>14</td>\n",
       "      <td>[deposit_type_Non Refund, required_car_parking...</td>\n",
       "      <td>SVC()</td>\n",
       "      <td>0.576689</td>\n",
       "      <td>0.553061</td>\n",
       "    </tr>\n",
       "    <tr>\n",
       "      <th>60</th>\n",
       "      <td>15</td>\n",
       "      <td>[deposit_type_Non Refund, required_car_parking...</td>\n",
       "      <td>SVC()</td>\n",
       "      <td>0.576689</td>\n",
       "      <td>0.553061</td>\n",
       "    </tr>\n",
       "    <tr>\n",
       "      <th>58</th>\n",
       "      <td>13</td>\n",
       "      <td>[deposit_type_Non Refund, required_car_parking...</td>\n",
       "      <td>SVC()</td>\n",
       "      <td>0.576689</td>\n",
       "      <td>0.553061</td>\n",
       "    </tr>\n",
       "  </tbody>\n",
       "</table>\n",
       "<p>75 rows × 5 columns</p>\n",
       "</div>"
      ],
      "text/plain": [
       "     0                                                  1  \\\n",
       "22  27  [deposit_type_Non Refund, required_car_parking...   \n",
       "19  24  [deposit_type_Non Refund, required_car_parking...   \n",
       "21  26  [deposit_type_Non Refund, required_car_parking...   \n",
       "23  28  [deposit_type_Non Refund, required_car_parking...   \n",
       "20  25  [deposit_type_Non Refund, required_car_parking...   \n",
       "..  ..                                                ...   \n",
       "50   5  [deposit_type_Non Refund, required_car_parking...   \n",
       "55  10  [deposit_type_Non Refund, required_car_parking...   \n",
       "59  14  [deposit_type_Non Refund, required_car_parking...   \n",
       "60  15  [deposit_type_Non Refund, required_car_parking...   \n",
       "58  13  [deposit_type_Non Refund, required_car_parking...   \n",
       "\n",
       "                                                  2         3         4  \n",
       "22  RandomForestClassifier(class_weight='balanced')  0.783274  0.793043  \n",
       "19  RandomForestClassifier(class_weight='balanced')  0.783993  0.792990  \n",
       "21  RandomForestClassifier(class_weight='balanced')  0.782640  0.792269  \n",
       "23  RandomForestClassifier(class_weight='balanced')  0.779119  0.789484  \n",
       "20  RandomForestClassifier(class_weight='balanced')  0.777400  0.787685  \n",
       "..                                              ...       ...       ...  \n",
       "50                                            SVC()  0.577774  0.554657  \n",
       "55                                            SVC()  0.577323  0.553648  \n",
       "59                                            SVC()  0.576689  0.553061  \n",
       "60                                            SVC()  0.576689  0.553061  \n",
       "58                                            SVC()  0.576689  0.553061  \n",
       "\n",
       "[75 rows x 5 columns]"
      ]
     },
     "execution_count": 170,
     "metadata": {},
     "output_type": "execute_result"
    }
   ],
   "source": [
    "res.sort_values(4,ascending = False)"
   ]
  },
  {
   "cell_type": "code",
   "execution_count": 171,
   "id": "2e7bf1e9-954e-4b57-8682-22a1fe16f850",
   "metadata": {},
   "outputs": [],
   "source": [
    "importantmrmr = res.iloc[22,1]"
   ]
  },
  {
   "cell_type": "code",
   "execution_count": 172,
   "id": "40944da8-2412-4636-85f9-8ac29daafbe3",
   "metadata": {},
   "outputs": [
    {
     "data": {
      "text/plain": [
       "['deposit_type_Non Refund',\n",
       " 'required_car_parking_spaces',\n",
       " 'lead_time',\n",
       " 'booking_changes',\n",
       " 'total_of_special_requests',\n",
       " 'distribution_channel_TA/TO',\n",
       " 'market_segment_Groups',\n",
       " 'hotel_Resort Hotel',\n",
       " 'previous_cancellations',\n",
       " 'market_segment_Direct',\n",
       " 'customer_type_Transient',\n",
       " 'is_repeated_guest',\n",
       " 'customer_type_Transient-Party',\n",
       " 'customer_type_Group',\n",
       " 'market_segment_Corporate',\n",
       " 'days_in_waiting_list',\n",
       " 'reserved_room_type_E',\n",
       " 'adults',\n",
       " 'market_segment_Undefined',\n",
       " 'previous_bookings_not_canceled',\n",
       " 'babies',\n",
       " 'reserved_room_type_D',\n",
       " 'meal_Undefined',\n",
       " 'adr',\n",
       " 'market_segment_Complementary',\n",
       " 'deposit_type_Refundable',\n",
       " 'reserved_room_type_G']"
      ]
     },
     "execution_count": 172,
     "metadata": {},
     "output_type": "execute_result"
    }
   ],
   "source": [
    "importantmrmr"
   ]
  },
  {
   "cell_type": "code",
   "execution_count": 173,
   "id": "a20c38e1-d987-4ad3-82f1-ccfa1e5ea529",
   "metadata": {},
   "outputs": [
    {
     "data": {
      "text/plain": [
       "['lead_time',\n",
       " 'arrival_date_week_number',\n",
       " 'stays_in_weekend_nights',\n",
       " 'adults',\n",
       " 'children',\n",
       " 'is_repeated_guest',\n",
       " 'previous_cancellations',\n",
       " 'previous_bookings_not_canceled',\n",
       " 'booking_changes',\n",
       " 'days_in_waiting_list',\n",
       " 'adr',\n",
       " 'required_car_parking_spaces',\n",
       " 'total_of_special_requests',\n",
       " 'hotel_Resort Hotel',\n",
       " 'meal_HB',\n",
       " 'meal_SC',\n",
       " 'meal_Undefined',\n",
       " 'market_segment_Complementary',\n",
       " 'market_segment_Corporate',\n",
       " 'market_segment_Direct',\n",
       " 'market_segment_Groups',\n",
       " 'distribution_channel_TA/TO',\n",
       " 'reserved_room_type_C',\n",
       " 'reserved_room_type_E',\n",
       " 'reserved_room_type_H',\n",
       " 'deposit_type_Non Refund',\n",
       " 'deposit_type_Refundable',\n",
       " 'customer_type_Group',\n",
       " 'customer_type_Transient-Party']"
      ]
     },
     "execution_count": 173,
     "metadata": {},
     "output_type": "execute_result"
    }
   ],
   "source": [
    "importantkbest"
   ]
  },
  {
   "cell_type": "code",
   "execution_count": null,
   "id": "616e8cf5-2836-4486-844b-857c580bb6e0",
   "metadata": {},
   "outputs": [],
   "source": []
  },
  {
   "cell_type": "code",
   "execution_count": 198,
   "id": "a9babd2f-7a95-4eb7-9ee6-0ca6969a795c",
   "metadata": {},
   "outputs": [],
   "source": [
    "shap = ['deposit_type_Non Refund', 'total_of_special_requests',\n",
    "       'lead_time', 'previous_cancellations', 'market_segment_Online TA',\n",
    "       'customer_type_Transient', 'adr', 'booking_changes',\n",
    "       'customer_type_Transient-Party', 'market_segment_Offline TA/TO',\n",
    "       'arrival_date_week_number', 'market_segment_Groups',\n",
    "       'arrival_date_day_of_month', 'distribution_channel_TA/TO',\n",
    "       'stays_in_week_nights', 'required_car_parking_spaces',\n",
    "       'stays_in_weekend_nights', 'hotel_Resort Hotel',\n",
    "       'reserved_room_type_D', 'adults']"
   ]
  },
  {
   "cell_type": "code",
   "execution_count": 199,
   "id": "02163053-1566-42e8-a5db-4e91cf7a6f64",
   "metadata": {},
   "outputs": [],
   "source": [
    "shapset = set(shap)"
   ]
  },
  {
   "cell_type": "code",
   "execution_count": 200,
   "id": "f5685166-221c-4fc8-b1b2-31e44dbad0b7",
   "metadata": {},
   "outputs": [],
   "source": [
    "set3 = set(shap) & set2"
   ]
  },
  {
   "cell_type": "code",
   "execution_count": null,
   "id": "8da17f54-b5e5-4783-8332-4cfb38123c2a",
   "metadata": {},
   "outputs": [],
   "source": []
  },
  {
   "cell_type": "code",
   "execution_count": 202,
   "id": "cfd41401-7195-45f3-9135-dbc7e93cf991",
   "metadata": {},
   "outputs": [],
   "source": [
    "set2 = set(importantmrmr) & set(importantkbest)"
   ]
  },
  {
   "cell_type": "code",
   "execution_count": 203,
   "id": "22be0991-8fde-45ba-9a8f-c5f7d98a52c0",
   "metadata": {},
   "outputs": [
    {
     "data": {
      "text/plain": [
       "{'adr',\n",
       " 'adults',\n",
       " 'booking_changes',\n",
       " 'customer_type_Group',\n",
       " 'customer_type_Transient-Party',\n",
       " 'days_in_waiting_list',\n",
       " 'deposit_type_Non Refund',\n",
       " 'deposit_type_Refundable',\n",
       " 'distribution_channel_TA/TO',\n",
       " 'hotel_Resort Hotel',\n",
       " 'is_repeated_guest',\n",
       " 'lead_time',\n",
       " 'market_segment_Complementary',\n",
       " 'market_segment_Corporate',\n",
       " 'market_segment_Direct',\n",
       " 'market_segment_Groups',\n",
       " 'meal_Undefined',\n",
       " 'previous_bookings_not_canceled',\n",
       " 'previous_cancellations',\n",
       " 'required_car_parking_spaces',\n",
       " 'reserved_room_type_E',\n",
       " 'total_of_special_requests'}"
      ]
     },
     "execution_count": 203,
     "metadata": {},
     "output_type": "execute_result"
    }
   ],
   "source": [
    "set2"
   ]
  },
  {
   "cell_type": "code",
   "execution_count": 204,
   "id": "2e1d8ecc-2d4e-4fbb-a52f-80fb868db674",
   "metadata": {},
   "outputs": [
    {
     "data": {
      "image/png": "[encoded data removed]",
      "text/plain": [
       "<Figure size 640x480 with 1 Axes>"
      ]
     },
     "metadata": {},
     "output_type": "display_data"
    }
   ],
   "source": [
    "venn3(subsets=(len(importantmrmr), \n",
    "               len(importantkbest), \n",
    "               len(set2),\n",
    "               len(shap),\n",
    "              len(shapset&set(importantmrmr)),\n",
    "              len(shapset&set(importantkbest)),\n",
    "              len(set3)),  \n",
    "      set_labels=('MRMR Important', 'Select K Best Important','Shap'), \n",
    "      set_colors=(\"orange\", \"blue\",'red'), alpha=0.7) \n",
    "  \n",
    "# add outline \n",
    "venn3_circles(subsets=(len(importantmrmr), \n",
    "               len(importantkbest), \n",
    "               len(set2),\n",
    "               len(shap),\n",
    "              len(shapset&set(importantmrmr)),\n",
    "              len(shapset&set(importantkbest)),\n",
    "              len(set3)),  \n",
    "              linestyle=\"dashed\",  \n",
    "              linewidth=2) \n",
    "  \n",
    "# assign title of the venn diagram \n",
    "plt.title(\"Venn Diagram in Feature Importance\")   \n",
    "plt.show() "
   ]
  },
  {
   "cell_type": "code",
   "execution_count": 206,
   "id": "e772c030-d66e-44f9-a69c-d6c4bb405531",
   "metadata": {},
   "outputs": [
    {
     "data": {
      "text/plain": [
       "{'adr',\n",
       " 'adults',\n",
       " 'booking_changes',\n",
       " 'customer_type_Transient-Party',\n",
       " 'deposit_type_Non Refund',\n",
       " 'distribution_channel_TA/TO',\n",
       " 'hotel_Resort Hotel',\n",
       " 'lead_time',\n",
       " 'market_segment_Groups',\n",
       " 'previous_cancellations',\n",
       " 'required_car_parking_spaces',\n",
       " 'total_of_special_requests'}"
      ]
     },
     "execution_count": 206,
     "metadata": {},
     "output_type": "execute_result"
    }
   ],
   "source": [
    "set3"
   ]
  },
  {
   "cell_type": "code",
   "execution_count": null,
   "id": "fcbe2efa-96f3-4154-b9a0-ff187334a969",
   "metadata": {},
   "outputs": [],
   "source": []
  },
  {
   "cell_type": "code",
   "execution_count": null,
   "id": "35f816de-3c09-4892-9c24-7aad69f4e027",
   "metadata": {},
   "outputs": [],
   "source": []
  },
  {
   "cell_type": "code",
   "execution_count": null,
   "id": "89478b91-14ee-4663-aa39-868fd8a24d7c",
   "metadata": {},
   "outputs": [],
   "source": []
  },
  {
   "cell_type": "code",
   "execution_count": null,
   "id": "f60b10ea-02d4-4599-b4d7-e39814f0957f",
   "metadata": {},
   "outputs": [],
   "source": []
  },
  {
   "cell_type": "code",
   "execution_count": null,
   "id": "507548bc-2936-47f0-91e3-02b4272bb26d",
   "metadata": {},
   "outputs": [],
   "source": []
  },
  {
   "cell_type": "code",
   "execution_count": null,
   "id": "79c9d3d2-5d9d-4bf9-baa4-59dec95f95ed",
   "metadata": {},
   "outputs": [],
   "source": []
  },
  {
   "cell_type": "code",
   "execution_count": null,
   "id": "0f7568a8-401b-4054-a681-7b5d83c00b0d",
   "metadata": {},
   "outputs": [],
   "source": []
  },
  {
   "cell_type": "code",
   "execution_count": null,
   "id": "eb047f12-e7f2-4290-82cf-2c590e6eb9b6",
   "metadata": {},
   "outputs": [],
   "source": []
  },
  {
   "cell_type": "code",
   "execution_count": 179,
   "id": "eee023dc-7a70-4122-b2b2-f21cbe43ac89",
   "metadata": {},
   "outputs": [
    {
     "name": "stdout",
     "output_type": "stream",
     "text": [
      " - balanced accuracy: 0.77\n",
      " - macro f1: 0.79\n"
     ]
    }
   ],
   "source": [
    "finalmodel = Pipeline([\n",
    "  ('scaler',RobustScaler()),\n",
    "  ('feat_select', SelectKBest(mutual_info_classif,k=29)),\n",
    "  ('classifier', RandomForestClassifier(random_state=42))\n",
    "])\n",
    "\n",
    "finalmodel.fit(X_train, y_train)\n",
    "predictions = finalmodel.predict(X_test)\n",
    "print(' - balanced accuracy:', round(balanced_accuracy_score(y_test, predictions),2))\n",
    "print(' - macro f1:', round(f1_score(y_test, predictions, average='macro'),2))"
   ]
  },
  {
   "cell_type": "code",
   "execution_count": 180,
   "id": "d3c062ba-23f8-4db2-8ae4-0851332ba592",
   "metadata": {},
   "outputs": [
    {
     "data": {
      "text/plain": [
       "array([[724, 170],\n",
       "       [ 65, 291]], dtype=int64)"
      ]
     },
     "execution_count": 180,
     "metadata": {},
     "output_type": "execute_result"
    }
   ],
   "source": [
    "cnf_matrix = confusion_matrix(predictions, y_test)\n",
    "cnf_matrix"
   ]
  },
  {
   "cell_type": "code",
   "execution_count": 181,
   "id": "81249ed3-9205-4251-93ee-6189aaf1e221",
   "metadata": {},
   "outputs": [
    {
     "data": {
      "image/png": "[encoded data removed]",
      "text/plain": [
       "<Figure size 640x480 with 2 Axes>"
      ]
     },
     "metadata": {},
     "output_type": "display_data"
    }
   ],
   "source": [
    "class_names = [0,1]\n",
    "fig, ax = plt.subplots()\n",
    "tick_marks = np.arange(len(class_names))\n",
    "plt.xticks(tick_marks,class_names)\n",
    "plt.yticks(tick_marks,class_names)\n",
    "\n",
    "#Create Heatmap\n",
    "sns.heatmap(pd.DataFrame(cnf_matrix), annot= True, cmap = \"OrRd\", fmt =\"g\")\n",
    "plt.tight_layout()\n",
    "plt.title(\"Confusion matrix\")\n",
    "plt.xlabel(\"Actual Label\")\n",
    "plt.ylabel(\"Predicted Label\")\n",
    "None"
   ]
  },
  {
   "cell_type": "code",
   "execution_count": null,
   "id": "a2ccd39b-0d2f-49f8-b2b9-5d4a2f16a460",
   "metadata": {},
   "outputs": [],
   "source": []
  },
  {
   "cell_type": "code",
   "execution_count": null,
   "id": "9e9f3e47-4ef0-4830-8128-45dc183d727e",
   "metadata": {},
   "outputs": [],
   "source": []
  },
  {
   "cell_type": "code",
   "execution_count": null,
   "id": "3b11ee27-b36a-4b4d-82f7-74f0d04288ff",
   "metadata": {},
   "outputs": [],
   "source": []
  },
  {
   "cell_type": "code",
   "execution_count": null,
   "id": "cc1a761b-1f6b-4e80-bcb0-68db5d1357b3",
   "metadata": {},
   "outputs": [],
   "source": []
  }
 ],
 "metadata": {
  "kernelspec": {
   "display_name": "Python 3 (ipykernel)",
   "language": "python",
   "name": "python3"
  },
  "language_info": {
   "codemirror_mode": {
    "name": "ipython",
    "version": 3
   },
   "file_extension": ".py",
   "mimetype": "text/x-python",
   "name": "python",
   "nbconvert_exporter": "python",
   "pygments_lexer": "ipython3",
   "version": "3.9.17"
  }
 },
 "nbformat": 4,
 "nbformat_minor": 5
}
